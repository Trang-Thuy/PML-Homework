{
  "cells": [
    {
      "cell_type": "code",
      "execution_count": null,
      "metadata": {
        "id": "SN3bGgnc0IXA"
      },
      "outputs": [],
      "source": [
        "import numpy as np\n",
        "import pandas as pd\n",
        "import matplotlib.pyplot as plt\n",
        "import seaborn as sns"
      ]
    },
    {
      "cell_type": "markdown",
      "metadata": {
        "id": "GiFF0VVv2vc5"
      },
      "source": [
        "# Đọc dữ liệu"
      ]
    },
    {
      "cell_type": "code",
      "execution_count": null,
      "metadata": {
        "id": "iFU-p28n6mvC"
      },
      "outputs": [],
      "source": [
        "# from google.colab import drive\n",
        "# drive.mount('/content/drive')"
      ]
    },
    {
      "cell_type": "code",
      "execution_count": null,
      "metadata": {
        "colab": {
          "base_uri": "https://localhost:8080/",
          "height": 206
        },
        "id": "AlHbDGTK3yd5",
        "outputId": "7e1106ac-6a35-4904-cf4d-4404f08db8d5"
      },
      "outputs": [
        {
          "output_type": "execute_result",
          "data": {
            "text/plain": [
              "   Pregnancies  Glucose  BloodPressure  SkinThickness  Insulin   BMI  \\\n",
              "0            6      148             72             35        0  33.6   \n",
              "1            1       85             66             29        0  26.6   \n",
              "2            8      183             64              0        0  23.3   \n",
              "3            1       89             66             23       94  28.1   \n",
              "4            0      137             40             35      168  43.1   \n",
              "\n",
              "   DiabetesPedigreeFunction  Age  Outcome  \n",
              "0                     0.627   50        1  \n",
              "1                     0.351   31        0  \n",
              "2                     0.672   32        1  \n",
              "3                     0.167   21        0  \n",
              "4                     2.288   33        1  "
            ],
            "text/html": [
              "\n",
              "\n",
              "  <div id=\"df-b897e62f-faa3-4e6e-9997-c6593ba0b60d\">\n",
              "    <div class=\"colab-df-container\">\n",
              "      <div>\n",
              "<style scoped>\n",
              "    .dataframe tbody tr th:only-of-type {\n",
              "        vertical-align: middle;\n",
              "    }\n",
              "\n",
              "    .dataframe tbody tr th {\n",
              "        vertical-align: top;\n",
              "    }\n",
              "\n",
              "    .dataframe thead th {\n",
              "        text-align: right;\n",
              "    }\n",
              "</style>\n",
              "<table border=\"1\" class=\"dataframe\">\n",
              "  <thead>\n",
              "    <tr style=\"text-align: right;\">\n",
              "      <th></th>\n",
              "      <th>Pregnancies</th>\n",
              "      <th>Glucose</th>\n",
              "      <th>BloodPressure</th>\n",
              "      <th>SkinThickness</th>\n",
              "      <th>Insulin</th>\n",
              "      <th>BMI</th>\n",
              "      <th>DiabetesPedigreeFunction</th>\n",
              "      <th>Age</th>\n",
              "      <th>Outcome</th>\n",
              "    </tr>\n",
              "  </thead>\n",
              "  <tbody>\n",
              "    <tr>\n",
              "      <th>0</th>\n",
              "      <td>6</td>\n",
              "      <td>148</td>\n",
              "      <td>72</td>\n",
              "      <td>35</td>\n",
              "      <td>0</td>\n",
              "      <td>33.6</td>\n",
              "      <td>0.627</td>\n",
              "      <td>50</td>\n",
              "      <td>1</td>\n",
              "    </tr>\n",
              "    <tr>\n",
              "      <th>1</th>\n",
              "      <td>1</td>\n",
              "      <td>85</td>\n",
              "      <td>66</td>\n",
              "      <td>29</td>\n",
              "      <td>0</td>\n",
              "      <td>26.6</td>\n",
              "      <td>0.351</td>\n",
              "      <td>31</td>\n",
              "      <td>0</td>\n",
              "    </tr>\n",
              "    <tr>\n",
              "      <th>2</th>\n",
              "      <td>8</td>\n",
              "      <td>183</td>\n",
              "      <td>64</td>\n",
              "      <td>0</td>\n",
              "      <td>0</td>\n",
              "      <td>23.3</td>\n",
              "      <td>0.672</td>\n",
              "      <td>32</td>\n",
              "      <td>1</td>\n",
              "    </tr>\n",
              "    <tr>\n",
              "      <th>3</th>\n",
              "      <td>1</td>\n",
              "      <td>89</td>\n",
              "      <td>66</td>\n",
              "      <td>23</td>\n",
              "      <td>94</td>\n",
              "      <td>28.1</td>\n",
              "      <td>0.167</td>\n",
              "      <td>21</td>\n",
              "      <td>0</td>\n",
              "    </tr>\n",
              "    <tr>\n",
              "      <th>4</th>\n",
              "      <td>0</td>\n",
              "      <td>137</td>\n",
              "      <td>40</td>\n",
              "      <td>35</td>\n",
              "      <td>168</td>\n",
              "      <td>43.1</td>\n",
              "      <td>2.288</td>\n",
              "      <td>33</td>\n",
              "      <td>1</td>\n",
              "    </tr>\n",
              "  </tbody>\n",
              "</table>\n",
              "</div>\n",
              "      <button class=\"colab-df-convert\" onclick=\"convertToInteractive('df-b897e62f-faa3-4e6e-9997-c6593ba0b60d')\"\n",
              "              title=\"Convert this dataframe to an interactive table.\"\n",
              "              style=\"display:none;\">\n",
              "\n",
              "  <svg xmlns=\"http://www.w3.org/2000/svg\" height=\"24px\"viewBox=\"0 0 24 24\"\n",
              "       width=\"24px\">\n",
              "    <path d=\"M0 0h24v24H0V0z\" fill=\"none\"/>\n",
              "    <path d=\"M18.56 5.44l.94 2.06.94-2.06 2.06-.94-2.06-.94-.94-2.06-.94 2.06-2.06.94zm-11 1L8.5 8.5l.94-2.06 2.06-.94-2.06-.94L8.5 2.5l-.94 2.06-2.06.94zm10 10l.94 2.06.94-2.06 2.06-.94-2.06-.94-.94-2.06-.94 2.06-2.06.94z\"/><path d=\"M17.41 7.96l-1.37-1.37c-.4-.4-.92-.59-1.43-.59-.52 0-1.04.2-1.43.59L10.3 9.45l-7.72 7.72c-.78.78-.78 2.05 0 2.83L4 21.41c.39.39.9.59 1.41.59.51 0 1.02-.2 1.41-.59l7.78-7.78 2.81-2.81c.8-.78.8-2.07 0-2.86zM5.41 20L4 18.59l7.72-7.72 1.47 1.35L5.41 20z\"/>\n",
              "  </svg>\n",
              "      </button>\n",
              "\n",
              "\n",
              "\n",
              "    <div id=\"df-5300ac4d-01b2-4229-b9d5-c7964e1d6366\">\n",
              "      <button class=\"colab-df-quickchart\" onclick=\"quickchart('df-5300ac4d-01b2-4229-b9d5-c7964e1d6366')\"\n",
              "              title=\"Suggest charts.\"\n",
              "              style=\"display:none;\">\n",
              "\n",
              "<svg xmlns=\"http://www.w3.org/2000/svg\" height=\"24px\"viewBox=\"0 0 24 24\"\n",
              "     width=\"24px\">\n",
              "    <g>\n",
              "        <path d=\"M19 3H5c-1.1 0-2 .9-2 2v14c0 1.1.9 2 2 2h14c1.1 0 2-.9 2-2V5c0-1.1-.9-2-2-2zM9 17H7v-7h2v7zm4 0h-2V7h2v10zm4 0h-2v-4h2v4z\"/>\n",
              "    </g>\n",
              "</svg>\n",
              "      </button>\n",
              "    </div>\n",
              "\n",
              "<style>\n",
              "  .colab-df-quickchart {\n",
              "    background-color: #E8F0FE;\n",
              "    border: none;\n",
              "    border-radius: 50%;\n",
              "    cursor: pointer;\n",
              "    display: none;\n",
              "    fill: #1967D2;\n",
              "    height: 32px;\n",
              "    padding: 0 0 0 0;\n",
              "    width: 32px;\n",
              "  }\n",
              "\n",
              "  .colab-df-quickchart:hover {\n",
              "    background-color: #E2EBFA;\n",
              "    box-shadow: 0px 1px 2px rgba(60, 64, 67, 0.3), 0px 1px 3px 1px rgba(60, 64, 67, 0.15);\n",
              "    fill: #174EA6;\n",
              "  }\n",
              "\n",
              "  [theme=dark] .colab-df-quickchart {\n",
              "    background-color: #3B4455;\n",
              "    fill: #D2E3FC;\n",
              "  }\n",
              "\n",
              "  [theme=dark] .colab-df-quickchart:hover {\n",
              "    background-color: #434B5C;\n",
              "    box-shadow: 0px 1px 3px 1px rgba(0, 0, 0, 0.15);\n",
              "    filter: drop-shadow(0px 1px 2px rgba(0, 0, 0, 0.3));\n",
              "    fill: #FFFFFF;\n",
              "  }\n",
              "</style>\n",
              "\n",
              "    <script>\n",
              "      async function quickchart(key) {\n",
              "        const containerElement = document.querySelector('#' + key);\n",
              "        const charts = await google.colab.kernel.invokeFunction(\n",
              "            'suggestCharts', [key], {});\n",
              "      }\n",
              "    </script>\n",
              "\n",
              "      <script>\n",
              "\n",
              "function displayQuickchartButton(domScope) {\n",
              "  let quickchartButtonEl =\n",
              "    domScope.querySelector('#df-5300ac4d-01b2-4229-b9d5-c7964e1d6366 button.colab-df-quickchart');\n",
              "  quickchartButtonEl.style.display =\n",
              "    google.colab.kernel.accessAllowed ? 'block' : 'none';\n",
              "}\n",
              "\n",
              "        displayQuickchartButton(document);\n",
              "      </script>\n",
              "      <style>\n",
              "    .colab-df-container {\n",
              "      display:flex;\n",
              "      flex-wrap:wrap;\n",
              "      gap: 12px;\n",
              "    }\n",
              "\n",
              "    .colab-df-convert {\n",
              "      background-color: #E8F0FE;\n",
              "      border: none;\n",
              "      border-radius: 50%;\n",
              "      cursor: pointer;\n",
              "      display: none;\n",
              "      fill: #1967D2;\n",
              "      height: 32px;\n",
              "      padding: 0 0 0 0;\n",
              "      width: 32px;\n",
              "    }\n",
              "\n",
              "    .colab-df-convert:hover {\n",
              "      background-color: #E2EBFA;\n",
              "      box-shadow: 0px 1px 2px rgba(60, 64, 67, 0.3), 0px 1px 3px 1px rgba(60, 64, 67, 0.15);\n",
              "      fill: #174EA6;\n",
              "    }\n",
              "\n",
              "    [theme=dark] .colab-df-convert {\n",
              "      background-color: #3B4455;\n",
              "      fill: #D2E3FC;\n",
              "    }\n",
              "\n",
              "    [theme=dark] .colab-df-convert:hover {\n",
              "      background-color: #434B5C;\n",
              "      box-shadow: 0px 1px 3px 1px rgba(0, 0, 0, 0.15);\n",
              "      filter: drop-shadow(0px 1px 2px rgba(0, 0, 0, 0.3));\n",
              "      fill: #FFFFFF;\n",
              "    }\n",
              "  </style>\n",
              "\n",
              "      <script>\n",
              "        const buttonEl =\n",
              "          document.querySelector('#df-b897e62f-faa3-4e6e-9997-c6593ba0b60d button.colab-df-convert');\n",
              "        buttonEl.style.display =\n",
              "          google.colab.kernel.accessAllowed ? 'block' : 'none';\n",
              "\n",
              "        async function convertToInteractive(key) {\n",
              "          const element = document.querySelector('#df-b897e62f-faa3-4e6e-9997-c6593ba0b60d');\n",
              "          const dataTable =\n",
              "            await google.colab.kernel.invokeFunction('convertToInteractive',\n",
              "                                                     [key], {});\n",
              "          if (!dataTable) return;\n",
              "\n",
              "          const docLinkHtml = 'Like what you see? Visit the ' +\n",
              "            '<a target=\"_blank\" href=https://colab.research.google.com/notebooks/data_table.ipynb>data table notebook</a>'\n",
              "            + ' to learn more about interactive tables.';\n",
              "          element.innerHTML = '';\n",
              "          dataTable['output_type'] = 'display_data';\n",
              "          await google.colab.output.renderOutput(dataTable, element);\n",
              "          const docLink = document.createElement('div');\n",
              "          docLink.innerHTML = docLinkHtml;\n",
              "          element.appendChild(docLink);\n",
              "        }\n",
              "      </script>\n",
              "    </div>\n",
              "  </div>\n"
            ]
          },
          "metadata": {},
          "execution_count": 266
        }
      ],
      "source": [
        "data = pd.read_csv('diabetes_data.csv')\n",
        "data.head()"
      ]
    },
    {
      "cell_type": "markdown",
      "metadata": {
        "id": "vfjSrE8o26DV"
      },
      "source": [
        "# Phân tích và tiền xử lý dữ liệu\n"
      ]
    },
    {
      "cell_type": "code",
      "execution_count": null,
      "metadata": {
        "colab": {
          "base_uri": "https://localhost:8080/"
        },
        "id": "4JN9X3Gk4K-c",
        "outputId": "f635bb2d-4e26-47a3-a267-c79403e427d4"
      },
      "outputs": [
        {
          "output_type": "stream",
          "name": "stdout",
          "text": [
            "{'Pregnancies': 0, 'Glucose': 0, 'BloodPressure': 0, 'SkinThickness': 0, 'Insulin': 0, 'BMI': 0, 'DiabetesPedigreeFunction': 0, 'Age': 0, 'Outcome': 0}\n"
          ]
        }
      ],
      "source": [
        "# liệt kê các giá trị null\n",
        "NumofNA = dict(zip(data.columns.tolist(),data.isna().sum().tolist()))\n",
        "print(NumofNA)"
      ]
    },
    {
      "cell_type": "code",
      "execution_count": null,
      "metadata": {
        "colab": {
          "base_uri": "https://localhost:8080/",
          "height": 81
        },
        "id": "VspkuYvy5n5X",
        "outputId": "49613146-ca46-4996-eae5-336c7cb8ed80"
      },
      "outputs": [
        {
          "output_type": "execute_result",
          "data": {
            "text/plain": [
              "         Pregnancies  Glucose  BloodPressure  SkinThickness  Insulin  BMI  \\\n",
              "nunique           17      136             47             51      186  248   \n",
              "\n",
              "         DiabetesPedigreeFunction  Age  Outcome  \n",
              "nunique                       517   52        2  "
            ],
            "text/html": [
              "\n",
              "\n",
              "  <div id=\"df-366bb757-2d28-4b5f-8241-6e92b2a2dd53\">\n",
              "    <div class=\"colab-df-container\">\n",
              "      <div>\n",
              "<style scoped>\n",
              "    .dataframe tbody tr th:only-of-type {\n",
              "        vertical-align: middle;\n",
              "    }\n",
              "\n",
              "    .dataframe tbody tr th {\n",
              "        vertical-align: top;\n",
              "    }\n",
              "\n",
              "    .dataframe thead th {\n",
              "        text-align: right;\n",
              "    }\n",
              "</style>\n",
              "<table border=\"1\" class=\"dataframe\">\n",
              "  <thead>\n",
              "    <tr style=\"text-align: right;\">\n",
              "      <th></th>\n",
              "      <th>Pregnancies</th>\n",
              "      <th>Glucose</th>\n",
              "      <th>BloodPressure</th>\n",
              "      <th>SkinThickness</th>\n",
              "      <th>Insulin</th>\n",
              "      <th>BMI</th>\n",
              "      <th>DiabetesPedigreeFunction</th>\n",
              "      <th>Age</th>\n",
              "      <th>Outcome</th>\n",
              "    </tr>\n",
              "  </thead>\n",
              "  <tbody>\n",
              "    <tr>\n",
              "      <th>nunique</th>\n",
              "      <td>17</td>\n",
              "      <td>136</td>\n",
              "      <td>47</td>\n",
              "      <td>51</td>\n",
              "      <td>186</td>\n",
              "      <td>248</td>\n",
              "      <td>517</td>\n",
              "      <td>52</td>\n",
              "      <td>2</td>\n",
              "    </tr>\n",
              "  </tbody>\n",
              "</table>\n",
              "</div>\n",
              "      <button class=\"colab-df-convert\" onclick=\"convertToInteractive('df-366bb757-2d28-4b5f-8241-6e92b2a2dd53')\"\n",
              "              title=\"Convert this dataframe to an interactive table.\"\n",
              "              style=\"display:none;\">\n",
              "\n",
              "  <svg xmlns=\"http://www.w3.org/2000/svg\" height=\"24px\"viewBox=\"0 0 24 24\"\n",
              "       width=\"24px\">\n",
              "    <path d=\"M0 0h24v24H0V0z\" fill=\"none\"/>\n",
              "    <path d=\"M18.56 5.44l.94 2.06.94-2.06 2.06-.94-2.06-.94-.94-2.06-.94 2.06-2.06.94zm-11 1L8.5 8.5l.94-2.06 2.06-.94-2.06-.94L8.5 2.5l-.94 2.06-2.06.94zm10 10l.94 2.06.94-2.06 2.06-.94-2.06-.94-.94-2.06-.94 2.06-2.06.94z\"/><path d=\"M17.41 7.96l-1.37-1.37c-.4-.4-.92-.59-1.43-.59-.52 0-1.04.2-1.43.59L10.3 9.45l-7.72 7.72c-.78.78-.78 2.05 0 2.83L4 21.41c.39.39.9.59 1.41.59.51 0 1.02-.2 1.41-.59l7.78-7.78 2.81-2.81c.8-.78.8-2.07 0-2.86zM5.41 20L4 18.59l7.72-7.72 1.47 1.35L5.41 20z\"/>\n",
              "  </svg>\n",
              "      </button>\n",
              "\n",
              "\n",
              "\n",
              "    <div id=\"df-33da5aeb-ee3d-4f00-9e40-dd591768c2e7\">\n",
              "      <button class=\"colab-df-quickchart\" onclick=\"quickchart('df-33da5aeb-ee3d-4f00-9e40-dd591768c2e7')\"\n",
              "              title=\"Suggest charts.\"\n",
              "              style=\"display:none;\">\n",
              "\n",
              "<svg xmlns=\"http://www.w3.org/2000/svg\" height=\"24px\"viewBox=\"0 0 24 24\"\n",
              "     width=\"24px\">\n",
              "    <g>\n",
              "        <path d=\"M19 3H5c-1.1 0-2 .9-2 2v14c0 1.1.9 2 2 2h14c1.1 0 2-.9 2-2V5c0-1.1-.9-2-2-2zM9 17H7v-7h2v7zm4 0h-2V7h2v10zm4 0h-2v-4h2v4z\"/>\n",
              "    </g>\n",
              "</svg>\n",
              "      </button>\n",
              "    </div>\n",
              "\n",
              "<style>\n",
              "  .colab-df-quickchart {\n",
              "    background-color: #E8F0FE;\n",
              "    border: none;\n",
              "    border-radius: 50%;\n",
              "    cursor: pointer;\n",
              "    display: none;\n",
              "    fill: #1967D2;\n",
              "    height: 32px;\n",
              "    padding: 0 0 0 0;\n",
              "    width: 32px;\n",
              "  }\n",
              "\n",
              "  .colab-df-quickchart:hover {\n",
              "    background-color: #E2EBFA;\n",
              "    box-shadow: 0px 1px 2px rgba(60, 64, 67, 0.3), 0px 1px 3px 1px rgba(60, 64, 67, 0.15);\n",
              "    fill: #174EA6;\n",
              "  }\n",
              "\n",
              "  [theme=dark] .colab-df-quickchart {\n",
              "    background-color: #3B4455;\n",
              "    fill: #D2E3FC;\n",
              "  }\n",
              "\n",
              "  [theme=dark] .colab-df-quickchart:hover {\n",
              "    background-color: #434B5C;\n",
              "    box-shadow: 0px 1px 3px 1px rgba(0, 0, 0, 0.15);\n",
              "    filter: drop-shadow(0px 1px 2px rgba(0, 0, 0, 0.3));\n",
              "    fill: #FFFFFF;\n",
              "  }\n",
              "</style>\n",
              "\n",
              "    <script>\n",
              "      async function quickchart(key) {\n",
              "        const containerElement = document.querySelector('#' + key);\n",
              "        const charts = await google.colab.kernel.invokeFunction(\n",
              "            'suggestCharts', [key], {});\n",
              "      }\n",
              "    </script>\n",
              "\n",
              "      <script>\n",
              "\n",
              "function displayQuickchartButton(domScope) {\n",
              "  let quickchartButtonEl =\n",
              "    domScope.querySelector('#df-33da5aeb-ee3d-4f00-9e40-dd591768c2e7 button.colab-df-quickchart');\n",
              "  quickchartButtonEl.style.display =\n",
              "    google.colab.kernel.accessAllowed ? 'block' : 'none';\n",
              "}\n",
              "\n",
              "        displayQuickchartButton(document);\n",
              "      </script>\n",
              "      <style>\n",
              "    .colab-df-container {\n",
              "      display:flex;\n",
              "      flex-wrap:wrap;\n",
              "      gap: 12px;\n",
              "    }\n",
              "\n",
              "    .colab-df-convert {\n",
              "      background-color: #E8F0FE;\n",
              "      border: none;\n",
              "      border-radius: 50%;\n",
              "      cursor: pointer;\n",
              "      display: none;\n",
              "      fill: #1967D2;\n",
              "      height: 32px;\n",
              "      padding: 0 0 0 0;\n",
              "      width: 32px;\n",
              "    }\n",
              "\n",
              "    .colab-df-convert:hover {\n",
              "      background-color: #E2EBFA;\n",
              "      box-shadow: 0px 1px 2px rgba(60, 64, 67, 0.3), 0px 1px 3px 1px rgba(60, 64, 67, 0.15);\n",
              "      fill: #174EA6;\n",
              "    }\n",
              "\n",
              "    [theme=dark] .colab-df-convert {\n",
              "      background-color: #3B4455;\n",
              "      fill: #D2E3FC;\n",
              "    }\n",
              "\n",
              "    [theme=dark] .colab-df-convert:hover {\n",
              "      background-color: #434B5C;\n",
              "      box-shadow: 0px 1px 3px 1px rgba(0, 0, 0, 0.15);\n",
              "      filter: drop-shadow(0px 1px 2px rgba(0, 0, 0, 0.3));\n",
              "      fill: #FFFFFF;\n",
              "    }\n",
              "  </style>\n",
              "\n",
              "      <script>\n",
              "        const buttonEl =\n",
              "          document.querySelector('#df-366bb757-2d28-4b5f-8241-6e92b2a2dd53 button.colab-df-convert');\n",
              "        buttonEl.style.display =\n",
              "          google.colab.kernel.accessAllowed ? 'block' : 'none';\n",
              "\n",
              "        async function convertToInteractive(key) {\n",
              "          const element = document.querySelector('#df-366bb757-2d28-4b5f-8241-6e92b2a2dd53');\n",
              "          const dataTable =\n",
              "            await google.colab.kernel.invokeFunction('convertToInteractive',\n",
              "                                                     [key], {});\n",
              "          if (!dataTable) return;\n",
              "\n",
              "          const docLinkHtml = 'Like what you see? Visit the ' +\n",
              "            '<a target=\"_blank\" href=https://colab.research.google.com/notebooks/data_table.ipynb>data table notebook</a>'\n",
              "            + ' to learn more about interactive tables.';\n",
              "          element.innerHTML = '';\n",
              "          dataTable['output_type'] = 'display_data';\n",
              "          await google.colab.output.renderOutput(dataTable, element);\n",
              "          const docLink = document.createElement('div');\n",
              "          docLink.innerHTML = docLinkHtml;\n",
              "          element.appendChild(docLink);\n",
              "        }\n",
              "      </script>\n",
              "    </div>\n",
              "  </div>\n"
            ]
          },
          "metadata": {},
          "execution_count": 268
        }
      ],
      "source": [
        "# Liệt kê các giá trị khác nhau của các cột\n",
        "data.agg(['nunique'])"
      ]
    },
    {
      "cell_type": "code",
      "execution_count": null,
      "metadata": {
        "id": "JXxQrm8X3bGZ",
        "colab": {
          "base_uri": "https://localhost:8080/"
        },
        "outputId": "ff3ec415-de47-409a-8715-6bf355bacdae"
      },
      "outputs": [
        {
          "output_type": "stream",
          "name": "stdout",
          "text": [
            "<class 'pandas.core.frame.DataFrame'>\n",
            "RangeIndex: 768 entries, 0 to 767\n",
            "Data columns (total 9 columns):\n",
            " #   Column                    Non-Null Count  Dtype  \n",
            "---  ------                    --------------  -----  \n",
            " 0   Pregnancies               768 non-null    int64  \n",
            " 1   Glucose                   768 non-null    int64  \n",
            " 2   BloodPressure             768 non-null    int64  \n",
            " 3   SkinThickness             768 non-null    int64  \n",
            " 4   Insulin                   768 non-null    int64  \n",
            " 5   BMI                       768 non-null    float64\n",
            " 6   DiabetesPedigreeFunction  768 non-null    float64\n",
            " 7   Age                       768 non-null    int64  \n",
            " 8   Outcome                   768 non-null    int64  \n",
            "dtypes: float64(2), int64(7)\n",
            "memory usage: 54.1 KB\n"
          ]
        }
      ],
      "source": [
        "data.info()"
      ]
    },
    {
      "cell_type": "code",
      "source": [
        "df = pd.read_csv('diabetes_data.csv')\n",
        "cdf = df[['Pregnancies', 'Glucose', 'BloodPressure', 'SkinThickness', 'Insulin', 'BMI', 'DiabetesPedigreeFunction', 'Age', 'Outcome']]\n",
        "\n",
        "#viz = cdf[['Pregnancies', 'Glucose', 'BloodPressure', 'SkinThickness']]\n",
        "viz = cdf [['Insulin', 'BMI', 'DiabetesPedigreeFunction', 'Age']]\n",
        "viz.hist(),\n",
        "\n",
        "plt.show()\n"
      ],
      "metadata": {
        "colab": {
          "base_uri": "https://localhost:8080/",
          "height": 452
        },
        "id": "Yjt_RAXwAkno",
        "outputId": "b66505b5-6010-4889-8cff-2450c282a13a"
      },
      "execution_count": null,
      "outputs": [
        {
          "output_type": "display_data",
          "data": {
            "text/plain": [
              "<Figure size 640x480 with 4 Axes>"
            ],
            "image/png": "[encoded data removed]"
          },
          "metadata": {}
        }
      ]
    },
    {
      "cell_type": "code",
      "source": [
        "viz = cdf[['Pregnancies', 'Glucose', 'BloodPressure', 'SkinThickness']]\n",
        "\n",
        "viz.hist(),\n",
        "\n",
        "plt.show()"
      ],
      "metadata": {
        "colab": {
          "base_uri": "https://localhost:8080/",
          "height": 452
        },
        "id": "-MhZgWnm0j2Y",
        "outputId": "7c1a9205-e240-4074-c341-d2c6e830556b"
      },
      "execution_count": null,
      "outputs": [
        {
          "output_type": "display_data",
          "data": {
            "text/plain": [
              "<Figure size 640x480 with 4 Axes>"
            ],
            "image/png": "[encoded data removed]"
          },
          "metadata": {}
        }
      ]
    },
    {
      "cell_type": "code",
      "source": [
        "sns.boxplot(y = data['Pregnancies'])"
      ],
      "metadata": {
        "colab": {
          "base_uri": "https://localhost:8080/",
          "height": 429
        },
        "id": "oM2pKj3X4yQ4",
        "outputId": "90bdd776-f278-4941-fdeb-8c016632aa3d"
      },
      "execution_count": null,
      "outputs": [
        {
          "output_type": "execute_result",
          "data": {
            "text/plain": [
              "<Axes: ylabel='Pregnancies'>"
            ]
          },
          "metadata": {},
          "execution_count": 272
        },
        {
          "output_type": "display_data",
          "data": {
            "text/plain": [
              "<Figure size 640x480 with 1 Axes>"
            ],
            "image/png": "[encoded data removed]"
          },
          "metadata": {}
        }
      ]
    },
    {
      "cell_type": "code",
      "source": [
        "# thay thế số lần mang thai lớn thành một giá trị\n",
        "data.loc[(data['Pregnancies'] > 10), 'Pregnancies'] = 10\n",
        "\n",
        "sns.boxplot(y = data['Pregnancies'])"
      ],
      "metadata": {
        "colab": {
          "base_uri": "https://localhost:8080/",
          "height": 429
        },
        "id": "4VjFW3P45DpU",
        "outputId": "d37398ea-4856-4fc2-ab2c-4bdbad49e561"
      },
      "execution_count": null,
      "outputs": [
        {
          "output_type": "execute_result",
          "data": {
            "text/plain": [
              "<Axes: ylabel='Pregnancies'>"
            ]
          },
          "metadata": {},
          "execution_count": 273
        },
        {
          "output_type": "display_data",
          "data": {
            "text/plain": [
              "<Figure size 640x480 with 1 Axes>"
            ],
            "image/png": "[encoded data removed]"
          },
          "metadata": {}
        }
      ]
    },
    {
      "cell_type": "code",
      "source": [
        "# boxplot of Glucose to check for outliers\n",
        "sns.boxplot(y = data['Glucose'])"
      ],
      "metadata": {
        "colab": {
          "base_uri": "https://localhost:8080/",
          "height": 429
        },
        "id": "0u5drO6M7ZFL",
        "outputId": "81faf3b3-6834-4dd1-cccc-86a6ad405df6"
      },
      "execution_count": null,
      "outputs": [
        {
          "output_type": "execute_result",
          "data": {
            "text/plain": [
              "<Axes: ylabel='Glucose'>"
            ]
          },
          "metadata": {},
          "execution_count": 274
        },
        {
          "output_type": "display_data",
          "data": {
            "text/plain": [
              "<Figure size 640x480 with 1 Axes>"
            ],
            "image/png": "[encoded data removed]"
          },
          "metadata": {}
        }
      ]
    },
    {
      "cell_type": "code",
      "source": [
        "data['Glucose'] = data['Glucose'].replace(0, data.Glucose.mean())\n",
        "data.loc[(data['Glucose'] < 70), 'Glucose'] = 70\n",
        "#data.loc[(data['Glucose'] > 160), 'Glucose'] = 160\n",
        "\n",
        "sns.boxplot(y = data['Glucose'])"
      ],
      "metadata": {
        "colab": {
          "base_uri": "https://localhost:8080/",
          "height": 429
        },
        "id": "F_ZSLH6s7f2Q",
        "outputId": "473e355b-14c1-4a4c-c1ca-402776353dfa"
      },
      "execution_count": null,
      "outputs": [
        {
          "output_type": "execute_result",
          "data": {
            "text/plain": [
              "<Axes: ylabel='Glucose'>"
            ]
          },
          "metadata": {},
          "execution_count": 275
        },
        {
          "output_type": "display_data",
          "data": {
            "text/plain": [
              "<Figure size 640x480 with 1 Axes>"
            ],
            "image/png": "[encoded data removed]"
          },
          "metadata": {}
        }
      ]
    },
    {
      "cell_type": "code",
      "source": [
        "# boxplot of BloodPressure to check for outliers\n",
        "sns.boxplot(y = data['BloodPressure'])"
      ],
      "metadata": {
        "colab": {
          "base_uri": "https://localhost:8080/",
          "height": 429
        },
        "id": "2LdizgR68GFR",
        "outputId": "2e66e4fd-9c6d-4d18-d6d3-91d9f6b22f78"
      },
      "execution_count": null,
      "outputs": [
        {
          "output_type": "execute_result",
          "data": {
            "text/plain": [
              "<Axes: ylabel='BloodPressure'>"
            ]
          },
          "metadata": {},
          "execution_count": 276
        },
        {
          "output_type": "display_data",
          "data": {
            "text/plain": [
              "<Figure size 640x480 with 1 Axes>"
            ],
            "image/png": "[encoded data removed]"
          },
          "metadata": {}
        }
      ]
    },
    {
      "cell_type": "code",
      "source": [
        "data['BloodPressure'] = data['BloodPressure'].replace(0, data.BloodPressure.mean())\n",
        "data.loc[(data['BloodPressure'] < 50) , 'BloodPressure'] = 50\n",
        "data.loc[(data['BloodPressure'] > 90), 'BloodPressure'] = 90\n",
        "\n",
        "sns.boxplot(y = data['BloodPressure'])"
      ],
      "metadata": {
        "colab": {
          "base_uri": "https://localhost:8080/",
          "height": 429
        },
        "id": "QxwT5XI88M7V",
        "outputId": "5463b56d-efad-44cc-805f-79c4ac4cc726"
      },
      "execution_count": null,
      "outputs": [
        {
          "output_type": "execute_result",
          "data": {
            "text/plain": [
              "<Axes: ylabel='BloodPressure'>"
            ]
          },
          "metadata": {},
          "execution_count": 277
        },
        {
          "output_type": "display_data",
          "data": {
            "text/plain": [
              "<Figure size 640x480 with 1 Axes>"
            ],
            "image/png": "[encoded data removed]"
          },
          "metadata": {}
        }
      ]
    },
    {
      "cell_type": "code",
      "source": [
        "sns.boxplot(y = data['SkinThickness'])\n"
      ],
      "metadata": {
        "colab": {
          "base_uri": "https://localhost:8080/",
          "height": 429
        },
        "id": "xmTpEShk8lRP",
        "outputId": "c87777d6-6284-4600-9e14-59ade9f99f01"
      },
      "execution_count": null,
      "outputs": [
        {
          "output_type": "execute_result",
          "data": {
            "text/plain": [
              "<Axes: ylabel='SkinThickness'>"
            ]
          },
          "metadata": {},
          "execution_count": 278
        },
        {
          "output_type": "display_data",
          "data": {
            "text/plain": [
              "<Figure size 640x480 with 1 Axes>"
            ],
            "image/png": "[encoded data removed]"
          },
          "metadata": {}
        }
      ]
    },
    {
      "cell_type": "code",
      "source": [
        "data.loc[(data['SkinThickness'] < 20), 'SkinThickness'] = 20\n",
        "data.loc[(data['SkinThickness'] > 40), 'SkinThickness'] = 40\n",
        "\n",
        "sns.boxplot(y = data['SkinThickness'])"
      ],
      "metadata": {
        "colab": {
          "base_uri": "https://localhost:8080/",
          "height": 429
        },
        "id": "9oomnV0f8oYF",
        "outputId": "a287a285-aa7a-4339-a604-11cb8ce78226"
      },
      "execution_count": null,
      "outputs": [
        {
          "output_type": "execute_result",
          "data": {
            "text/plain": [
              "<Axes: ylabel='SkinThickness'>"
            ]
          },
          "metadata": {},
          "execution_count": 279
        },
        {
          "output_type": "display_data",
          "data": {
            "text/plain": [
              "<Figure size 640x480 with 1 Axes>"
            ],
            "image/png": "[encoded data removed]"
          },
          "metadata": {}
        }
      ]
    },
    {
      "cell_type": "code",
      "source": [
        "# boxplot of Insulin to check for outliers\n",
        "sns.boxplot(y = data['Insulin'])"
      ],
      "metadata": {
        "colab": {
          "base_uri": "https://localhost:8080/",
          "height": 429
        },
        "id": "ov8S8Zrq8_8e",
        "outputId": "186e5608-75e5-4529-bf6d-c9954be66899"
      },
      "execution_count": null,
      "outputs": [
        {
          "output_type": "execute_result",
          "data": {
            "text/plain": [
              "<Axes: ylabel='Insulin'>"
            ]
          },
          "metadata": {},
          "execution_count": 280
        },
        {
          "output_type": "display_data",
          "data": {
            "text/plain": [
              "<Figure size 640x480 with 1 Axes>"
            ],
            "image/png": "[encoded data removed]"
          },
          "metadata": {}
        }
      ]
    },
    {
      "cell_type": "code",
      "source": [
        "data.loc[(data['Insulin'] > 150) , 'Insulin'] = 150\n",
        "\n",
        "sns.boxplot(y = data['Insulin'])"
      ],
      "metadata": {
        "colab": {
          "base_uri": "https://localhost:8080/",
          "height": 429
        },
        "id": "akFdbxtf9BiZ",
        "outputId": "0a90fe97-641c-4322-8622-725766cf567d"
      },
      "execution_count": null,
      "outputs": [
        {
          "output_type": "execute_result",
          "data": {
            "text/plain": [
              "<Axes: ylabel='Insulin'>"
            ]
          },
          "metadata": {},
          "execution_count": 281
        },
        {
          "output_type": "display_data",
          "data": {
            "text/plain": [
              "<Figure size 640x480 with 1 Axes>"
            ],
            "image/png": "[encoded data removed]"
          },
          "metadata": {}
        }
      ]
    },
    {
      "cell_type": "code",
      "source": [
        "# kiểm tra ngoại lệ của bmi\n",
        "sns.boxplot(y = data['BMI'])"
      ],
      "metadata": {
        "colab": {
          "base_uri": "https://localhost:8080/",
          "height": 432
        },
        "id": "RPvf-gvp9Jw0",
        "outputId": "1ed66665-8a1a-43b6-f996-1929179d06c9"
      },
      "execution_count": null,
      "outputs": [
        {
          "output_type": "execute_result",
          "data": {
            "text/plain": [
              "<Axes: ylabel='BMI'>"
            ]
          },
          "metadata": {},
          "execution_count": 282
        },
        {
          "output_type": "display_data",
          "data": {
            "text/plain": [
              "<Figure size 640x480 with 1 Axes>"
            ],
            "image/png": "[encoded data removed]"
          },
          "metadata": {}
        }
      ]
    },
    {
      "cell_type": "code",
      "source": [
        "data['BMI'] = data['BMI'].replace(0, data.BMI.mean())\n",
        "data.loc[(data['BMI'] < 15), 'BMI'] = 15\n",
        "data.loc[(data['BMI'] > 40), 'BMI'] = 40\n",
        "\n",
        "sns.boxplot(y = data['BMI'])"
      ],
      "metadata": {
        "colab": {
          "base_uri": "https://localhost:8080/",
          "height": 429
        },
        "id": "6f0Wh7DK9Q-v",
        "outputId": "92bc6e48-e0d3-4ece-e0c1-cd9290eb46da"
      },
      "execution_count": null,
      "outputs": [
        {
          "output_type": "execute_result",
          "data": {
            "text/plain": [
              "<Axes: ylabel='BMI'>"
            ]
          },
          "metadata": {},
          "execution_count": 283
        },
        {
          "output_type": "display_data",
          "data": {
            "text/plain": [
              "<Figure size 640x480 with 1 Axes>"
            ],
            "image/png": "[encoded data removed]"
          },
          "metadata": {}
        }
      ]
    },
    {
      "cell_type": "code",
      "source": [
        "sns.boxplot(y = data['DiabetesPedigreeFunction'])"
      ],
      "metadata": {
        "colab": {
          "base_uri": "https://localhost:8080/",
          "height": 429
        },
        "id": "23eXq_Aw9eJD",
        "outputId": "71e98ee3-9276-4353-cbfd-6f1ddc2ec8f0"
      },
      "execution_count": null,
      "outputs": [
        {
          "output_type": "execute_result",
          "data": {
            "text/plain": [
              "<Axes: ylabel='DiabetesPedigreeFunction'>"
            ]
          },
          "metadata": {},
          "execution_count": 284
        },
        {
          "output_type": "display_data",
          "data": {
            "text/plain": [
              "<Figure size 640x480 with 1 Axes>"
            ],
            "image/png": "[encoded data removed]"
          },
          "metadata": {}
        }
      ]
    },
    {
      "cell_type": "code",
      "source": [
        "data.loc[(data['DiabetesPedigreeFunction'] > 1), 'DiabetesPedigreeFunction'] = 1\n",
        "\n",
        "sns.boxplot(y = data['DiabetesPedigreeFunction'])"
      ],
      "metadata": {
        "colab": {
          "base_uri": "https://localhost:8080/",
          "height": 429
        },
        "id": "i7Egqnz79kpz",
        "outputId": "a921b6f3-b172-455e-8845-5d9a61e6ac92"
      },
      "execution_count": null,
      "outputs": [
        {
          "output_type": "execute_result",
          "data": {
            "text/plain": [
              "<Axes: ylabel='DiabetesPedigreeFunction'>"
            ]
          },
          "metadata": {},
          "execution_count": 285
        },
        {
          "output_type": "display_data",
          "data": {
            "text/plain": [
              "<Figure size 640x480 with 1 Axes>"
            ],
            "image/png": "[encoded data removed]"
          },
          "metadata": {}
        }
      ]
    },
    {
      "cell_type": "code",
      "source": [
        "# kiểm tra ngoại lệ của tuổi\n",
        "sns.boxplot(y = data['Age'])"
      ],
      "metadata": {
        "colab": {
          "base_uri": "https://localhost:8080/",
          "height": 429
        },
        "id": "nQyMQQ_d_D4w",
        "outputId": "651d5b02-66cb-4c4c-8525-3f4e63b79316"
      },
      "execution_count": null,
      "outputs": [
        {
          "output_type": "execute_result",
          "data": {
            "text/plain": [
              "<Axes: ylabel='Age'>"
            ]
          },
          "metadata": {},
          "execution_count": 286
        },
        {
          "output_type": "display_data",
          "data": {
            "text/plain": [
              "<Figure size 640x480 with 1 Axes>"
            ],
            "image/png": "[encoded data removed]"
          },
          "metadata": {}
        }
      ]
    },
    {
      "cell_type": "code",
      "source": [
        "data.loc[(data['Age'] > 60) , 'Age'] = 60\n",
        "\n",
        "sns.boxplot(y = data['Age'])"
      ],
      "metadata": {
        "colab": {
          "base_uri": "https://localhost:8080/",
          "height": 429
        },
        "id": "oQu2mlYH_IFd",
        "outputId": "eca0a5c0-b848-4a6e-b5c3-3cef1cbe7fcc"
      },
      "execution_count": null,
      "outputs": [
        {
          "output_type": "execute_result",
          "data": {
            "text/plain": [
              "<Axes: ylabel='Age'>"
            ]
          },
          "metadata": {},
          "execution_count": 287
        },
        {
          "output_type": "display_data",
          "data": {
            "text/plain": [
              "<Figure size 640x480 with 1 Axes>"
            ],
            "image/png": "[encoded data removed]"
          },
          "metadata": {}
        }
      ]
    },
    {
      "cell_type": "code",
      "source": [
        "cdf = data[['Pregnancies', 'Glucose', 'BloodPressure', 'SkinThickness', 'Insulin', 'BMI', 'DiabetesPedigreeFunction', 'Age', 'Outcome']]\n",
        "\n",
        "viz = cdf[['Pregnancies', 'Glucose', 'BloodPressure', 'SkinThickness']]\n",
        "#Sviz = cdf [['Insulin', 'BMI', 'DiabetesPedigreeFunction', 'Age']]\n",
        "viz.hist(),\n",
        "\n",
        "plt.show()"
      ],
      "metadata": {
        "colab": {
          "base_uri": "https://localhost:8080/",
          "height": 452
        },
        "id": "mXo42Gn7uCyS",
        "outputId": "6aa89502-f935-47d9-b10d-1bcbc98fe8f6"
      },
      "execution_count": null,
      "outputs": [
        {
          "output_type": "display_data",
          "data": {
            "text/plain": [
              "<Figure size 640x480 with 4 Axes>"
            ],
            "image/png": "[encoded data removed]"
          },
          "metadata": {}
        }
      ]
    },
    {
      "cell_type": "code",
      "source": [],
      "metadata": {
        "id": "_NAL_ZTFukLt"
      },
      "execution_count": null,
      "outputs": []
    },
    {
      "cell_type": "markdown",
      "metadata": {
        "id": "Nb8adaCxAsGy"
      },
      "source": [
        "# Scaled dữ liệu, Chia dữ liệu thành tập train và test"
      ]
    },
    {
      "cell_type": "code",
      "execution_count": null,
      "metadata": {
        "id": "4dQymRJqA7Cv"
      },
      "outputs": [],
      "source": [
        "fresh_data = data\n",
        "from sklearn.preprocessing import StandardScaler\n",
        "sc=StandardScaler()\n",
        "sc.fit(fresh_data.drop('Outcome',axis=1))\n",
        "scaled=sc.transform(fresh_data.drop('Outcome',axis=1))\n",
        "final=pd.DataFrame(scaled,columns=fresh_data.columns[:-1])"
      ]
    },
    {
      "cell_type": "code",
      "execution_count": null,
      "metadata": {
        "id": "PnxmuWVaG6w5"
      },
      "outputs": [],
      "source": [
        "from sklearn.model_selection import train_test_split\n",
        "x_train, x_test, y_train, y_test = train_test_split(final,fresh_data['Outcome'], test_size=0.2, random_state=101)"
      ]
    },
    {
      "cell_type": "markdown",
      "metadata": {
        "id": "H2Auqd6m1VxF"
      },
      "source": [
        "#Decision Tree\n",
        "------------------------------"
      ]
    },
    {
      "cell_type": "code",
      "execution_count": null,
      "metadata": {
        "id": "S_VqBkaiHySw"
      },
      "outputs": [],
      "source": [
        "from sklearn.metrics import confusion_matrix,classification_report"
      ]
    },
    {
      "cell_type": "code",
      "source": [
        "from sklearn.tree import DecisionTreeClassifier"
      ],
      "metadata": {
        "id": "YpbsKPpEIN01"
      },
      "execution_count": null,
      "outputs": []
    },
    {
      "cell_type": "code",
      "source": [
        "data.shape"
      ],
      "metadata": {
        "colab": {
          "base_uri": "https://localhost:8080/"
        },
        "id": "3anXyRj__u_S",
        "outputId": "1729f30f-23b3-4f33-e594-79302fd08773"
      },
      "execution_count": null,
      "outputs": [
        {
          "output_type": "execute_result",
          "data": {
            "text/plain": [
              "(768, 9)"
            ]
          },
          "metadata": {},
          "execution_count": 293
        }
      ]
    },
    {
      "cell_type": "code",
      "source": [
        "X = data[['Pregnancies', 'Glucose', 'BloodPressure', 'SkinThickness', 'Insulin', 'BMI', 'DiabetesPedigreeFunction', 'Age']].values\n",
        "X[0:8]\n"
      ],
      "metadata": {
        "colab": {
          "base_uri": "https://localhost:8080/"
        },
        "id": "ncRWBgc3IazI",
        "outputId": "c3b89ec8-0d72-4f69-f552-38715593ce3b"
      },
      "execution_count": null,
      "outputs": [
        {
          "output_type": "execute_result",
          "data": {
            "text/plain": [
              "array([[6.00000000e+00, 1.48000000e+02, 7.20000000e+01, 3.50000000e+01,\n",
              "        0.00000000e+00, 3.36000000e+01, 6.27000000e-01, 5.00000000e+01],\n",
              "       [1.00000000e+00, 8.50000000e+01, 6.60000000e+01, 2.90000000e+01,\n",
              "        0.00000000e+00, 2.66000000e+01, 3.51000000e-01, 3.10000000e+01],\n",
              "       [8.00000000e+00, 1.83000000e+02, 6.40000000e+01, 2.00000000e+01,\n",
              "        0.00000000e+00, 2.33000000e+01, 6.72000000e-01, 3.20000000e+01],\n",
              "       [1.00000000e+00, 8.90000000e+01, 6.60000000e+01, 2.30000000e+01,\n",
              "        9.40000000e+01, 2.81000000e+01, 1.67000000e-01, 2.10000000e+01],\n",
              "       [0.00000000e+00, 1.37000000e+02, 5.00000000e+01, 3.50000000e+01,\n",
              "        1.50000000e+02, 4.00000000e+01, 1.00000000e+00, 3.30000000e+01],\n",
              "       [5.00000000e+00, 1.16000000e+02, 7.40000000e+01, 2.00000000e+01,\n",
              "        0.00000000e+00, 2.56000000e+01, 2.01000000e-01, 3.00000000e+01],\n",
              "       [3.00000000e+00, 7.80000000e+01, 5.00000000e+01, 3.20000000e+01,\n",
              "        8.80000000e+01, 3.10000000e+01, 2.48000000e-01, 2.60000000e+01],\n",
              "       [1.00000000e+01, 1.15000000e+02, 6.91054688e+01, 2.00000000e+01,\n",
              "        0.00000000e+00, 3.53000000e+01, 1.34000000e-01, 2.90000000e+01]])"
            ]
          },
          "metadata": {},
          "execution_count": 294
        }
      ]
    },
    {
      "cell_type": "code",
      "source": [
        "# print(np.unique(X[:,1]))\n",
        "# print(np.unique(X[:,2]))\n",
        "# print(np.unique(X[:,3]))"
      ],
      "metadata": {
        "id": "ZrGQqQ4_ItAw"
      },
      "execution_count": null,
      "outputs": []
    },
    {
      "cell_type": "code",
      "source": [
        "y = data[\"Outcome\"]\n",
        "y[0:8]"
      ],
      "metadata": {
        "colab": {
          "base_uri": "https://localhost:8080/"
        },
        "id": "XvnHi4CFI37s",
        "outputId": "5724570b-ba3f-4597-d774-c67ea6872b51"
      },
      "execution_count": null,
      "outputs": [
        {
          "output_type": "execute_result",
          "data": {
            "text/plain": [
              "0    1\n",
              "1    0\n",
              "2    1\n",
              "3    0\n",
              "4    1\n",
              "5    0\n",
              "6    1\n",
              "7    0\n",
              "Name: Outcome, dtype: int64"
            ]
          },
          "metadata": {},
          "execution_count": 296
        }
      ]
    },
    {
      "cell_type": "code",
      "source": [
        "from sklearn.model_selection import train_test_split"
      ],
      "metadata": {
        "id": "dazxKoIaI786"
      },
      "execution_count": null,
      "outputs": []
    },
    {
      "cell_type": "code",
      "source": [
        "X_trainset, X_testset, y_trainset, y_testset = train_test_split(X, y, test_size=0.2, random_state=101)"
      ],
      "metadata": {
        "id": "HavwKRCVI9Yh"
      },
      "execution_count": null,
      "outputs": []
    },
    {
      "cell_type": "code",
      "source": [
        "# your code\n",
        "print(X_trainset.shape)\n",
        "print(y_trainset.shape)\n"
      ],
      "metadata": {
        "colab": {
          "base_uri": "https://localhost:8080/"
        },
        "id": "nzDU5bmtI_f_",
        "outputId": "eb352ef4-dcdd-4056-ad72-4362e896e025"
      },
      "execution_count": null,
      "outputs": [
        {
          "output_type": "stream",
          "name": "stdout",
          "text": [
            "(614, 8)\n",
            "(614,)\n"
          ]
        }
      ]
    },
    {
      "cell_type": "code",
      "source": [
        "# your code\n",
        "print(X_testset.shape)\n",
        "print(y_testset.shape)"
      ],
      "metadata": {
        "colab": {
          "base_uri": "https://localhost:8080/"
        },
        "id": "c6St7bcRJBTV",
        "outputId": "86c7a2c7-424d-4a01-b8e8-5d9c8ba4c344"
      },
      "execution_count": null,
      "outputs": [
        {
          "output_type": "stream",
          "name": "stdout",
          "text": [
            "(154, 8)\n",
            "(154,)\n"
          ]
        }
      ]
    },
    {
      "cell_type": "code",
      "source": [
        "drugTree = DecisionTreeClassifier(criterion=\"entropy\", max_depth = 2)\n",
        "drugTree\n",
        "drugTree.fit(X_trainset,y_trainset) # it shows the default parameters"
      ],
      "metadata": {
        "colab": {
          "base_uri": "https://localhost:8080/",
          "height": 74
        },
        "id": "FE8D1JooJC_P",
        "outputId": "2c830dd9-d366-4c9f-9a4b-825e22042c62"
      },
      "execution_count": null,
      "outputs": [
        {
          "output_type": "execute_result",
          "data": {
            "text/plain": [
              "DecisionTreeClassifier(criterion='entropy', max_depth=2)"
            ],
            "text/html": [
              "<style>#sk-container-id-10 {color: black;background-color: white;}#sk-container-id-10 pre{padding: 0;}#sk-container-id-10 div.sk-toggleable {background-color: white;}#sk-container-id-10 label.sk-toggleable__label {cursor: pointer;display: block;width: 100%;margin-bottom: 0;padding: 0.3em;box-sizing: border-box;text-align: center;}#sk-container-id-10 label.sk-toggleable__label-arrow:before {content: \"▸\";float: left;margin-right: 0.25em;color: #696969;}#sk-container-id-10 label.sk-toggleable__label-arrow:hover:before {color: black;}#sk-container-id-10 div.sk-estimator:hover label.sk-toggleable__label-arrow:before {color: black;}#sk-container-id-10 div.sk-toggleable__content {max-height: 0;max-width: 0;overflow: hidden;text-align: left;background-color: #f0f8ff;}#sk-container-id-10 div.sk-toggleable__content pre {margin: 0.2em;color: black;border-radius: 0.25em;background-color: #f0f8ff;}#sk-container-id-10 input.sk-toggleable__control:checked~div.sk-toggleable__content {max-height: 200px;max-width: 100%;overflow: auto;}#sk-container-id-10 input.sk-toggleable__control:checked~label.sk-toggleable__label-arrow:before {content: \"▾\";}#sk-container-id-10 div.sk-estimator input.sk-toggleable__control:checked~label.sk-toggleable__label {background-color: #d4ebff;}#sk-container-id-10 div.sk-label input.sk-toggleable__control:checked~label.sk-toggleable__label {background-color: #d4ebff;}#sk-container-id-10 input.sk-hidden--visually {border: 0;clip: rect(1px 1px 1px 1px);clip: rect(1px, 1px, 1px, 1px);height: 1px;margin: -1px;overflow: hidden;padding: 0;position: absolute;width: 1px;}#sk-container-id-10 div.sk-estimator {font-family: monospace;background-color: #f0f8ff;border: 1px dotted black;border-radius: 0.25em;box-sizing: border-box;margin-bottom: 0.5em;}#sk-container-id-10 div.sk-estimator:hover {background-color: #d4ebff;}#sk-container-id-10 div.sk-parallel-item::after {content: \"\";width: 100%;border-bottom: 1px solid gray;flex-grow: 1;}#sk-container-id-10 div.sk-label:hover label.sk-toggleable__label {background-color: #d4ebff;}#sk-container-id-10 div.sk-serial::before {content: \"\";position: absolute;border-left: 1px solid gray;box-sizing: border-box;top: 0;bottom: 0;left: 50%;z-index: 0;}#sk-container-id-10 div.sk-serial {display: flex;flex-direction: column;align-items: center;background-color: white;padding-right: 0.2em;padding-left: 0.2em;position: relative;}#sk-container-id-10 div.sk-item {position: relative;z-index: 1;}#sk-container-id-10 div.sk-parallel {display: flex;align-items: stretch;justify-content: center;background-color: white;position: relative;}#sk-container-id-10 div.sk-item::before, #sk-container-id-10 div.sk-parallel-item::before {content: \"\";position: absolute;border-left: 1px solid gray;box-sizing: border-box;top: 0;bottom: 0;left: 50%;z-index: -1;}#sk-container-id-10 div.sk-parallel-item {display: flex;flex-direction: column;z-index: 1;position: relative;background-color: white;}#sk-container-id-10 div.sk-parallel-item:first-child::after {align-self: flex-end;width: 50%;}#sk-container-id-10 div.sk-parallel-item:last-child::after {align-self: flex-start;width: 50%;}#sk-container-id-10 div.sk-parallel-item:only-child::after {width: 0;}#sk-container-id-10 div.sk-dashed-wrapped {border: 1px dashed gray;margin: 0 0.4em 0.5em 0.4em;box-sizing: border-box;padding-bottom: 0.4em;background-color: white;}#sk-container-id-10 div.sk-label label {font-family: monospace;font-weight: bold;display: inline-block;line-height: 1.2em;}#sk-container-id-10 div.sk-label-container {text-align: center;}#sk-container-id-10 div.sk-container {/* jupyter's `normalize.less` sets `[hidden] { display: none; }` but bootstrap.min.css set `[hidden] { display: none !important; }` so we also need the `!important` here to be able to override the default hidden behavior on the sphinx rendered scikit-learn.org. See: https://github.com/scikit-learn/scikit-learn/issues/21755 */display: inline-block !important;position: relative;}#sk-container-id-10 div.sk-text-repr-fallback {display: none;}</style><div id=\"sk-container-id-10\" class=\"sk-top-container\"><div class=\"sk-text-repr-fallback\"><pre>DecisionTreeClassifier(criterion=&#x27;entropy&#x27;, max_depth=2)</pre><b>In a Jupyter environment, please rerun this cell to show the HTML representation or trust the notebook. <br />On GitHub, the HTML representation is unable to render, please try loading this page with nbviewer.org.</b></div><div class=\"sk-container\" hidden><div class=\"sk-item\"><div class=\"sk-estimator sk-toggleable\"><input class=\"sk-toggleable__control sk-hidden--visually\" id=\"sk-estimator-id-10\" type=\"checkbox\" checked><label for=\"sk-estimator-id-10\" class=\"sk-toggleable__label sk-toggleable__label-arrow\">DecisionTreeClassifier</label><div class=\"sk-toggleable__content\"><pre>DecisionTreeClassifier(criterion=&#x27;entropy&#x27;, max_depth=2)</pre></div></div></div></div></div>"
            ]
          },
          "metadata": {},
          "execution_count": 301
        }
      ]
    },
    {
      "cell_type": "code",
      "source": [
        "predTree = drugTree.predict(X_testset)"
      ],
      "metadata": {
        "id": "vVO_lw8VJHF0"
      },
      "execution_count": null,
      "outputs": []
    },
    {
      "cell_type": "markdown",
      "source": [],
      "metadata": {
        "id": "A1YA39b5DFHp"
      }
    },
    {
      "cell_type": "code",
      "source": [
        "print (predTree [0:8])\n",
        "print (y_testset [0:8])"
      ],
      "metadata": {
        "colab": {
          "base_uri": "https://localhost:8080/"
        },
        "id": "-EVpQQ3uJKEb",
        "outputId": "2d377180-8a2d-4b21-a6f0-1e81d10f54d9"
      },
      "execution_count": null,
      "outputs": [
        {
          "output_type": "stream",
          "name": "stdout",
          "text": [
            "[0 1 0 0 0 1 1 0]\n",
            "766    1\n",
            "748    1\n",
            "42     0\n",
            "485    1\n",
            "543    0\n",
            "445    1\n",
            "427    1\n",
            "352    0\n",
            "Name: Outcome, dtype: int64\n"
          ]
        }
      ]
    },
    {
      "cell_type": "code",
      "source": [
        "from sklearn import metrics\n",
        "import matplotlib.pyplot as plt\n",
        "print(\"DecisionTrees's Accuracy: \", metrics.accuracy_score(y_testset, predTree))"
      ],
      "metadata": {
        "colab": {
          "base_uri": "https://localhost:8080/"
        },
        "id": "p2xdVOl6JMiA",
        "outputId": "b86d679b-ea8c-4bbd-953d-c7bf94f8bc0f"
      },
      "execution_count": null,
      "outputs": [
        {
          "output_type": "stream",
          "name": "stdout",
          "text": [
            "DecisionTrees's Accuracy:  0.7662337662337663\n"
          ]
        }
      ]
    },
    {
      "cell_type": "code",
      "source": [
        "from sklearn.ensemble import RandomForestClassifier\n",
        "clf = RandomForestClassifier(n_estimators=100, max_depth= 3,random_state=0)\n",
        "clf.fit(X_trainset, y_trainset)\n",
        "print(data.columns[0:8])\n",
        "print(clf.feature_importances_)"
      ],
      "metadata": {
        "colab": {
          "base_uri": "https://localhost:8080/"
        },
        "id": "zQ5rE2kxJOBB",
        "outputId": "2e6a5d28-c11c-47ca-bdf5-813f0cf9efeb"
      },
      "execution_count": null,
      "outputs": [
        {
          "output_type": "stream",
          "name": "stdout",
          "text": [
            "Index(['Pregnancies', 'Glucose', 'BloodPressure', 'SkinThickness', 'Insulin',\n",
            "       'BMI', 'DiabetesPedigreeFunction', 'Age'],\n",
            "      dtype='object')\n",
            "[0.07674215 0.34270785 0.04132979 0.03556207 0.05733997 0.19077683\n",
            " 0.06268661 0.19285473]\n"
          ]
        }
      ]
    },
    {
      "cell_type": "markdown",
      "source": [
        "#Random Forest"
      ],
      "metadata": {
        "id": "m-CAtz2TIMRn"
      }
    },
    {
      "cell_type": "code",
      "source": [
        "pred = clf.predict(X_testset)\n",
        "print(\"Random Forest's Accuracy: \", metrics.accuracy_score(y_testset, pred))"
      ],
      "metadata": {
        "colab": {
          "base_uri": "https://localhost:8080/"
        },
        "id": "fHMX1QzdJPoC",
        "outputId": "5b719548-2725-49c2-e1a4-e881e9ca49f3"
      },
      "execution_count": null,
      "outputs": [
        {
          "output_type": "stream",
          "name": "stdout",
          "text": [
            "Random Forest's Accuracy:  0.7597402597402597\n"
          ]
        }
      ]
    },
    {
      "cell_type": "markdown",
      "source": [],
      "metadata": {
        "id": "S2nl2TuS7wTW"
      }
    },
    {
      "cell_type": "code",
      "source": [
        "# your code here\n",
        "true = 0\n",
        "for y,yhat in zip(y_testset,predTree):\n",
        "  if y == yhat:\n",
        "    true += 1\n",
        "print(true/len(y_testset))"
      ],
      "metadata": {
        "colab": {
          "base_uri": "https://localhost:8080/"
        },
        "id": "IdHS7HwoJTKT",
        "outputId": "e2dde611-f765-4d1e-dade-af1b4ced72d9"
      },
      "execution_count": null,
      "outputs": [
        {
          "output_type": "stream",
          "name": "stdout",
          "text": [
            "0.7662337662337663\n"
          ]
        }
      ]
    },
    {
      "cell_type": "code",
      "source": [],
      "metadata": {
        "id": "zOwnwbLaIT32"
      },
      "execution_count": null,
      "outputs": []
    },
    {
      "cell_type": "markdown",
      "source": [
        "#Visualize Decision Tree\n"
      ],
      "metadata": {
        "id": "JlmwnPyXIUyp"
      }
    },
    {
      "cell_type": "code",
      "source": [
        "# Notice: You might need to uncomment and install the pydotplus and graphviz libraries if you have not installed these before\n",
        "!pip install pydotplus\n",
        "!pip install graphviz\n",
        "# !apt-get install graphviz"
      ],
      "metadata": {
        "colab": {
          "base_uri": "https://localhost:8080/"
        },
        "id": "69u9t_YqJVxK",
        "outputId": "e05a3bf6-37a7-4b3b-9532-0904a11dcedf"
      },
      "execution_count": null,
      "outputs": [
        {
          "output_type": "stream",
          "name": "stdout",
          "text": [
            "Requirement already satisfied: pydotplus in /usr/local/lib/python3.10/dist-packages (2.0.2)\n",
            "Requirement already satisfied: pyparsing>=2.0.1 in /usr/local/lib/python3.10/dist-packages (from pydotplus) (3.1.0)\n",
            "Requirement already satisfied: graphviz in /usr/local/lib/python3.10/dist-packages (0.20.1)\n"
          ]
        }
      ]
    },
    {
      "cell_type": "code",
      "source": [
        "# from sklearn.externals.six import StringIO\n",
        "from six import StringIO\n",
        "import pydotplus\n",
        "import matplotlib.image as mpimg\n",
        "from sklearn import tree\n",
        "%matplotlib inline"
      ],
      "metadata": {
        "id": "PKBPxYK4JXJN"
      },
      "execution_count": null,
      "outputs": []
    },
    {
      "cell_type": "code",
      "source": [
        "dot_data = StringIO()\n",
        "filename = \"drugtree.png\"\n",
        "featureNames =data.columns[0:8]\n",
        "targetNames = data[\"Outcome\"].unique().tolist()\n",
        "class_names= np.unique(y_trainset).astype('str').tolist()\n",
        "\n",
        "class_names\n"
      ],
      "metadata": {
        "colab": {
          "base_uri": "https://localhost:8080/"
        },
        "id": "0Q17Drn5D-vN",
        "outputId": "6c38b625-c4f9-4f81-bd68-a0d083069a12"
      },
      "execution_count": null,
      "outputs": [
        {
          "output_type": "execute_result",
          "data": {
            "text/plain": [
              "['0', '1']"
            ]
          },
          "metadata": {},
          "execution_count": 310
        }
      ]
    },
    {
      "cell_type": "code",
      "source": [
        "out=tree.export_graphviz(drugTree,feature_names=featureNames, out_file=dot_data, class_names= class_names, filled=True,  special_characters=True,rotate=False)\n",
        "graph = pydotplus.graph_from_dot_data(dot_data.getvalue())\n",
        "graph.write_png(filename)\n",
        "img = mpimg.imread(filename)\n",
        "plt.figure(figsize=(100, 200))\n",
        "plt.imshow(img,interpolation='nearest')"
      ],
      "metadata": {
        "colab": {
          "base_uri": "https://localhost:8080/",
          "height": 708
        },
        "id": "jBHVDUumEjUt",
        "outputId": "9d560896-1a84-4a07-eac5-9634a8dc5131"
      },
      "execution_count": null,
      "outputs": [
        {
          "output_type": "execute_result",
          "data": {
            "text/plain": [
              "<matplotlib.image.AxesImage at 0x7b70cacc7280>"
            ]
          },
          "metadata": {},
          "execution_count": 311
        },
        {
          "output_type": "display_data",
          "data": {
            "text/plain": [
              "<Figure size 10000x20000 with 1 Axes>"
            ],
            "image/png": "[encoded data removed]"
          },
          "metadata": {}
        }
      ]
    },
    {
      "cell_type": "code",
      "source": [],
      "metadata": {
        "id": "CiTUkrX8JVyR"
      },
      "execution_count": null,
      "outputs": []
    },
    {
      "cell_type": "markdown",
      "source": [
        "#KNN"
      ],
      "metadata": {
        "id": "JTJDetp8JWc3"
      }
    },
    {
      "cell_type": "code",
      "source": [
        "import itertools\n",
        "import numpy as np\n",
        "import matplotlib.pyplot as plt\n",
        "from matplotlib.ticker import NullFormatter\n",
        "import pandas as pd\n",
        "import numpy as np\n",
        "import matplotlib.ticker as ticker\n",
        "from sklearn import preprocessing\n",
        "%matplotlib inline"
      ],
      "metadata": {
        "id": "42YTozV-JYQO"
      },
      "execution_count": null,
      "outputs": []
    },
    {
      "cell_type": "code",
      "source": [
        "data = pd.read_csv('diabetes_data.csv')\n",
        "data.head()"
      ],
      "metadata": {
        "colab": {
          "base_uri": "https://localhost:8080/",
          "height": 206
        },
        "id": "30GH_aqgJdzV",
        "outputId": "118a5524-654c-4d04-ce7c-a8d03f3a9793"
      },
      "execution_count": null,
      "outputs": [
        {
          "output_type": "execute_result",
          "data": {
            "text/plain": [
              "   Pregnancies  Glucose  BloodPressure  SkinThickness  Insulin   BMI  \\\n",
              "0            6      148             72             35        0  33.6   \n",
              "1            1       85             66             29        0  26.6   \n",
              "2            8      183             64              0        0  23.3   \n",
              "3            1       89             66             23       94  28.1   \n",
              "4            0      137             40             35      168  43.1   \n",
              "\n",
              "   DiabetesPedigreeFunction  Age  Outcome  \n",
              "0                     0.627   50        1  \n",
              "1                     0.351   31        0  \n",
              "2                     0.672   32        1  \n",
              "3                     0.167   21        0  \n",
              "4                     2.288   33        1  "
            ],
            "text/html": [
              "\n",
              "\n",
              "  <div id=\"df-e4fe8776-2858-4b79-92e8-9b0752247b82\">\n",
              "    <div class=\"colab-df-container\">\n",
              "      <div>\n",
              "<style scoped>\n",
              "    .dataframe tbody tr th:only-of-type {\n",
              "        vertical-align: middle;\n",
              "    }\n",
              "\n",
              "    .dataframe tbody tr th {\n",
              "        vertical-align: top;\n",
              "    }\n",
              "\n",
              "    .dataframe thead th {\n",
              "        text-align: right;\n",
              "    }\n",
              "</style>\n",
              "<table border=\"1\" class=\"dataframe\">\n",
              "  <thead>\n",
              "    <tr style=\"text-align: right;\">\n",
              "      <th></th>\n",
              "      <th>Pregnancies</th>\n",
              "      <th>Glucose</th>\n",
              "      <th>BloodPressure</th>\n",
              "      <th>SkinThickness</th>\n",
              "      <th>Insulin</th>\n",
              "      <th>BMI</th>\n",
              "      <th>DiabetesPedigreeFunction</th>\n",
              "      <th>Age</th>\n",
              "      <th>Outcome</th>\n",
              "    </tr>\n",
              "  </thead>\n",
              "  <tbody>\n",
              "    <tr>\n",
              "      <th>0</th>\n",
              "      <td>6</td>\n",
              "      <td>148</td>\n",
              "      <td>72</td>\n",
              "      <td>35</td>\n",
              "      <td>0</td>\n",
              "      <td>33.6</td>\n",
              "      <td>0.627</td>\n",
              "      <td>50</td>\n",
              "      <td>1</td>\n",
              "    </tr>\n",
              "    <tr>\n",
              "      <th>1</th>\n",
              "      <td>1</td>\n",
              "      <td>85</td>\n",
              "      <td>66</td>\n",
              "      <td>29</td>\n",
              "      <td>0</td>\n",
              "      <td>26.6</td>\n",
              "      <td>0.351</td>\n",
              "      <td>31</td>\n",
              "      <td>0</td>\n",
              "    </tr>\n",
              "    <tr>\n",
              "      <th>2</th>\n",
              "      <td>8</td>\n",
              "      <td>183</td>\n",
              "      <td>64</td>\n",
              "      <td>0</td>\n",
              "      <td>0</td>\n",
              "      <td>23.3</td>\n",
              "      <td>0.672</td>\n",
              "      <td>32</td>\n",
              "      <td>1</td>\n",
              "    </tr>\n",
              "    <tr>\n",
              "      <th>3</th>\n",
              "      <td>1</td>\n",
              "      <td>89</td>\n",
              "      <td>66</td>\n",
              "      <td>23</td>\n",
              "      <td>94</td>\n",
              "      <td>28.1</td>\n",
              "      <td>0.167</td>\n",
              "      <td>21</td>\n",
              "      <td>0</td>\n",
              "    </tr>\n",
              "    <tr>\n",
              "      <th>4</th>\n",
              "      <td>0</td>\n",
              "      <td>137</td>\n",
              "      <td>40</td>\n",
              "      <td>35</td>\n",
              "      <td>168</td>\n",
              "      <td>43.1</td>\n",
              "      <td>2.288</td>\n",
              "      <td>33</td>\n",
              "      <td>1</td>\n",
              "    </tr>\n",
              "  </tbody>\n",
              "</table>\n",
              "</div>\n",
              "      <button class=\"colab-df-convert\" onclick=\"convertToInteractive('df-e4fe8776-2858-4b79-92e8-9b0752247b82')\"\n",
              "              title=\"Convert this dataframe to an interactive table.\"\n",
              "              style=\"display:none;\">\n",
              "\n",
              "  <svg xmlns=\"http://www.w3.org/2000/svg\" height=\"24px\"viewBox=\"0 0 24 24\"\n",
              "       width=\"24px\">\n",
              "    <path d=\"M0 0h24v24H0V0z\" fill=\"none\"/>\n",
              "    <path d=\"M18.56 5.44l.94 2.06.94-2.06 2.06-.94-2.06-.94-.94-2.06-.94 2.06-2.06.94zm-11 1L8.5 8.5l.94-2.06 2.06-.94-2.06-.94L8.5 2.5l-.94 2.06-2.06.94zm10 10l.94 2.06.94-2.06 2.06-.94-2.06-.94-.94-2.06-.94 2.06-2.06.94z\"/><path d=\"M17.41 7.96l-1.37-1.37c-.4-.4-.92-.59-1.43-.59-.52 0-1.04.2-1.43.59L10.3 9.45l-7.72 7.72c-.78.78-.78 2.05 0 2.83L4 21.41c.39.39.9.59 1.41.59.51 0 1.02-.2 1.41-.59l7.78-7.78 2.81-2.81c.8-.78.8-2.07 0-2.86zM5.41 20L4 18.59l7.72-7.72 1.47 1.35L5.41 20z\"/>\n",
              "  </svg>\n",
              "      </button>\n",
              "\n",
              "\n",
              "\n",
              "    <div id=\"df-6dfb27d8-e9b4-41d8-9430-b038571f4c1f\">\n",
              "      <button class=\"colab-df-quickchart\" onclick=\"quickchart('df-6dfb27d8-e9b4-41d8-9430-b038571f4c1f')\"\n",
              "              title=\"Suggest charts.\"\n",
              "              style=\"display:none;\">\n",
              "\n",
              "<svg xmlns=\"http://www.w3.org/2000/svg\" height=\"24px\"viewBox=\"0 0 24 24\"\n",
              "     width=\"24px\">\n",
              "    <g>\n",
              "        <path d=\"M19 3H5c-1.1 0-2 .9-2 2v14c0 1.1.9 2 2 2h14c1.1 0 2-.9 2-2V5c0-1.1-.9-2-2-2zM9 17H7v-7h2v7zm4 0h-2V7h2v10zm4 0h-2v-4h2v4z\"/>\n",
              "    </g>\n",
              "</svg>\n",
              "      </button>\n",
              "    </div>\n",
              "\n",
              "<style>\n",
              "  .colab-df-quickchart {\n",
              "    background-color: #E8F0FE;\n",
              "    border: none;\n",
              "    border-radius: 50%;\n",
              "    cursor: pointer;\n",
              "    display: none;\n",
              "    fill: #1967D2;\n",
              "    height: 32px;\n",
              "    padding: 0 0 0 0;\n",
              "    width: 32px;\n",
              "  }\n",
              "\n",
              "  .colab-df-quickchart:hover {\n",
              "    background-color: #E2EBFA;\n",
              "    box-shadow: 0px 1px 2px rgba(60, 64, 67, 0.3), 0px 1px 3px 1px rgba(60, 64, 67, 0.15);\n",
              "    fill: #174EA6;\n",
              "  }\n",
              "\n",
              "  [theme=dark] .colab-df-quickchart {\n",
              "    background-color: #3B4455;\n",
              "    fill: #D2E3FC;\n",
              "  }\n",
              "\n",
              "  [theme=dark] .colab-df-quickchart:hover {\n",
              "    background-color: #434B5C;\n",
              "    box-shadow: 0px 1px 3px 1px rgba(0, 0, 0, 0.15);\n",
              "    filter: drop-shadow(0px 1px 2px rgba(0, 0, 0, 0.3));\n",
              "    fill: #FFFFFF;\n",
              "  }\n",
              "</style>\n",
              "\n",
              "    <script>\n",
              "      async function quickchart(key) {\n",
              "        const containerElement = document.querySelector('#' + key);\n",
              "        const charts = await google.colab.kernel.invokeFunction(\n",
              "            'suggestCharts', [key], {});\n",
              "      }\n",
              "    </script>\n",
              "\n",
              "      <script>\n",
              "\n",
              "function displayQuickchartButton(domScope) {\n",
              "  let quickchartButtonEl =\n",
              "    domScope.querySelector('#df-6dfb27d8-e9b4-41d8-9430-b038571f4c1f button.colab-df-quickchart');\n",
              "  quickchartButtonEl.style.display =\n",
              "    google.colab.kernel.accessAllowed ? 'block' : 'none';\n",
              "}\n",
              "\n",
              "        displayQuickchartButton(document);\n",
              "      </script>\n",
              "      <style>\n",
              "    .colab-df-container {\n",
              "      display:flex;\n",
              "      flex-wrap:wrap;\n",
              "      gap: 12px;\n",
              "    }\n",
              "\n",
              "    .colab-df-convert {\n",
              "      background-color: #E8F0FE;\n",
              "      border: none;\n",
              "      border-radius: 50%;\n",
              "      cursor: pointer;\n",
              "      display: none;\n",
              "      fill: #1967D2;\n",
              "      height: 32px;\n",
              "      padding: 0 0 0 0;\n",
              "      width: 32px;\n",
              "    }\n",
              "\n",
              "    .colab-df-convert:hover {\n",
              "      background-color: #E2EBFA;\n",
              "      box-shadow: 0px 1px 2px rgba(60, 64, 67, 0.3), 0px 1px 3px 1px rgba(60, 64, 67, 0.15);\n",
              "      fill: #174EA6;\n",
              "    }\n",
              "\n",
              "    [theme=dark] .colab-df-convert {\n",
              "      background-color: #3B4455;\n",
              "      fill: #D2E3FC;\n",
              "    }\n",
              "\n",
              "    [theme=dark] .colab-df-convert:hover {\n",
              "      background-color: #434B5C;\n",
              "      box-shadow: 0px 1px 3px 1px rgba(0, 0, 0, 0.15);\n",
              "      filter: drop-shadow(0px 1px 2px rgba(0, 0, 0, 0.3));\n",
              "      fill: #FFFFFF;\n",
              "    }\n",
              "  </style>\n",
              "\n",
              "      <script>\n",
              "        const buttonEl =\n",
              "          document.querySelector('#df-e4fe8776-2858-4b79-92e8-9b0752247b82 button.colab-df-convert');\n",
              "        buttonEl.style.display =\n",
              "          google.colab.kernel.accessAllowed ? 'block' : 'none';\n",
              "\n",
              "        async function convertToInteractive(key) {\n",
              "          const element = document.querySelector('#df-e4fe8776-2858-4b79-92e8-9b0752247b82');\n",
              "          const dataTable =\n",
              "            await google.colab.kernel.invokeFunction('convertToInteractive',\n",
              "                                                     [key], {});\n",
              "          if (!dataTable) return;\n",
              "\n",
              "          const docLinkHtml = 'Like what you see? Visit the ' +\n",
              "            '<a target=\"_blank\" href=https://colab.research.google.com/notebooks/data_table.ipynb>data table notebook</a>'\n",
              "            + ' to learn more about interactive tables.';\n",
              "          element.innerHTML = '';\n",
              "          dataTable['output_type'] = 'display_data';\n",
              "          await google.colab.output.renderOutput(dataTable, element);\n",
              "          const docLink = document.createElement('div');\n",
              "          docLink.innerHTML = docLinkHtml;\n",
              "          element.appendChild(docLink);\n",
              "        }\n",
              "      </script>\n",
              "    </div>\n",
              "  </div>\n"
            ]
          },
          "metadata": {},
          "execution_count": 313
        }
      ]
    },
    {
      "cell_type": "code",
      "source": [
        "X = data[['Pregnancies', 'Glucose', 'BloodPressure', 'SkinThickness', 'Insulin', 'BMI', 'DiabetesPedigreeFunction', 'Age']].values\n",
        "X[0:8]\n"
      ],
      "metadata": {
        "colab": {
          "base_uri": "https://localhost:8080/"
        },
        "id": "UZ3B3UpVJkoS",
        "outputId": "04eb9b2e-c5b1-4974-94da-5e64dfe315e1"
      },
      "execution_count": null,
      "outputs": [
        {
          "output_type": "execute_result",
          "data": {
            "text/plain": [
              "array([[6.000e+00, 1.480e+02, 7.200e+01, 3.500e+01, 0.000e+00, 3.360e+01,\n",
              "        6.270e-01, 5.000e+01],\n",
              "       [1.000e+00, 8.500e+01, 6.600e+01, 2.900e+01, 0.000e+00, 2.660e+01,\n",
              "        3.510e-01, 3.100e+01],\n",
              "       [8.000e+00, 1.830e+02, 6.400e+01, 0.000e+00, 0.000e+00, 2.330e+01,\n",
              "        6.720e-01, 3.200e+01],\n",
              "       [1.000e+00, 8.900e+01, 6.600e+01, 2.300e+01, 9.400e+01, 2.810e+01,\n",
              "        1.670e-01, 2.100e+01],\n",
              "       [0.000e+00, 1.370e+02, 4.000e+01, 3.500e+01, 1.680e+02, 4.310e+01,\n",
              "        2.288e+00, 3.300e+01],\n",
              "       [5.000e+00, 1.160e+02, 7.400e+01, 0.000e+00, 0.000e+00, 2.560e+01,\n",
              "        2.010e-01, 3.000e+01],\n",
              "       [3.000e+00, 7.800e+01, 5.000e+01, 3.200e+01, 8.800e+01, 3.100e+01,\n",
              "        2.480e-01, 2.600e+01],\n",
              "       [1.000e+01, 1.150e+02, 0.000e+00, 0.000e+00, 0.000e+00, 3.530e+01,\n",
              "        1.340e-01, 2.900e+01]])"
            ]
          },
          "metadata": {},
          "execution_count": 314
        }
      ]
    },
    {
      "cell_type": "code",
      "source": [
        "X = preprocessing.StandardScaler().fit(X).transform(X.astype(float))\n",
        "X[0:8]"
      ],
      "metadata": {
        "colab": {
          "base_uri": "https://localhost:8080/"
        },
        "id": "1luc8jyfKcUC",
        "outputId": "4b92bebc-addf-4211-b3ec-145fd42ea6c6"
      },
      "execution_count": null,
      "outputs": [
        {
          "output_type": "execute_result",
          "data": {
            "text/plain": [
              "array([[ 0.63994726,  0.84832379,  0.14964075,  0.90726993, -0.69289057,\n",
              "         0.20401277,  0.46849198,  1.4259954 ],\n",
              "       [-0.84488505, -1.12339636, -0.16054575,  0.53090156, -0.69289057,\n",
              "        -0.68442195, -0.36506078, -0.19067191],\n",
              "       [ 1.23388019,  1.94372388, -0.26394125, -1.28821221, -0.69289057,\n",
              "        -1.10325546,  0.60439732, -0.10558415],\n",
              "       [-0.84488505, -0.99820778, -0.16054575,  0.15453319,  0.12330164,\n",
              "        -0.49404308, -0.92076261, -1.04154944],\n",
              "       [-1.14185152,  0.5040552 , -1.50468724,  0.90726993,  0.76583594,\n",
              "         1.4097456 ,  5.4849091 , -0.0204964 ],\n",
              "       [ 0.3429808 , -0.15318486,  0.25303625, -1.28821221, -0.69289057,\n",
              "        -0.81134119, -0.81807858, -0.27575966],\n",
              "       [-0.25095213, -1.34247638, -0.98770975,  0.71908574,  0.07120427,\n",
              "        -0.12597727, -0.676133  , -0.61611067],\n",
              "       [ 1.82781311, -0.184482  , -3.57259724, -1.28821221, -0.69289057,\n",
              "         0.41977549, -1.02042653, -0.36084741]])"
            ]
          },
          "metadata": {},
          "execution_count": 315
        }
      ]
    },
    {
      "cell_type": "code",
      "source": [
        "y = data['Outcome'].values"
      ],
      "metadata": {
        "id": "MxU9hzZgO43O"
      },
      "execution_count": null,
      "outputs": []
    },
    {
      "cell_type": "code",
      "source": [
        "# Your code here\n",
        "from sklearn.model_selection import train_test_split\n",
        "X_train, X_test, y_train, y_test = train_test_split(X, y, test_size=0.2, random_state = 101)\n",
        "\n",
        "# Check the shape of your train and test arrays\n",
        "print(X_train.shape, y_train.shape)\n",
        "print(X_test.shape, y_test.shape)\n"
      ],
      "metadata": {
        "colab": {
          "base_uri": "https://localhost:8080/"
        },
        "id": "mWa0Yy9eKiY2",
        "outputId": "f672793a-bbd4-42f8-ecbb-023bc12ace55"
      },
      "execution_count": null,
      "outputs": [
        {
          "output_type": "stream",
          "name": "stdout",
          "text": [
            "(614, 8) (614,)\n",
            "(154, 8) (154,)\n"
          ]
        }
      ]
    },
    {
      "cell_type": "code",
      "source": [
        "from sklearn.neighbors import KNeighborsClassifier"
      ],
      "metadata": {
        "id": "lynX9SuQKoAZ"
      },
      "execution_count": null,
      "outputs": []
    },
    {
      "cell_type": "code",
      "source": [
        "k =5\n",
        "neigh = KNeighborsClassifier(n_neighbors = k)\n",
        "neigh.fit(X_train, y_train)\n",
        "neigh"
      ],
      "metadata": {
        "colab": {
          "base_uri": "https://localhost:8080/",
          "height": 74
        },
        "id": "rjNS8iTHKo9t",
        "outputId": "3c7f3f53-8e2a-4a63-f883-127ad34d69cd"
      },
      "execution_count": null,
      "outputs": [
        {
          "output_type": "execute_result",
          "data": {
            "text/plain": [
              "KNeighborsClassifier()"
            ],
            "text/html": [
              "<style>#sk-container-id-11 {color: black;background-color: white;}#sk-container-id-11 pre{padding: 0;}#sk-container-id-11 div.sk-toggleable {background-color: white;}#sk-container-id-11 label.sk-toggleable__label {cursor: pointer;display: block;width: 100%;margin-bottom: 0;padding: 0.3em;box-sizing: border-box;text-align: center;}#sk-container-id-11 label.sk-toggleable__label-arrow:before {content: \"▸\";float: left;margin-right: 0.25em;color: #696969;}#sk-container-id-11 label.sk-toggleable__label-arrow:hover:before {color: black;}#sk-container-id-11 div.sk-estimator:hover label.sk-toggleable__label-arrow:before {color: black;}#sk-container-id-11 div.sk-toggleable__content {max-height: 0;max-width: 0;overflow: hidden;text-align: left;background-color: #f0f8ff;}#sk-container-id-11 div.sk-toggleable__content pre {margin: 0.2em;color: black;border-radius: 0.25em;background-color: #f0f8ff;}#sk-container-id-11 input.sk-toggleable__control:checked~div.sk-toggleable__content {max-height: 200px;max-width: 100%;overflow: auto;}#sk-container-id-11 input.sk-toggleable__control:checked~label.sk-toggleable__label-arrow:before {content: \"▾\";}#sk-container-id-11 div.sk-estimator input.sk-toggleable__control:checked~label.sk-toggleable__label {background-color: #d4ebff;}#sk-container-id-11 div.sk-label input.sk-toggleable__control:checked~label.sk-toggleable__label {background-color: #d4ebff;}#sk-container-id-11 input.sk-hidden--visually {border: 0;clip: rect(1px 1px 1px 1px);clip: rect(1px, 1px, 1px, 1px);height: 1px;margin: -1px;overflow: hidden;padding: 0;position: absolute;width: 1px;}#sk-container-id-11 div.sk-estimator {font-family: monospace;background-color: #f0f8ff;border: 1px dotted black;border-radius: 0.25em;box-sizing: border-box;margin-bottom: 0.5em;}#sk-container-id-11 div.sk-estimator:hover {background-color: #d4ebff;}#sk-container-id-11 div.sk-parallel-item::after {content: \"\";width: 100%;border-bottom: 1px solid gray;flex-grow: 1;}#sk-container-id-11 div.sk-label:hover label.sk-toggleable__label {background-color: #d4ebff;}#sk-container-id-11 div.sk-serial::before {content: \"\";position: absolute;border-left: 1px solid gray;box-sizing: border-box;top: 0;bottom: 0;left: 50%;z-index: 0;}#sk-container-id-11 div.sk-serial {display: flex;flex-direction: column;align-items: center;background-color: white;padding-right: 0.2em;padding-left: 0.2em;position: relative;}#sk-container-id-11 div.sk-item {position: relative;z-index: 1;}#sk-container-id-11 div.sk-parallel {display: flex;align-items: stretch;justify-content: center;background-color: white;position: relative;}#sk-container-id-11 div.sk-item::before, #sk-container-id-11 div.sk-parallel-item::before {content: \"\";position: absolute;border-left: 1px solid gray;box-sizing: border-box;top: 0;bottom: 0;left: 50%;z-index: -1;}#sk-container-id-11 div.sk-parallel-item {display: flex;flex-direction: column;z-index: 1;position: relative;background-color: white;}#sk-container-id-11 div.sk-parallel-item:first-child::after {align-self: flex-end;width: 50%;}#sk-container-id-11 div.sk-parallel-item:last-child::after {align-self: flex-start;width: 50%;}#sk-container-id-11 div.sk-parallel-item:only-child::after {width: 0;}#sk-container-id-11 div.sk-dashed-wrapped {border: 1px dashed gray;margin: 0 0.4em 0.5em 0.4em;box-sizing: border-box;padding-bottom: 0.4em;background-color: white;}#sk-container-id-11 div.sk-label label {font-family: monospace;font-weight: bold;display: inline-block;line-height: 1.2em;}#sk-container-id-11 div.sk-label-container {text-align: center;}#sk-container-id-11 div.sk-container {/* jupyter's `normalize.less` sets `[hidden] { display: none; }` but bootstrap.min.css set `[hidden] { display: none !important; }` so we also need the `!important` here to be able to override the default hidden behavior on the sphinx rendered scikit-learn.org. See: https://github.com/scikit-learn/scikit-learn/issues/21755 */display: inline-block !important;position: relative;}#sk-container-id-11 div.sk-text-repr-fallback {display: none;}</style><div id=\"sk-container-id-11\" class=\"sk-top-container\"><div class=\"sk-text-repr-fallback\"><pre>KNeighborsClassifier()</pre><b>In a Jupyter environment, please rerun this cell to show the HTML representation or trust the notebook. <br />On GitHub, the HTML representation is unable to render, please try loading this page with nbviewer.org.</b></div><div class=\"sk-container\" hidden><div class=\"sk-item\"><div class=\"sk-estimator sk-toggleable\"><input class=\"sk-toggleable__control sk-hidden--visually\" id=\"sk-estimator-id-11\" type=\"checkbox\" checked><label for=\"sk-estimator-id-11\" class=\"sk-toggleable__label sk-toggleable__label-arrow\">KNeighborsClassifier</label><div class=\"sk-toggleable__content\"><pre>KNeighborsClassifier()</pre></div></div></div></div></div>"
            ]
          },
          "metadata": {},
          "execution_count": 319
        }
      ]
    },
    {
      "cell_type": "code",
      "source": [
        "yhat = neigh.predict(X_test)\n",
        "yhat[0:5]\n"
      ],
      "metadata": {
        "colab": {
          "base_uri": "https://localhost:8080/"
        },
        "id": "qdUnym-hL4Aj",
        "outputId": "38515f6e-b023-4ae2-f04d-6098e12aa99b"
      },
      "execution_count": null,
      "outputs": [
        {
          "output_type": "execute_result",
          "data": {
            "text/plain": [
              "array([1, 1, 0, 0, 0])"
            ]
          },
          "metadata": {},
          "execution_count": 320
        }
      ]
    },
    {
      "cell_type": "code",
      "source": [
        "from sklearn import metrics\n",
        "print(\"Train set Accuracy: \", metrics.accuracy_score(y_train, neigh.predict(X_train)))\n",
        "print(\"Test set Accuracy: \", metrics.accuracy_score(y_test, yhat))"
      ],
      "metadata": {
        "colab": {
          "base_uri": "https://localhost:8080/"
        },
        "id": "GIOeA4u1L9Wo",
        "outputId": "03ee8eb4-8ce8-4df1-840c-ff50bd57405a"
      },
      "execution_count": null,
      "outputs": [
        {
          "output_type": "stream",
          "name": "stdout",
          "text": [
            "Train set Accuracy:  0.8224755700325733\n",
            "Test set Accuracy:  0.7727272727272727\n"
          ]
        }
      ]
    },
    {
      "cell_type": "code",
      "source": [
        "# Your code here\n",
        "Ks = 15\n",
        "mean_acc = np.zeros((Ks-1))\n",
        "\n",
        "# Try out different k for your kNN algorithm\n",
        "for k in range(1,Ks):\n",
        "  neigh = KNeighborsClassifier(n_neighbors=k)\n",
        "  neigh.fit(X_train,y_train)\n",
        "  mean_acc[k-1] = metrics.accuracy_score(y_test,neigh.predict(X_test))\n",
        "\n",
        "# Print the accuracy of different k\n",
        "mean_acc"
      ],
      "metadata": {
        "colab": {
          "base_uri": "https://localhost:8080/"
        },
        "id": "w7Q2zMN-MnOG",
        "outputId": "680a2e49-affd-4fd3-f7a6-35365b50a954"
      },
      "execution_count": null,
      "outputs": [
        {
          "output_type": "execute_result",
          "data": {
            "text/plain": [
              "array([0.7012987 , 0.72077922, 0.77272727, 0.77922078, 0.77272727,\n",
              "       0.77272727, 0.76623377, 0.77922078, 0.79220779, 0.80519481,\n",
              "       0.78571429, 0.78571429, 0.77272727, 0.75974026])"
            ]
          },
          "metadata": {},
          "execution_count": 322
        }
      ]
    },
    {
      "cell_type": "code",
      "source": [
        "print( \"The best accuracy was with\", mean_acc.max(), \"with k=\", mean_acc.argmax()+1)"
      ],
      "metadata": {
        "colab": {
          "base_uri": "https://localhost:8080/"
        },
        "id": "oTP7uLBBMq_u",
        "outputId": "f3d21280-5c22-47a7-c230-c5248570aec4"
      },
      "execution_count": null,
      "outputs": [
        {
          "output_type": "stream",
          "name": "stdout",
          "text": [
            "The best accuracy was with 0.8051948051948052 with k= 10\n"
          ]
        }
      ]
    },
    {
      "cell_type": "code",
      "source": [
        "from sklearn.feature_selection import RFE, RFECV\n"
      ],
      "metadata": {
        "id": "PIOo1SaXMwO6"
      },
      "execution_count": null,
      "outputs": []
    },
    {
      "cell_type": "code",
      "source": [
        "from sklearn.tree import DecisionTreeClassifier\n",
        "tree = DecisionTreeClassifier(criterion=\"entropy\", max_depth = 4)\n",
        "for i in range(2, 11):\n",
        "  selector = RFE(estimator=tree, n_features_to_select=i, step=1)\n",
        "  selector.fit(X_train, y_train)\n",
        "  print(i, metrics.accuracy_score(y_test,selector.predict(X_test)))"
      ],
      "metadata": {
        "colab": {
          "base_uri": "https://localhost:8080/"
        },
        "id": "7dwBmoksMx5n",
        "outputId": "96c86081-7958-418d-fa57-c7d498a9f4dc"
      },
      "execution_count": null,
      "outputs": [
        {
          "output_type": "stream",
          "name": "stdout",
          "text": [
            "2 0.7727272727272727\n",
            "3 0.7402597402597403\n",
            "4 0.7402597402597403\n",
            "5 0.7402597402597403\n",
            "6 0.7402597402597403\n",
            "7 0.7402597402597403\n",
            "8 0.7402597402597403\n",
            "9 0.7402597402597403\n",
            "10 0.7402597402597403\n"
          ]
        }
      ]
    },
    {
      "cell_type": "code",
      "source": [
        "selector =RFECV(tree, step=1, cv=5)\n",
        "selector.fit(X_train, y_train)\n",
        "print(metrics.accuracy_score(y_test,selector.predict(X_test)))"
      ],
      "metadata": {
        "colab": {
          "base_uri": "https://localhost:8080/"
        },
        "id": "yxQPxkmZMzHt",
        "outputId": "6faf125d-69db-453d-dcb9-bd8af35903e3"
      },
      "execution_count": null,
      "outputs": [
        {
          "output_type": "stream",
          "name": "stdout",
          "text": [
            "0.7727272727272727\n"
          ]
        }
      ]
    },
    {
      "cell_type": "code",
      "source": [
        "selector.predict"
      ],
      "metadata": {
        "colab": {
          "base_uri": "https://localhost:8080/"
        },
        "id": "RfDWSf6HM06e",
        "outputId": "8911b79b-3535-499f-96fa-f153345aa47c"
      },
      "execution_count": null,
      "outputs": [
        {
          "output_type": "execute_result",
          "data": {
            "text/plain": [
              "<bound method RFE.predict of RFECV(cv=5, estimator=DecisionTreeClassifier(criterion='entropy', max_depth=4))>"
            ]
          },
          "metadata": {},
          "execution_count": 327
        }
      ]
    },
    {
      "cell_type": "code",
      "source": [
        "metrics.accuracy_score(y_test,selector.predict(X_test))"
      ],
      "metadata": {
        "colab": {
          "base_uri": "https://localhost:8080/"
        },
        "id": "zUCsfUnJM2VV",
        "outputId": "f434ec8f-5cf5-40f2-94fa-aaa3fa7cd64f"
      },
      "execution_count": null,
      "outputs": [
        {
          "output_type": "execute_result",
          "data": {
            "text/plain": [
              "0.7727272727272727"
            ]
          },
          "metadata": {},
          "execution_count": 328
        }
      ]
    },
    {
      "cell_type": "code",
      "source": [
        "from sklearn.tree import DecisionTreeClassifier\n",
        "tree = DecisionTreeClassifier(criterion=\"entropy\", max_depth = 4)"
      ],
      "metadata": {
        "id": "6_O0Q5pPPmB4"
      },
      "execution_count": null,
      "outputs": []
    },
    {
      "cell_type": "code",
      "source": [
        "tree.fit(X_train,y_train)"
      ],
      "metadata": {
        "colab": {
          "base_uri": "https://localhost:8080/",
          "height": 74
        },
        "id": "Aw_HtC0oPn6S",
        "outputId": "36bc5bc3-df88-4a3a-9fc8-e8f18a1e4109"
      },
      "execution_count": null,
      "outputs": [
        {
          "output_type": "execute_result",
          "data": {
            "text/plain": [
              "DecisionTreeClassifier(criterion='entropy', max_depth=4)"
            ],
            "text/html": [
              "<style>#sk-container-id-12 {color: black;background-color: white;}#sk-container-id-12 pre{padding: 0;}#sk-container-id-12 div.sk-toggleable {background-color: white;}#sk-container-id-12 label.sk-toggleable__label {cursor: pointer;display: block;width: 100%;margin-bottom: 0;padding: 0.3em;box-sizing: border-box;text-align: center;}#sk-container-id-12 label.sk-toggleable__label-arrow:before {content: \"▸\";float: left;margin-right: 0.25em;color: #696969;}#sk-container-id-12 label.sk-toggleable__label-arrow:hover:before {color: black;}#sk-container-id-12 div.sk-estimator:hover label.sk-toggleable__label-arrow:before {color: black;}#sk-container-id-12 div.sk-toggleable__content {max-height: 0;max-width: 0;overflow: hidden;text-align: left;background-color: #f0f8ff;}#sk-container-id-12 div.sk-toggleable__content pre {margin: 0.2em;color: black;border-radius: 0.25em;background-color: #f0f8ff;}#sk-container-id-12 input.sk-toggleable__control:checked~div.sk-toggleable__content {max-height: 200px;max-width: 100%;overflow: auto;}#sk-container-id-12 input.sk-toggleable__control:checked~label.sk-toggleable__label-arrow:before {content: \"▾\";}#sk-container-id-12 div.sk-estimator input.sk-toggleable__control:checked~label.sk-toggleable__label {background-color: #d4ebff;}#sk-container-id-12 div.sk-label input.sk-toggleable__control:checked~label.sk-toggleable__label {background-color: #d4ebff;}#sk-container-id-12 input.sk-hidden--visually {border: 0;clip: rect(1px 1px 1px 1px);clip: rect(1px, 1px, 1px, 1px);height: 1px;margin: -1px;overflow: hidden;padding: 0;position: absolute;width: 1px;}#sk-container-id-12 div.sk-estimator {font-family: monospace;background-color: #f0f8ff;border: 1px dotted black;border-radius: 0.25em;box-sizing: border-box;margin-bottom: 0.5em;}#sk-container-id-12 div.sk-estimator:hover {background-color: #d4ebff;}#sk-container-id-12 div.sk-parallel-item::after {content: \"\";width: 100%;border-bottom: 1px solid gray;flex-grow: 1;}#sk-container-id-12 div.sk-label:hover label.sk-toggleable__label {background-color: #d4ebff;}#sk-container-id-12 div.sk-serial::before {content: \"\";position: absolute;border-left: 1px solid gray;box-sizing: border-box;top: 0;bottom: 0;left: 50%;z-index: 0;}#sk-container-id-12 div.sk-serial {display: flex;flex-direction: column;align-items: center;background-color: white;padding-right: 0.2em;padding-left: 0.2em;position: relative;}#sk-container-id-12 div.sk-item {position: relative;z-index: 1;}#sk-container-id-12 div.sk-parallel {display: flex;align-items: stretch;justify-content: center;background-color: white;position: relative;}#sk-container-id-12 div.sk-item::before, #sk-container-id-12 div.sk-parallel-item::before {content: \"\";position: absolute;border-left: 1px solid gray;box-sizing: border-box;top: 0;bottom: 0;left: 50%;z-index: -1;}#sk-container-id-12 div.sk-parallel-item {display: flex;flex-direction: column;z-index: 1;position: relative;background-color: white;}#sk-container-id-12 div.sk-parallel-item:first-child::after {align-self: flex-end;width: 50%;}#sk-container-id-12 div.sk-parallel-item:last-child::after {align-self: flex-start;width: 50%;}#sk-container-id-12 div.sk-parallel-item:only-child::after {width: 0;}#sk-container-id-12 div.sk-dashed-wrapped {border: 1px dashed gray;margin: 0 0.4em 0.5em 0.4em;box-sizing: border-box;padding-bottom: 0.4em;background-color: white;}#sk-container-id-12 div.sk-label label {font-family: monospace;font-weight: bold;display: inline-block;line-height: 1.2em;}#sk-container-id-12 div.sk-label-container {text-align: center;}#sk-container-id-12 div.sk-container {/* jupyter's `normalize.less` sets `[hidden] { display: none; }` but bootstrap.min.css set `[hidden] { display: none !important; }` so we also need the `!important` here to be able to override the default hidden behavior on the sphinx rendered scikit-learn.org. See: https://github.com/scikit-learn/scikit-learn/issues/21755 */display: inline-block !important;position: relative;}#sk-container-id-12 div.sk-text-repr-fallback {display: none;}</style><div id=\"sk-container-id-12\" class=\"sk-top-container\"><div class=\"sk-text-repr-fallback\"><pre>DecisionTreeClassifier(criterion=&#x27;entropy&#x27;, max_depth=4)</pre><b>In a Jupyter environment, please rerun this cell to show the HTML representation or trust the notebook. <br />On GitHub, the HTML representation is unable to render, please try loading this page with nbviewer.org.</b></div><div class=\"sk-container\" hidden><div class=\"sk-item\"><div class=\"sk-estimator sk-toggleable\"><input class=\"sk-toggleable__control sk-hidden--visually\" id=\"sk-estimator-id-12\" type=\"checkbox\" checked><label for=\"sk-estimator-id-12\" class=\"sk-toggleable__label sk-toggleable__label-arrow\">DecisionTreeClassifier</label><div class=\"sk-toggleable__content\"><pre>DecisionTreeClassifier(criterion=&#x27;entropy&#x27;, max_depth=4)</pre></div></div></div></div></div>"
            ]
          },
          "metadata": {},
          "execution_count": 330
        }
      ]
    },
    {
      "cell_type": "code",
      "source": [
        "predTree = tree.predict(X_test)"
      ],
      "metadata": {
        "id": "hXA7m3qrPpJy"
      },
      "execution_count": null,
      "outputs": []
    },
    {
      "cell_type": "code",
      "source": [
        "print(\"DecisionTrees's Accuracy: \", metrics.accuracy_score(y_test, predTree))"
      ],
      "metadata": {
        "colab": {
          "base_uri": "https://localhost:8080/"
        },
        "id": "KtCra2eqPqGH",
        "outputId": "d359be73-217f-43bb-990f-3cbc8458f99d"
      },
      "execution_count": null,
      "outputs": [
        {
          "output_type": "stream",
          "name": "stdout",
          "text": [
            "DecisionTrees's Accuracy:  0.7402597402597403\n"
          ]
        }
      ]
    },
    {
      "cell_type": "code",
      "source": [
        "from sklearn.ensemble import RandomForestClassifier\n",
        "clf = RandomForestClassifier(n_estimators=100, max_depth=5,random_state=0)\n",
        "clf.fit(X_train, y_train)\n",
        "pred = clf.predict(X_test)\n",
        "print(\"Random Forest's Accuracy: \", metrics.accuracy_score(y_test, pred))"
      ],
      "metadata": {
        "colab": {
          "base_uri": "https://localhost:8080/"
        },
        "id": "_9-gD-51Pr5r",
        "outputId": "465150c3-f53e-4e39-9b9e-a6eea56e61a0"
      },
      "execution_count": null,
      "outputs": [
        {
          "output_type": "stream",
          "name": "stdout",
          "text": [
            "Random Forest's Accuracy:  0.7727272727272727\n"
          ]
        }
      ]
    },
    {
      "cell_type": "code",
      "source": [],
      "metadata": {
        "id": "KHwYf3imQR6y"
      },
      "execution_count": null,
      "outputs": []
    },
    {
      "cell_type": "markdown",
      "source": [
        "#Naive Bayes\n"
      ],
      "metadata": {
        "id": "vLv2c1FRQSTN"
      }
    },
    {
      "cell_type": "code",
      "source": [
        "# Import LabelEncoder\n",
        "from sklearn import preprocessing\n",
        "import pandas as pd\n",
        "#creating labelEncoder\n",
        "le = preprocessing.LabelEncoder()"
      ],
      "metadata": {
        "id": "XsDM68EuQUqE"
      },
      "execution_count": null,
      "outputs": []
    },
    {
      "cell_type": "code",
      "source": [
        "df = pd.read_csv('diabetes_data.csv')\n",
        "age_encoded=le.fit_transform(df['Age'])\n",
        "pregnancies_encoded = le.fit_transform(df['Pregnancies'])\n",
        "glucose_encoded = le.fit_transform(df['Glucose'])\n",
        "bloodpressure_encoded = le.fit_transform(df['BloodPressure'])\n",
        "skinthick_encoded = le.fit_transform(df['SkinThickness'])\n",
        "insulin_encoded = le.fit_transform(df['Insulin'])\n",
        "bmi_encoded = le.fit_transform(df['BMI'])\n",
        "dpf_encoded = le.fit_transform(df['DiabetesPedigreeFunction'])\n",
        "\n"
      ],
      "metadata": {
        "id": "WfpNFLEPQZ97"
      },
      "execution_count": null,
      "outputs": []
    },
    {
      "cell_type": "code",
      "source": [
        "label = le.fit_transform(df['Outcome'])\n",
        "label"
      ],
      "metadata": {
        "colab": {
          "base_uri": "https://localhost:8080/"
        },
        "id": "kqjhELO4R56V",
        "outputId": "c85d3757-9b6a-4de1-aaa6-0fba4d6eed1c"
      },
      "execution_count": null,
      "outputs": [
        {
          "output_type": "execute_result",
          "data": {
            "text/plain": [
              "array([1, 0, 1, 0, 1, 0, 1, 0, 1, 1, 0, 1, 0, 1, 1, 1, 1, 1, 0, 1, 0, 0,\n",
              "       1, 1, 1, 1, 1, 0, 0, 0, 0, 1, 0, 0, 0, 0, 0, 1, 1, 1, 0, 0, 0, 1,\n",
              "       0, 1, 0, 0, 1, 0, 0, 0, 0, 1, 0, 0, 1, 0, 0, 0, 0, 1, 0, 0, 1, 0,\n",
              "       1, 0, 0, 0, 1, 0, 1, 0, 0, 0, 0, 0, 1, 0, 0, 0, 0, 0, 1, 0, 0, 0,\n",
              "       1, 0, 0, 0, 0, 1, 0, 0, 0, 0, 0, 1, 1, 0, 0, 0, 0, 0, 0, 0, 0, 1,\n",
              "       1, 1, 0, 0, 1, 1, 1, 0, 0, 0, 1, 0, 0, 0, 1, 1, 0, 0, 1, 1, 1, 1,\n",
              "       1, 0, 0, 0, 0, 0, 0, 0, 0, 0, 0, 1, 0, 0, 0, 0, 0, 0, 0, 0, 1, 0,\n",
              "       1, 1, 0, 0, 0, 1, 0, 0, 0, 0, 1, 1, 0, 0, 0, 0, 1, 1, 0, 0, 0, 1,\n",
              "       0, 1, 0, 1, 0, 0, 0, 0, 0, 1, 1, 1, 1, 1, 0, 0, 1, 1, 0, 1, 0, 1,\n",
              "       1, 1, 0, 0, 0, 0, 0, 0, 1, 1, 0, 1, 0, 0, 0, 1, 1, 1, 1, 0, 1, 1,\n",
              "       1, 1, 0, 0, 0, 0, 0, 1, 0, 0, 1, 1, 0, 0, 0, 1, 1, 1, 1, 0, 0, 0,\n",
              "       1, 1, 0, 1, 0, 0, 0, 0, 0, 0, 0, 0, 1, 1, 0, 0, 0, 1, 0, 1, 0, 0,\n",
              "       1, 0, 1, 0, 0, 1, 1, 0, 0, 0, 0, 0, 1, 0, 0, 0, 1, 0, 0, 1, 1, 0,\n",
              "       0, 1, 0, 0, 0, 1, 1, 1, 0, 0, 1, 0, 1, 0, 1, 1, 0, 1, 0, 0, 1, 0,\n",
              "       1, 1, 0, 0, 1, 0, 1, 0, 0, 1, 0, 1, 0, 1, 1, 1, 0, 0, 1, 0, 1, 0,\n",
              "       0, 0, 1, 0, 0, 0, 0, 1, 1, 1, 0, 0, 0, 0, 0, 0, 0, 0, 0, 1, 0, 0,\n",
              "       0, 0, 0, 1, 1, 1, 0, 1, 1, 0, 0, 1, 0, 0, 1, 0, 0, 1, 1, 0, 0, 0,\n",
              "       0, 1, 0, 0, 1, 0, 0, 0, 0, 0, 0, 0, 1, 1, 1, 0, 0, 1, 0, 0, 1, 0,\n",
              "       0, 1, 0, 1, 1, 0, 1, 0, 1, 0, 1, 0, 1, 1, 0, 0, 0, 0, 1, 1, 0, 1,\n",
              "       0, 1, 0, 0, 0, 0, 1, 1, 0, 1, 0, 1, 0, 0, 0, 0, 0, 1, 0, 0, 0, 0,\n",
              "       1, 0, 0, 1, 1, 1, 0, 0, 1, 0, 0, 1, 0, 0, 0, 1, 0, 0, 1, 0, 0, 0,\n",
              "       0, 0, 0, 0, 0, 0, 1, 0, 0, 0, 0, 0, 0, 0, 1, 0, 0, 0, 1, 0, 0, 0,\n",
              "       1, 1, 0, 0, 0, 0, 0, 0, 0, 1, 0, 0, 0, 0, 1, 0, 0, 0, 1, 0, 0, 0,\n",
              "       1, 0, 0, 0, 1, 0, 0, 0, 0, 1, 1, 0, 0, 0, 0, 0, 0, 1, 0, 0, 0, 0,\n",
              "       0, 0, 0, 0, 0, 0, 0, 1, 0, 0, 0, 1, 1, 1, 1, 0, 0, 1, 1, 0, 0, 0,\n",
              "       0, 0, 0, 0, 0, 0, 0, 0, 0, 0, 1, 1, 0, 0, 0, 0, 0, 0, 0, 1, 0, 0,\n",
              "       0, 0, 0, 0, 0, 1, 0, 1, 1, 0, 0, 0, 1, 0, 1, 0, 1, 0, 1, 0, 1, 0,\n",
              "       0, 1, 0, 0, 1, 0, 0, 0, 0, 1, 1, 0, 1, 0, 0, 0, 0, 1, 1, 0, 1, 0,\n",
              "       0, 0, 1, 1, 0, 0, 0, 0, 0, 0, 0, 0, 0, 0, 1, 0, 0, 0, 0, 1, 0, 0,\n",
              "       1, 0, 0, 0, 1, 0, 0, 0, 1, 1, 1, 0, 0, 0, 0, 0, 0, 1, 0, 0, 0, 1,\n",
              "       0, 1, 1, 1, 1, 0, 1, 1, 0, 0, 0, 0, 0, 0, 0, 1, 1, 0, 1, 0, 0, 1,\n",
              "       0, 1, 0, 0, 0, 0, 0, 1, 0, 1, 0, 1, 0, 1, 1, 0, 0, 0, 0, 1, 1, 0,\n",
              "       0, 0, 1, 0, 1, 1, 0, 0, 1, 0, 0, 1, 1, 0, 0, 1, 0, 0, 1, 0, 0, 0,\n",
              "       0, 0, 0, 0, 1, 1, 1, 0, 0, 0, 0, 0, 0, 1, 1, 0, 0, 1, 0, 0, 1, 0,\n",
              "       1, 1, 1, 0, 0, 1, 1, 1, 0, 1, 0, 1, 0, 1, 0, 0, 0, 0, 1, 0])"
            ]
          },
          "metadata": {},
          "execution_count": 336
        }
      ]
    },
    {
      "cell_type": "code",
      "source": [
        "features= list(zip(age_encoded, pregnancies_encoded, glucose_encoded, bloodpressure_encoded, skinthick_encoded, insulin_encoded, bmi_encoded, dpf_encoded))\n",
        "print(features)"
      ],
      "metadata": {
        "colab": {
          "base_uri": "https://localhost:8080/"
        },
        "id": "DyzY5guNQsgI",
        "outputId": "b647af36-6c90-4b67-90b7-a8ea848e10b5"
      },
      "execution_count": null,
      "outputs": [
        {
          "output_type": "stream",
          "name": "stdout",
          "text": [
            "[(29, 6, 86, 22, 28, 0, 123, 350), (10, 1, 23, 19, 22, 0, 62, 196), (11, 8, 121, 17, 0, 0, 30, 368), (0, 1, 27, 19, 16, 62, 77, 53), (12, 0, 75, 4, 28, 102, 209, 514), (9, 5, 54, 23, 0, 0, 53, 80), (5, 3, 16, 8, 25, 57, 103, 118), (8, 10, 53, 0, 0, 0, 140, 23), (32, 2, 133, 21, 38, 179, 99, 44), (33, 8, 63, 37, 0, 0, 0, 103), (9, 4, 48, 34, 0, 0, 163, 72), (13, 10, 106, 23, 0, 0, 167, 306), (36, 10, 77, 27, 0, 0, 67, 504), (38, 1, 126, 14, 16, 185, 95, 225), (30, 5, 104, 22, 12, 105, 54, 331), (11, 7, 38, 0, 0, 0, 94, 276), (10, 0, 56, 29, 40, 129, 227, 314), (10, 7, 45, 23, 0, 0, 90, 123), (12, 1, 41, 2, 31, 52, 211, 66), (11, 1, 53, 21, 23, 64, 133, 302), (6, 3, 64, 32, 34, 131, 180, 385), (29, 8, 37, 29, 0, 0, 141, 218), (20, 7, 132, 33, 0, 0, 185, 259), (8, 9, 57, 27, 28, 0, 86, 132), (30, 11, 81, 35, 26, 90, 153, 123), (20, 10, 63, 21, 19, 73, 104, 83), (22, 7, 85, 25, 0, 0, 181, 126), (1, 1, 35, 19, 8, 86, 29, 278), (36, 13, 83, 28, 12, 70, 20, 115), (17, 5, 55, 34, 0, 0, 128, 185), (39, 5, 47, 24, 19, 0, 147, 311), (7, 3, 96, 25, 29, 134, 107, 436), (1, 3, 26, 13, 4, 26, 45, 135), (7, 6, 30, 34, 0, 0, 8, 69), (24, 10, 60, 26, 24, 0, 72, 293), (12, 4, 41, 14, 26, 116, 37, 463), (14, 11, 76, 25, 0, 0, 120, 241), (25, 9, 40, 25, 30, 0, 118, 366), (6, 2, 28, 20, 35, 0, 169, 289), (35, 4, 49, 22, 40, 123, 158, 500), (5, 3, 118, 17, 18, 40, 127, 139), (16, 7, 71, 29, 0, 0, 189, 380), (27, 7, 44, 34, 11, 0, 25, 106), (33, 9, 109, 44, 17, 133, 223, 392), (19, 7, 97, 17, 0, 0, 70, 155), (4, 0, 118, 19, 32, 0, 200, 512), (8, 1, 84, 12, 0, 0, 91, 320), (1, 2, 9, 21, 20, 0, 76, 330), (10, 7, 41, 19, 25, 0, 178, 191), (3, 7, 43, 0, 0, 0, 0, 164), (1, 1, 41, 27, 4, 51, 5, 280), (5, 1, 39, 8, 8, 10, 39, 299), (9, 5, 26, 19, 14, 6, 41, 189), (37, 8, 114, 33, 27, 152, 124, 270), (21, 7, 88, 19, 35, 162, 134, 390), (0, 1, 11, 8, 3, 0, 27, 118), (20, 7, 124, 20, 32, 153, 164, 123), (10, 0, 38, 32, 48, 70, 233, 462), (23, 0, 84, 28, 0, 0, 190, 511), (1, 0, 43, 17, 34, 87, 198, 56), (0, 2, 22, 0, 0, 0, 0, 163), (18, 8, 71, 22, 0, 0, 118, 138), (15, 5, 1, 16, 0, 0, 47, 331), (3, 2, 79, 13, 27, 81, 51, 382), (21, 7, 52, 19, 0, 0, 117, 127), (11, 5, 37, 23, 20, 0, 86, 81), (17, 0, 47, 32, 23, 0, 114, 437), (33, 2, 47, 34, 0, 0, 206, 435), (4, 1, 33, 19, 6, 12, 7, 182), (6, 4, 84, 30, 20, 66, 85, 70), (7, 2, 38, 19, 13, 59, 118, 439), (5, 5, 77, 17, 28, 86, 82, 235), (21, 13, 64, 33, 0, 0, 212, 329), (2, 4, 67, 31, 13, 140, 138, 102), (1, 1, 17, 24, 23, 0, 109, 224), (1, 1, 0, 7, 13, 0, 44, 28), (20, 7, 5, 26, 0, 0, 115, 220), (6, 5, 33, 22, 26, 0, 164, 207), (5, 0, 69, 0, 0, 0, 210, 138), (3, 2, 50, 19, 15, 0, 47, 166), (1, 3, 51, 5, 6, 0, 22, 28), (1, 2, 12, 0, 0, 0, 0, 9), (15, 7, 21, 26, 19, 41, 88, 413), (1, 0, 39, 18, 21, 0, 43, 108), (16, 5, 75, 43, 0, 0, 236, 99), (6, 2, 48, 23, 22, 78, 113, 381), (24, 13, 44, 22, 46, 0, 153, 61), (5, 2, 38, 20, 18, 41, 172, 174), (22, 15, 74, 21, 25, 70, 158, 39), (3, 1, 45, 20, 12, 0, 61, 51), (0, 1, 18, 11, 0, 0, 3, 127), (13, 4, 61, 27, 8, 106, 109, 255), (21, 7, 19, 26, 33, 20, 232, 130), (39, 4, 72, 22, 0, 0, 35, 141), (0, 2, 80, 28, 11, 35, 44, 411), (19, 6, 82, 22, 20, 128, 126, 124), (3, 2, 30, 16, 21, 0, 107, 21), (1, 1, 9, 7, 11, 46, 11, 173), (2, 6, 31, 8, 23, 35, 83, 199), (10, 1, 60, 33, 44, 126, 239, 175), (12, 1, 101, 22, 0, 0, 177, 490), (1, 1, 89, 14, 0, 0, 57, 62), (0, 0, 63, 37, 0, 0, 23, 131), (3, 1, 19, 22, 11, 13, 62, 146), (6, 2, 23, 18, 0, 0, 183, 454), (0, 1, 64, 12, 22, 93, 83, 418), (6, 1, 34, 46, 0, 0, 22, 85), (16, 4, 82, 13, 21, 86, 89, 150), (4, 3, 21, 13, 24, 4, 130, 184), (3, 0, 33, 30, 18, 10, 161, 117), (3, 3, 109, 22, 26, 85, 121, 78), (25, 8, 93, 16, 19, 176, 127, 309), (2, 1, 27, 25, 27, 11, 105, 73), (4, 4, 14, 16, 0, 0, 127, 220), (18, 7, 98, 10, 25, 105, 99, 332), (40, 4, 84, 34, 0, 0, 105, 307), (17, 5, 62, 23, 0, 0, 127, 93), (4, 5, 16, 7, 0, 0, 124, 361), (1, 4, 35, 14, 16, 0, 78, 255), (0, 4, 37, 25, 8, 23, 29, 96), (4, 0, 100, 25, 47, 66, 243, 410), (3, 6, 49, 17, 32, 0, 129, 129), (2, 2, 45, 23, 23, 66, 123, 231), (48, 5, 70, 27, 0, 0, 64, 67), (2, 0, 51, 25, 0, 0, 121, 142), (5, 1, 26, 2, 35, 65, 244, 283), (9, 3, 58, 21, 23, 85, 208, 260), (2, 1, 56, 13, 29, 62, 121, 130), (19, 1, 55, 32, 17, 89, 132, 230), (41, 0, 43, 29, 0, 0, 75, 403), (12, 4, 111, 21, 7, 102, 91, 201), (12, 9, 60, 12, 0, 0, 121, 477), (9, 3, 108, 17, 30, 127, 132, 199), (18, 8, 22, 23, 24, 0, 170, 264), (5, 2, 34, 20, 6, 21, 14, 358), (10, 2, 63, 14, 13, 86, 125, 3), (0, 0, 38, 21, 19, 22, 101, 336), (1, 0, 31, 14, 18, 61, 83, 303), (8, 0, 67, 27, 0, 0, 105, 384), (7, 5, 43, 22, 22, 157, 156, 45), (34, 3, 66, 26, 0, 0, 14, 136), (17, 5, 44, 28, 23, 0, 182, 149), (1, 2, 46, 9, 19, 34, 114, 171), (21, 10, 46, 19, 0, 0, 113, 140), (2, 4, 92, 16, 24, 148, 117, 108), (0, 0, 40, 24, 16, 0, 0, 324), (20, 9, 3, 27, 30, 0, 117, 6), (13, 2, 44, 17, 28, 75, 99, 503), (44, 5, 85, 26, 0, 0, 124, 91), (1, 2, 28, 21, 10, 0, 69, 2), (3, 1, 74, 23, 43, 121, 161, 226), (16, 4, 52, 18, 0, 0, 18, 249), (21, 9, 94, 31, 21, 94, 130, 487), (2, 1, 91, 28, 35, 175, 191, 376), (22, 8, 125, 26, 0, 0, 234, 26), (15, 7, 90, 32, 37, 0, 240, 185), (0, 2, 37, 9, 8, 62, 43, 354), (2, 1, 47, 12, 14, 85, 49, 432), (1, 2, 26, 23, 12, 25, 86, 100), (26, 16, 101, 22, 34, 72, 194, 425), (15, 4, 89, 33, 31, 0, 91, 155), (24, 7, 40, 23, 33, 67, 159, 82), (6, 0, 52, 27, 27, 149, 217, 53), (0, 2, 38, 17, 16, 0, 91, 206), (11, 0, 69, 32, 0, 0, 107, 405), (20, 6, 42, 23, 11, 95, 93, 393), (1, 3, 86, 19, 18, 0, 114, 125), (13, 4, 58, 20, 0, 0, 90, 387), (8, 4, 48, 19, 0, 0, 108, 271), (8, 3, 49, 33, 5, 48, 80, 282), (15, 6, 40, 28, 0, 0, 101, 63), (8, 6, 72, 21, 16, 83, 141, 308), (4, 2, 25, 0, 16, 0, 85, 415), (2, 1, 17, 14, 35, 20, 213, 372), (12, 2, 13, 17, 17, 27, 91, 207), (15, 8, 117, 22, 35, 83, 116, 391), (21, 6, 23, 26, 0, 0, 105, 215), (5, 0, 67, 44, 39, 83, 247, 172), (26, 5, 81, 26, 0, 0, 220, 71), (16, 5, 68, 28, 0, 0, 178, 461), (11, 6, 25, 27, 0, 0, 29, 1), (2, 0, 57, 17, 11, 61, 136, 394), (0, 1, 0, 23, 13, 6, 73, 159), (6, 5, 11, 14, 0, 0, 64, 136), (19, 4, 79, 23, 0, 0, 72, 114), (20, 7, 130, 20, 21, 0, 146, 407), (39, 8, 119, 20, 29, 176, 95, 346), (12, 1, 66, 38, 34, 30, 109, 498), (10, 8, 47, 25, 32, 72, 75, 355), (4, 5, 77, 27, 28, 98, 107, 201), (0, 3, 49, 16, 0, 0, 24, 30), (19, 9, 61, 21, 37, 62, 119, 209), (15, 7, 97, 19, 0, 0, 98, 216), (19, 11, 73, 0, 0, 0, 241, 326), (21, 8, 23, 11, 13, 0, 41, 25), (8, 5, 96, 29, 34, 124, 181, 223), (0, 1, 43, 13, 0, 0, 40, 68), (2, 3, 45, 16, 6, 20, 26, 372), (5, 4, 47, 17, 37, 65, 135, 450), (8, 4, 86, 14, 20, 155, 102, 37), (0, 0, 51, 27, 9, 0, 103, 441), (7, 1, 76, 28, 0, 0, 188, 107), (11, 0, 46, 20, 13, 0, 69, 417), (6, 2, 37, 21, 9, 17, 11, 106), (34, 6, 41, 22, 25, 114, 164, 174), (6, 5, 49, 22, 21, 0, 36, 232), (36, 8, 132, 25, 22, 147, 162, 340), (31, 5, 100, 41, 0, 0, 164, 38), (0, 1, 34, 17, 20, 56, 120, 151), (20, 7, 122, 29, 26, 0, 142, 198), (4, 2, 19, 14, 15, 0, 73, 152), (3, 0, 85, 30, 46, 0, 207, 210), (39, 7, 117, 36, 24, 0, 129, 50), (3, 0, 78, 18, 19, 83, 205, 248), (15, 9, 50, 28, 25, 105, 129, 129), (17, 12, 89, 21, 33, 141, 199, 404), (4, 5, 47, 16, 34, 82, 145, 294), (11, 6, 63, 20, 23, 76, 94, 267), (11, 5, 23, 23, 15, 0, 86, 491), (20, 5, 50, 19, 0, 0, 165, 130), (0, 0, 115, 14, 22, 173, 133, 472), (45, 2, 96, 33, 0, 0, 107, 421), (16, 7, 57, 0, 0, 0, 49, 86), (40, 7, 80, 14, 26, 114, 84, 376), (5, 1, 38, 19, 8, 28, 33, 367), (1, 1, 25, 26, 20, 9, 133, 8), (5, 0, 39, 25, 0, 0, 144, 77), (3, 3, 100, 9, 31, 0, 159, 360), (10, 4, 133, 21, 32, 184, 154, 515), (3, 0, 55, 27, 24, 25, 221, 4), (1, 4, 80, 31, 0, 0, 215, 356), (25, 6, 72, 27, 30, 164, 229, 109), (1, 1, 17, 27, 18, 11, 51, 329), (8, 4, 60, 20, 0, 0, 137, 222), (2, 3, 12, 20, 21, 18, 91, 154), (5, 4, 109, 22, 0, 0, 214, 273), (30, 7, 119, 29, 14, 116, 146, 330), (2, 0, 117, 33, 20, 0, 216, 375), (11, 9, 102, 29, 14, 0, 101, 430), (6, 0, 42, 25, 0, 0, 2, 328), (0, 1, 29, 17, 17, 0, 87, 73), (1, 4, 29, 21, 25, 57, 119, 257), (1, 3, 77, 10, 0, 0, 53, 229), (12, 6, 57, 8, 15, 106, 67, 497), (8, 2, 84, 25, 28, 118, 169, 178), (28, 9, 122, 30, 8, 0, 94, 489), (20, 10, 60, 20, 0, 0, 105, 127), (2, 0, 103, 33, 26, 183, 241, 246), (13, 9, 62, 21, 26, 168, 141, 145), (2, 1, 49, 31, 12, 0, 95, 31), (21, 9, 44, 9, 0, 0, 105, 213), (6, 2, 67, 29, 0, 0, 76, 147), (3, 2, 28, 27, 7, 27, 41, 119), (4, 0, 24, 20, 25, 0, 145, 109), (23, 12, 30, 16, 1, 138, 72, 453), (0, 1, 51, 17, 28, 0, 123, 309), (9, 3, 49, 12, 32, 0, 95, 316), (4, 2, 52, 20, 15, 0, 83, 5), (3, 1, 129, 8, 9, 165, 55, 362), (30, 11, 93, 25, 21, 92, 121, 499), (13, 3, 128, 20, 8, 83, 102, 159), (6, 3, 79, 0, 0, 0, 94, 411), (3, 4, 33, 21, 25, 0, 110, 343), (42, 3, 80, 27, 8, 0, 113, 79), (14, 4, 61, 16, 0, 0, 109, 98), (22, 5, 34, 23, 11, 38, 123, 466), (4, 0, 76, 0, 0, 0, 150, 456), (3, 2, 66, 17, 35, 0, 187, 476), (0, 0, 40, 9, 0, 0, 48, 0), (7, 2, 84, 0, 0, 0, 71, 111), (17, 10, 39, 31, 30, 0, 225, 479), (0, 2, 46, 16, 25, 28, 49, 19), (19, 3, 60, 26, 0, 0, 27, 123), (0, 1, 9, 26, 43, 18, 120, 243), (31, 13, 44, 21, 0, 0, 129, 120), (4, 2, 38, 21, 45, 29, 190, 371), (8, 7, 44, 14, 17, 0, 61, 157), (2, 0, 42, 17, 16, 74, 74, 262), (36, 5, 52, 23, 0, 0, 46, 406), (1, 2, 46, 16, 3, 146, 50, 445), (7, 0, 84, 21, 0, 0, 166, 182), (18, 10, 67, 25, 21, 77, 146, 144), (16, 7, 71, 32, 8, 94, 113, 131), (26, 7, 99, 31, 0, 0, 98, 51), (31, 2, 46, 27, 0, 0, 66, 128), (30, 7, 74, 23, 19, 85, 56, 358), (13, 5, 93, 29, 37, 180, 174, 347), (8, 1, 57, 31, 32, 126, 225, 422), (5, 4, 34, 12, 10, 21, 12, 187), (12, 5, 46, 22, 36, 45, 148, 132), (0, 0, 16, 32, 22, 13, 156, 251), (4, 0, 45, 16, 23, 44, 153, 409), (10, 2, 66, 26, 30, 109, 211, 491), (3, 1, 66, 7, 38, 118, 190, 344), (44, 0, 99, 8, 0, 0, 18, 123), (7, 6, 89, 16, 24, 76, 142, 377), (8, 2, 84, 21, 31, 163, 76, 185), (3, 0, 64, 29, 22, 125, 100, 297), (25, 14, 38, 26, 18, 111, 153, 236), (37, 8, 50, 22, 0, 0, 33, 434), (9, 0, 105, 0, 0, 0, 112, 433), (4, 2, 82, 13, 26, 85, 107, 243), (14, 5, 15, 28, 34, 15, 145, 42), (7, 5, 53, 38, 0, 0, 242, 86), (16, 3, 88, 25, 0, 0, 13, 85), (8, 2, 58, 25, 30, 67, 184, 89), (26, 10, 99, 20, 16, 84, 52, 176), (0, 0, 75, 20, 7, 91, 45, 31), (4, 0, 66, 20, 12, 108, 99, 501), (9, 2, 62, 20, 21, 122, 118, 442), (20, 6, 18, 19, 23, 0, 58, 167), (1, 0, 44, 21, 30, 91, 181, 340), (6, 2, 93, 23, 10, 64, 62, 250), (4, 3, 51, 8, 3, 54, 89, 349), (22, 7, 47, 27, 24, 0, 146, 478), (5, 2, 50, 20, 15, 62, 128, 169), (9, 3, 37, 27, 4, 35, 4, 147), (8, 3, 120, 23, 0, 0, 99, 192), (7, 3, 53, 19, 32, 86, 168, 37), (38, 6, 130, 26, 0, 0, 32, 20), (10, 4, 67, 14, 5, 130, 71, 300), (4, 3, 50, 23, 23, 0, 107, 76), (15, 0, 62, 21, 13, 0, 70, 123), (22, 13, 90, 33, 26, 8, 64, 397), (0, 2, 50, 24, 25, 0, 144, 35), (3, 1, 95, 22, 14, 102, 53, 16), (9, 1, 60, 17, 25, 95, 138, 377), (16, 10, 117, 21, 0, 0, 138, 79), (2, 2, 40, 31, 29, 76, 224, 18), (16, 6, 43, 21, 25, 39, 101, 15), (25, 8, 56, 22, 12, 0, 28, 506), (4, 2, 25, 13, 9, 24, 116, 52), (20, 1, 118, 0, 0, 0, 211, 145), (23, 12, 44, 27, 0, 0, 33, 26), (1, 1, 33, 14, 11, 30, 36, 129), (5, 0, 103, 25, 36, 137, 234, 128), (23, 0, 55, 0, 0, 0, 125, 455), (23, 5, 53, 25, 0, 0, 105, 190), (12, 9, 90, 26, 27, 104, 129, 448), (20, 7, 116, 29, 0, 0, 186, 180), (1, 1, 68, 21, 6, 67, 55, 272), (15, 1, 33, 23, 14, 43, 55, 369), (1, 1, 0, 20, 28, 0, 109, 219), (12, 5, 60, 31, 0, 0, 134, 152), (36, 8, 33, 22, 0, 0, 155, 277), (28, 8, 64, 32, 29, 69, 172, 195), (1, 1, 77, 6, 12, 52, 83, 361), (2, 3, 54, 0, 0, 0, 32, 68), (5, 3, 37, 16, 12, 44, 17, 143), (16, 5, 0, 27, 25, 0, 195, 193), (8, 4, 30, 27, 0, 0, 202, 108), (9, 4, 75, 29, 0, 0, 105, 121), (25, 3, 4, 28, 21, 0, 131, 113), (3, 1, 28, 16, 5, 16, 68, 327), (0, 3, 28, 26, 0, 0, 206, 317), (28, 9, 103, 32, 0, 0, 98, 161), (7, 1, 63, 8, 33, 101, 121, 462), (23, 13, 67, 0, 23, 0, 186, 322), (27, 12, 26, 23, 33, 26, 140, 212), (8, 1, 132, 25, 29, 135, 152, 442), (8, 5, 126, 17, 26, 157, 105, 329), (42, 5, 96, 21, 0, 0, 92, 85), (44, 5, 41, 43, 30, 0, 179, 164), (46, 4, 84, 26, 0, 0, 172, 297), (9, 4, 85, 23, 18, 151, 136, 217), (9, 5, 37, 10, 21, 52, 127, 286), (8, 6, 62, 22, 0, 0, 72, 206), (0, 0, 39, 17, 10, 0, 13, 121), (1, 3, 19, 31, 9, 37, 71, 165), (24, 1, 71, 40, 21, 86, 117, 105), (4, 3, 111, 28, 41, 171, 171, 513), (0, 0, 56, 17, 16, 58, 0, 510), (0, 0, 22, 17, 15, 37, 145, 310), (4, 2, 43, 13, 33, 62, 136, 97), (7, 2, 60, 9, 36, 96, 149, 424), (37, 12, 78, 28, 36, 157, 179, 301), (1, 0, 36, 28, 8, 53, 49, 159), (1, 1, 25, 14, 30, 45, 159, 291), (11, 4, 94, 24, 0, 0, 235, 109), (14, 0, 31, 39, 32, 42, 212, 468), (3, 1, 45, 22, 23, 51, 101, 426), (1, 0, 43, 20, 15, 0, 9, 107), (0, 1, 47, 14, 2, 109, 51, 458), (4, 1, 28, 16, 11, 31, 48, 494), (4, 1, 63, 21, 17, 70, 40, 94), (3, 1, 57, 10, 6, 22, 21, 83), (14, 5, 54, 23, 22, 0, 112, 364), (24, 8, 43, 39, 29, 0, 211, 110), (37, 5, 82, 28, 19, 149, 109, 260), (7, 3, 38, 20, 16, 50, 107, 459), (21, 1, 38, 19, 22, 119, 109, 256), (6, 5, 104, 25, 0, 0, 226, 187), (0, 1, 69, 17, 7, 169, 34, 219), (16, 4, 54, 22, 5, 56, 19, 266), (10, 4, 96, 26, 0, 0, 118, 419), (4, 2, 65, 13, 17, 144, 73, 507), (18, 3, 34, 12, 27, 73, 44, 457), (1, 0, 69, 19, 33, 0, 130, 75), (4, 3, 20, 21, 0, 0, 14, 219), (4, 3, 129, 21, 24, 0, 136, 112), (10, 4, 33, 17, 0, 0, 109, 47), (34, 6, 75, 15, 0, 0, 39, 38), (14, 5, 74, 29, 34, 57, 137, 149), (17, 9, 10, 26, 18, 0, 107, 144), (20, 5, 106, 17, 0, 0, 118, 24), (5, 2, 61, 7, 25, 99, 201, 297), (25, 4, 53, 22, 0, 0, 85, 211), (4, 0, 39, 16, 0, 0, 18, 184), (18, 8, 133, 23, 0, 0, 55, 488), (7, 1, 110, 20, 42, 181, 204, 383), (7, 6, 40, 33, 32, 0, 144, 370), (4, 1, 50, 22, 23, 106, 131, 301), (1, 1, 81, 29, 16, 154, 204, 473), (0, 1, 81, 23, 15, 33, 58, 125), (0, 0, 76, 14, 28, 101, 133, 304), (1, 3, 111, 29, 26, 172, 144, 127), (1, 1, 35, 20, 14, 0, 68, 474), (16, 4, 82, 28, 25, 0, 172, 315), (6, 1, 21, 20, 0, 0, 1, 348), (7, 3, 67, 17, 22, 73, 60, 92), (5, 1, 57, 32, 34, 103, 222, 290), (0, 2, 32, 20, 11, 46, 56, 319), (0, 0, 40, 17, 39, 48, 191, 283), (0, 2, 53, 17, 15, 0, 101, 242), (15, 8, 89, 26, 25, 124, 208, 296), (10, 4, 122, 26, 32, 145, 157, 133), (4, 0, 32, 0, 0, 0, 0, 125), (17, 1, 119, 17, 23, 108, 128, 177), (5, 0, 73, 35, 39, 89, 191, 147), (22, 1, 33, 28, 18, 108, 137, 104), (2, 2, 37, 0, 0, 0, 20, 11), (17, 3, 27, 23, 9, 54, 98, 314), (1, 1, 18, 23, 4, 32, 94, 300), (8, 2, 77, 24, 0, 0, 53, 53), (15, 1, 28, 20, 2, 0, 42, 480), (8, 0, 79, 0, 0, 0, 204, 83), (20, 12, 78, 30, 26, 0, 161, 114), (7, 5, 85, 24, 0, 0, 93, 251), (0, 1, 35, 21, 8, 0, 1, 34), (10, 6, 45, 32, 0, 0, 155, 395), (20, 0, 126, 41, 18, 0, 130, 252), (1, 2, 21, 19, 16, 22, 111, 284), (3, 4, 55, 17, 20, 76, 120, 101), (12, 8, 46, 21, 0, 0, 99, 460), (9, 4, 55, 16, 5, 0, 91, 213), (4, 0, 118, 26, 49, 1, 246, 516), (7, 1, 38, 22, 5, 40, 50, 363), (5, 0, 33, 27, 38, 61, 152, 179), (1, 0, 42, 17, 30, 35, 123, 292), (5, 0, 58, 23, 11, 34, 99, 148), (2, 1, 20, 17, 6, 63, 15, 237), (2, 2, 72, 21, 0, 0, 85, 308), (4, 0, 29, 20, 25, 124, 186, 214), (50, 2, 57, 0, 0, 0, 7, 431), (3, 2, 38, 10, 21, 67, 165, 285), (17, 14, 113, 16, 23, 0, 123, 88), (41, 1, 73, 10, 0, 0, 63, 376), (3, 5, 24, 20, 21, 41, 96, 203), (30, 10, 86, 29, 41, 132, 163, 467), (51, 9, 72, 23, 26, 32, 55, 265), (27, 9, 58, 22, 15, 28, 12, 399), (5, 1, 9, 16, 0, 0, 17, 238), (18, 8, 12, 21, 33, 21, 140, 386), (16, 5, 26, 26, 23, 0, 72, 127), (13, 10, 53, 38, 0, 0, 37, 469), (0, 0, 62, 12, 6, 67, 17, 260), (1, 0, 12, 9, 3, 10, 74, 137), (4, 0, 35, 17, 29, 66, 155, 338), (17, 8, 58, 0, 0, 0, 94, 66), (6, 6, 92, 26, 34, 86, 228, 323), (7, 1, 82, 28, 33, 0, 197, 341), (1, 0, 75, 21, 31, 0, 120, 54), (1, 0, 57, 19, 20, 0, 175, 128), (29, 7, 74, 33, 0, 0, 93, 87), (3, 4, 52, 17, 0, 0, 85, 17), (38, 0, 75, 29, 20, 0, 69, 102), (8, 2, 43, 27, 38, 115, 124, 388), (10, 7, 52, 25, 10, 70, 35, 269), (18, 8, 64, 23, 31, 45, 55, 48), (42, 4, 70, 31, 24, 0, 76, 240), (14, 3, 96, 21, 23, 159, 142, 191), (8, 0, 61, 32, 30, 0, 139, 76), (7, 4, 23, 13, 15, 21, 74, 165), (2, 0, 22, 28, 24, 78, 169, 104), (10, 0, 83, 0, 0, 0, 217, 352), (3, 0, 73, 20, 35, 136, 203, 204), (0, 1, 77, 16, 34, 174, 192, 305), (37, 0, 111, 26, 25, 139, 231, 483), (7, 4, 37, 22, 10, 0, 53, 155), (46, 8, 130, 27, 0, 0, 57, 314), (3, 2, 21, 18, 21, 37, 155, 351), (21, 2, 27, 33, 23, 0, 122, 153), (12, 4, 37, 20, 31, 0, 117, 33), (24, 4, 63, 21, 11, 77, 85, 481), (1, 3, 18, 0, 0, 0, 0, 57), (45, 6, 104, 23, 0, 0, 62, 163), (9, 5, 48, 20, 0, 0, 56, 153), (4, 2, 19, 22, 8, 46, 95, 312), (34, 7, 131, 21, 26, 89, 48, 49), (18, 6, 92, 23, 25, 117, 88, 433), (0, 2, 55, 33, 12, 41, 49, 167), (7, 3, 22, 22, 25, 0, 159, 135), (20, 6, 0, 20, 34, 0, 177, 395), (20, 7, 32, 17, 18, 49, 121, 402), (19, 3, 34, 26, 32, 0, 160, 109), (17, 10, 13, 28, 0, 0, 121, 132), (14, 0, 118, 33, 19, 59, 152, 168), (0, 1, 68, 14, 16, 103, 82, 377), (0, 2, 22, 8, 16, 46, 98, 464), (43, 8, 58, 26, 0, 0, 47, 234), (25, 12, 22, 22, 24, 0, 91, 158), (0, 0, 77, 16, 10, 124, 19, 85), (37, 9, 29, 20, 0, 0, 39, 79), (1, 2, 29, 16, 0, 0, 69, 298), (3, 3, 37, 10, 12, 55, 53, 40), (7, 3, 101, 21, 11, 67, 107, 136), (32, 9, 83, 32, 27, 99, 97, 414), (30, 7, 63, 31, 0, 0, 163, 163), (20, 13, 14, 14, 0, 0, 117, 63), (39, 6, 67, 33, 1, 158, 7, 328), (4, 2, 8, 21, 25, 37, 47, 68), (5, 3, 62, 27, 26, 83, 120, 164), (5, 6, 52, 0, 0, 0, 0, 70), (24, 9, 68, 21, 0, 0, 129, 360), (3, 3, 63, 13, 0, 0, 107, 38), (0, 3, 25, 14, 11, 0, 17, 256), (0, 1, 35, 17, 12, 51, 1, 159), (3, 3, 54, 23, 8, 67, 59, 10), (1, 0, 55, 19, 24, 113, 101, 281), (10, 0, 49, 18, 0, 0, 43, 364), (1, 2, 60, 14, 11, 68, 92, 389), (3, 0, 45, 25, 0, 0, 222, 375), (8, 1, 24, 19, 45, 36, 197, 451), (10, 6, 29, 0, 0, 0, 92, 287), (3, 1, 15, 12, 23, 28, 121, 492), (2, 4, 70, 0, 0, 0, 118, 161), (25, 0, 43, 33, 0, 0, 90, 76), (46, 0, 3, 14, 0, 0, 16, 401), (2, 0, 65, 27, 30, 124, 150, 420), (11, 3, 67, 34, 42, 94, 151, 464), (22, 8, 38, 23, 33, 125, 181, 365), (6, 3, 66, 22, 18, 114, 113, 313), (35, 10, 28, 30, 25, 0, 136, 427), (4, 4, 22, 33, 16, 28, 182, 45), (8, 1, 26, 26, 22, 46, 109, 204), (16, 8, 123, 33, 28, 127, 132, 244), (32, 5, 124, 25, 20, 123, 214, 470), (7, 4, 69, 20, 14, 100, 119, 46), (29, 1, 102, 28, 36, 38, 117, 188), (16, 4, 126, 44, 24, 0, 81, 373), (0, 1, 54, 21, 21, 0, 70, 82), (4, 3, 22, 20, 23, 68, 108, 333), (45, 6, 52, 32, 0, 0, 74, 117), (2, 1, 26, 16, 17, 17, 93, 243), (7, 1, 22, 17, 16, 73, 156, 271), (16, 7, 62, 21, 26, 125, 52, 47), (9, 1, 35, 21, 33, 0, 168, 91), (37, 8, 48, 25, 0, 0, 74, 108), (21, 11, 41, 20, 33, 0, 229, 17), (14, 11, 23, 23, 0, 0, 95, 160), (33, 6, 63, 25, 0, 0, 125, 14), (7, 0, 134, 19, 25, 143, 197, 288), (3, 1, 25, 20, 27, 47, 163, 228), (11, 6, 37, 14, 12, 26, 65, 284), (6, 0, 29, 27, 0, 0, 113, 339), (1, 2, 33, 10, 7, 57, 57, 408), (0, 1, 37, 22, 23, 4, 173, 236), (25, 6, 30, 16, 25, 79, 109, 2), (16, 4, 92, 22, 22, 79, 106, 186), (12, 0, 59, 19, 23, 99, 130, 81), (18, 3, 16, 21, 0, 0, 114, 138), (0, 2, 68, 37, 0, 0, 24, 136), (1, 3, 49, 13, 24, 17, 89, 247), (1, 2, 36, 14, 10, 76, 134, 77), (2, 1, 81, 31, 23, 160, 95, 447), (4, 1, 57, 5, 40, 34, 142, 144), (14, 6, 46, 5, 13, 83, 37, 423), (0, 2, 56, 27, 0, 0, 208, 378), (15, 10, 71, 20, 0, 0, 66, 115), (41, 2, 133, 21, 50, 0, 134, 325), (0, 0, 89, 33, 39, 0, 201, 208), (6, 6, 47, 14, 20, 0, 47, 84), (41, 12, 59, 26, 10, 0, 61, 128), (21, 8, 38, 25, 0, 0, 174, 71), (31, 8, 62, 25, 17, 182, 83, 376), (1, 1, 31, 12, 4, 0, 23, 239), (20, 8, 81, 19, 0, 0, 136, 20), (8, 6, 41, 19, 0, 0, 40, 119), (31, 3, 114, 31, 20, 95, 121, 482), (4, 0, 11, 0, 0, 0, 14, 189), (24, 11, 49, 29, 33, 0, 233, 452), (3, 2, 50, 26, 43, 86, 181, 58), (23, 3, 70, 27, 0, 0, 131, 229), (4, 2, 20, 9, 15, 73, 81, 509), (13, 6, 61, 22, 38, 129, 123, 399), (1, 0, 125, 28, 7, 112, 109, 374), (25, 0, 7, 25, 0, 0, 222, 74), (0, 1, 27, 1, 12, 7, 74, 317), (17, 1, 111, 23, 0, 0, 155, 3), (5, 1, 47, 3, 11, 76, 28, 232), (3, 1, 46, 32, 12, 0, 67, 227), (7, 6, 34, 0, 0, 0, 34, 71), (9, 1, 62, 23, 29, 0, 74, 7), (33, 7, 88, 26, 22, 79, 139, 377), (15, 4, 121, 0, 0, 0, 80, 88), (0, 1, 62, 14, 25, 0, 145, 294), (1, 1, 119, 26, 35, 151, 187, 493), (4, 1, 30, 16, 18, 14, 6, 274), (6, 0, 90, 28, 32, 142, 198, 138), (2, 1, 49, 16, 6, 109, 37, 27), (3, 3, 44, 10, 14, 96, 102, 153), (15, 3, 112, 13, 15, 118, 118, 334), (19, 7, 106, 32, 35, 156, 169, 417), (5, 6, 43, 27, 21, 0, 114, 443), (29, 11, 76, 23, 19, 88, 148, 316), (6, 3, 44, 22, 0, 0, 54, 85), (9, 6, 55, 37, 0, 0, 83, 43), (2, 2, 8, 16, 6, 2, 10, 126), (29, 9, 50, 28, 17, 0, 78, 495), (3, 0, 57, 0, 0, 0, 113, 29), (7, 2, 50, 31, 35, 98, 171, 116), (7, 2, 30, 25, 13, 0, 39, 508), (24, 6, 121, 35, 0, 0, 193, 505), (0, 0, 32, 21, 20, 73, 213, 194), (0, 2, 46, 17, 0, 0, 101, 44), (8, 4, 28, 32, 40, 26, 164, 202), (0, 0, 63, 20, 0, 0, 44, 84), (0, 0, 70, 26, 0, 0, 113, 221), (24, 5, 66, 27, 0, 0, 133, 32), (0, 4, 32, 18, 15, 0, 44, 35), (13, 7, 52, 17, 0, 0, 70, 398), (3, 0, 40, 26, 33, 59, 132, 109), (2, 2, 49, 14, 0, 0, 58, 190), (1, 1, 66, 28, 10, 110, 71, 12), (10, 10, 30, 16, 0, 0, 55, 53), (17, 13, 42, 22, 0, 0, 105, 268), (27, 5, 42, 23, 0, 0, 84, 39), (2, 2, 32, 25, 11, 37, 107, 359), (11, 7, 35, 25, 25, 60, 194, 440), (7, 1, 38, 23, 5, 19, 6, 36), (6, 0, 40, 31, 10, 67, 88, 379), (3, 4, 66, 21, 0, 0, 130, 162), (29, 6, 85, 27, 0, 0, 89, 61), (10, 4, 28, 0, 0, 0, 76, 342), (6, 3, 41, 22, 23, 93, 72, 396), (9, 2, 95, 23, 28, 170, 181, 23), (12, 1, 105, 23, 10, 88, 31, 258), (1, 0, 117, 8, 29, 97, 165, 263), (21, 11, 74, 29, 28, 83, 79, 129), (2, 0, 45, 14, 18, 0, 60, 22), (2, 1, 29, 10, 18, 66, 49, 105), (6, 1, 55, 14, 16, 68, 125, 269), (7, 5, 61, 23, 33, 47, 128, 137), (6, 2, 58, 10, 0, 0, 64, 263), (1, 1, 44, 21, 21, 85, 129, 30), (4, 2, 93, 9, 20, 178, 174, 111), (1, 2, 39, 13, 28, 59, 17, 41), (20, 1, 58, 27, 41, 120, 176, 484), (30, 11, 65, 42, 0, 0, 177, 71), (6, 3, 18, 28, 24, 40, 129, 496), (33, 10, 100, 29, 0, 0, 73, 65), (1, 1, 135, 25, 36, 0, 208, 502), (22, 8, 105, 42, 39, 130, 163, 51), (19, 9, 83, 27, 39, 83, 166, 354), (19, 6, 53, 14, 32, 0, 124, 115), (3, 1, 50, 27, 38, 84, 135, 90), (49, 4, 83, 28, 11, 0, 114, 106), (19, 10, 49, 21, 20, 0, 71, 29), (22, 6, 36, 13, 26, 114, 127, 247), (24, 9, 92, 26, 23, 66, 102, 50), (28, 6, 103, 20, 19, 102, 123, 353), (0, 1, 37, 13, 3, 0, 51, 314), (26, 10, 8, 42, 16, 21, 142, 148), (1, 3, 61, 39, 28, 133, 245, 444), (47, 8, 29, 28, 0, 0, 143, 331), (10, 6, 131, 21, 0, 0, 102, 177), (32, 9, 94, 31, 0, 0, 45, 101), (4, 0, 31, 14, 0, 0, 140, 132), (4, 3, 59, 9, 0, 0, 147, 18), (2, 2, 39, 13, 10, 139, 39, 345), (1, 2, 2, 12, 21, 18, 39, 181), (5, 0, 100, 25, 29, 0, 238, 203), (1, 0, 33, 17, 32, 67, 219, 205), (6, 4, 63, 27, 0, 0, 112, 305), (48, 5, 74, 28, 0, 0, 0, 355), (4, 2, 67, 23, 19, 122, 120, 333), (1, 3, 68, 17, 0, 0, 28, 168), (8, 1, 45, 8, 12, 0, 79, 64), (2, 1, 78, 23, 19, 108, 38, 429), (25, 1, 82, 28, 39, 108, 228, 183), (13, 8, 45, 27, 0, 0, 43, 438), (23, 13, 96, 45, 0, 0, 203, 126), (2, 2, 59, 21, 25, 63, 178, 446), (22, 7, 67, 20, 42, 78, 172, 253), (4, 2, 28, 14, 0, 0, 32, 72), (22, 7, 80, 33, 17, 174, 98, 19), (10, 3, 107, 23, 12, 78, 93, 136), (1, 0, 37, 0, 0, 0, 47, 122), (7, 4, 65, 32, 4, 94, 132, 337), (5, 4, 56, 21, 0, 0, 218, 449), (5, 2, 60, 25, 20, 120, 146, 275), (28, 6, 63, 26, 24, 0, 72, 321), (31, 1, 106, 32, 22, 0, 137, 450), (20, 2, 67, 0, 0, 0, 172, 163), (6, 4, 48, 25, 13, 66, 80, 13), (7, 6, 18, 27, 29, 0, 185, 60), (9, 10, 53, 0, 0, 0, 0, 130), (1, 2, 65, 6, 14, 161, 131, 59), (24, 9, 102, 26, 0, 0, 117, 35), (2, 2, 31, 17, 25, 98, 167, 370), (3, 3, 96, 17, 6, 166, 105, 156), (19, 5, 64, 26, 20, 5, 90, 253), (17, 10, 67, 16, 29, 0, 196, 254), (0, 0, 72, 13, 13, 150, 60, 197), (11, 3, 40, 23, 0, 0, 89, 14), (13, 7, 124, 8, 26, 167, 126, 428), (10, 3, 111, 26, 32, 112, 125, 465), (35, 10, 32, 22, 11, 0, 28, 335), (3, 1, 46, 14, 39, 107, 142, 237), (31, 5, 35, 25, 20, 0, 143, 212), (13, 4, 21, 31, 12, 0, 88, 170), (0, 1, 52, 19, 29, 120, 168, 151), (21, 1, 87, 20, 22, 80, 88, 195), (21, 5, 55, 31, 23, 67, 178, 120), (24, 1, 49, 35, 0, 0, 117, 134), (17, 4, 50, 26, 33, 0, 181, 107), (4, 1, 54, 26, 22, 108, 148, 283), (1, 0, 79, 29, 19, 0, 113, 250), (1, 2, 113, 32, 0, 0, 26, 176), (1, 2, 30, 9, 0, 0, 95, 29), (13, 3, 68, 26, 16, 49, 80, 173), (1, 8, 58, 31, 0, 0, 80, 128), (3, 2, 112, 32, 30, 76, 218, 357), (1, 2, 44, 12, 20, 99, 86, 245), (32, 2, 43, 24, 0, 0, 30, 318), (7, 4, 33, 14, 25, 0, 141, 147), (0, 0, 64, 31, 20, 76, 70, 295), (21, 8, 6, 22, 16, 0, 109, 338), (0, 2, 37, 14, 10, 98, 153, 261), (21, 1, 40, 23, 0, 0, 182, 154), (27, 11, 58, 27, 30, 92, 203, 416), (5, 3, 40, 5, 13, 62, 101, 227), (1, 1, 47, 13, 11, 74, 81, 92), (24, 9, 78, 35, 0, 0, 116, 400), (18, 13, 91, 32, 30, 86, 191, 485), (25, 12, 38, 29, 26, 67, 94, 279), (6, 1, 85, 35, 34, 0, 237, 200), (11, 1, 19, 23, 34, 29, 230, 475), (15, 3, 124, 21, 15, 120, 151, 233), (29, 6, 100, 16, 0, 0, 40, 61), (1, 4, 74, 21, 0, 0, 105, 486), (7, 1, 59, 26, 32, 44, 177, 130), (4, 3, 46, 16, 17, 0, 56, 96), (5, 0, 119, 32, 37, 177, 211, 95), (24, 8, 92, 26, 25, 0, 113, 255), (16, 1, 66, 32, 32, 70, 152, 471), (18, 7, 75, 33, 34, 0, 109, 220), (31, 0, 61, 22, 0, 0, 150, 127), (5, 1, 44, 25, 0, 0, 162, 76), (45, 6, 127, 34, 0, 0, 142, 142), (1, 2, 26, 13, 19, 3, 80, 412), (22, 9, 108, 23, 24, 0, 215, 230), (12, 9, 27, 16, 0, 0, 23, 30), (42, 10, 39, 25, 41, 108, 118, 55), (6, 2, 60, 21, 20, 0, 155, 187), (9, 5, 59, 22, 16, 71, 58, 115), (26, 1, 64, 14, 0, 0, 95, 195), (2, 1, 31, 21, 24, 0, 98, 169)]\n"
          ]
        }
      ]
    },
    {
      "cell_type": "code",
      "source": [
        "#Import Gaussian Naive Bayes model\n",
        "from sklearn.naive_bayes import GaussianNB\n",
        "\n",
        "#Create a Gaussian Classifier\n",
        "model = GaussianNB()\n",
        "\n",
        "# Train the model using the training sets\n",
        "model.fit(features[:10],label[:10])\n",
        "\n",
        "#Predict Output\n",
        "predicted= model.predict(features[10:])\n",
        "print(\"Predicted Value:\", predicted)"
      ],
      "metadata": {
        "colab": {
          "base_uri": "https://localhost:8080/"
        },
        "id": "bney9frgQqKp",
        "outputId": "3cda7e26-de47-4c9b-c3f7-d3c330455155"
      },
      "execution_count": null,
      "outputs": [
        {
          "output_type": "stream",
          "name": "stdout",
          "text": [
            "Predicted Value: [0 1 1 1 1 0 1 0 1 1 1 1 1 0 1 1 1 1 1 1 1 1 0 0 1 1 1 1 1 1 1 1 1 1 1 1 1\n",
            " 1 1 0 1 0 0 1 1 0 1 1 1 1 0 1 1 1 1 0 1 1 0 1 1 1 1 1 0 0 1 0 1 0 0 0 1 0\n",
            " 1 1 1 0 1 0 0 1 1 1 1 1 0 0 0 1 1 0 0 0 1 1 0 1 0 0 1 1 0 0 1 1 0 1 0 0 1\n",
            " 0 1 1 0 1 1 0 1 1 1 1 1 1 1 1 1 1 1 1 1 1 0 1 1 1 1 1 1 0 1 1 1 1 1 1 1 1\n",
            " 0 1 1 1 1 0 1 1 1 1 0 1 0 1 1 1 0 1 1 1 1 1 0 1 0 0 1 1 1 1 1 1 0 1 1 1 1\n",
            " 1 0 1 1 1 1 1 1 0 1 0 1 1 0 1 0 1 1 1 1 1 1 1 1 1 1 1 0 1 1 0 0 1 1 1 1 1\n",
            " 1 0 0 1 1 1 1 1 0 1 1 1 1 1 1 1 1 0 1 0 0 0 1 1 1 0 1 1 1 1 1 1 0 1 1 1 0\n",
            " 0 1 0 1 1 1 1 0 0 1 1 1 1 1 1 1 1 1 1 0 1 1 1 1 1 1 1 1 1 1 1 1 1 1 1 1 1\n",
            " 1 1 1 1 1 1 1 1 1 0 0 1 1 1 1 0 0 1 0 1 1 1 1 0 1 0 1 1 0 1 1 1 1 1 1 1 1\n",
            " 0 1 1 1 0 0 1 0 0 1 0 1 1 1 1 1 1 1 1 1 1 1 1 0 0 0 1 1 1 1 0 1 1 0 1 1 1\n",
            " 1 0 1 1 0 0 1 1 1 1 1 1 1 1 1 1 1 0 0 1 0 1 1 0 1 1 1 0 1 1 1 1 1 0 1 1 1\n",
            " 1 1 0 1 1 1 0 1 1 0 1 1 1 0 1 0 0 1 1 1 1 0 1 1 0 0 1 0 1 1 1 1 0 0 1 1 1\n",
            " 1 1 1 0 1 1 1 0 1 0 1 1 0 1 0 1 1 0 0 1 0 1 1 1 1 1 1 0 0 1 1 1 1 1 0 1 1\n",
            " 1 0 1 0 1 0 1 1 1 0 0 1 1 1 0 1 1 1 1 1 1 1 0 0 1 1 1 0 1 0 1 0 1 0 0 0 0\n",
            " 1 1 1 1 1 0 1 0 1 1 1 1 1 1 1 0 0 1 1 1 1 1 0 1 1 0 1 1 0 1 1 0 1 1 1 0 1\n",
            " 1 1 1 1 1 0 0 0 0 1 1 1 1 0 1 1 0 1 1 1 0 1 0 1 0 1 1 1 1 1 1 1 0 1 0 0 0\n",
            " 0 1 1 1 1 0 1 0 0 1 1 1 1 0 0 0 1 0 1 1 1 1 0 1 0 0 1 0 1 0 0 1 0 1 1 1 1\n",
            " 0 1 0 1 1 1 1 1 1 1 0 0 1 1 0 0 1 0 1 1 1 1 1 1 1 1 1 1 0 1 1 1 0 1 1 1 1\n",
            " 1 0 0 1 0 1 1 1 1 1 0 0 1 1 1 1 1 1 0 1 1 0 1 1 1 1 1 1 0 0 0 1 1 1 1 1 1\n",
            " 1 0 1 1 1 1 1 0 1 1 1 1 1 1 1 1 0 1 0 1 1 1 0 1 1 1 1 1 0 0 1 1 1 1 1 1 1\n",
            " 1 1 0 1 1 1 1 1 0 1 1 1 0 1 0 0 1 0]\n"
          ]
        }
      ]
    },
    {
      "cell_type": "code",
      "source": [
        "class MultiColumnLabelEncoder:\n",
        "    def __init__(self,columns = None):\n",
        "        self.columns = columns # array of column names to encode\n",
        "\n",
        "    def fit(self,X,y=None):\n",
        "        return self # not relevant here\n",
        "\n",
        "    def transform(self,X):\n",
        "        '''\n",
        "        Transforms columns of X specified in self.columns using\n",
        "        LabelEncoder(). If no columns specified, transforms all\n",
        "        columns in X.\n",
        "        '''\n",
        "        output = X.copy()\n",
        "        if self.columns is not None:\n",
        "            for col in self.columns:\n",
        "                output[col] = preprocessing.LabelEncoder().fit_transform(output[col])\n",
        "        else:\n",
        "            for colname,col in output.iteritems():\n",
        "                output[colname] = preprocessing.LabelEncoder().fit_transform(col)\n",
        "        return output\n",
        "\n",
        "    def fit_transform(self,X,y=None):\n",
        "        return self.fit(X,y).transform(X)"
      ],
      "metadata": {
        "id": "b4DurRF9SCvt"
      },
      "execution_count": null,
      "outputs": []
    },
    {
      "cell_type": "code",
      "source": [
        "mul_col_label_encoder = MultiColumnLabelEncoder()\n",
        "x_data = mul_col_label_encoder.fit_transform(df)\n",
        "x_data"
      ],
      "metadata": {
        "colab": {
          "base_uri": "https://localhost:8080/",
          "height": 460
        },
        "id": "E8QqjXN7SEA5",
        "outputId": "6560a766-e830-41b8-a64c-305d68eeb1f7"
      },
      "execution_count": null,
      "outputs": [
        {
          "output_type": "stream",
          "name": "stderr",
          "text": [
            "<ipython-input-339-d7d0e0700a40>:19: FutureWarning: iteritems is deprecated and will be removed in a future version. Use .items instead.\n",
            "  for colname,col in output.iteritems():\n"
          ]
        },
        {
          "output_type": "execute_result",
          "data": {
            "text/plain": [
              "     Pregnancies  Glucose  BloodPressure  SkinThickness  Insulin  BMI  \\\n",
              "0              6       86             22             28        0  123   \n",
              "1              1       23             19             22        0   62   \n",
              "2              8      121             17              0        0   30   \n",
              "3              1       27             19             16       62   77   \n",
              "4              0       75              4             28      102  209   \n",
              "..           ...      ...            ...            ...      ...  ...   \n",
              "763           10       39             25             41      108  118   \n",
              "764            2       60             21             20        0  155   \n",
              "765            5       59             22             16       71   58   \n",
              "766            1       64             14              0        0   95   \n",
              "767            1       31             21             24        0   98   \n",
              "\n",
              "     DiabetesPedigreeFunction  Age  Outcome  \n",
              "0                         350   29        1  \n",
              "1                         196   10        0  \n",
              "2                         368   11        1  \n",
              "3                          53    0        0  \n",
              "4                         514   12        1  \n",
              "..                        ...  ...      ...  \n",
              "763                        55   42        0  \n",
              "764                       187    6        0  \n",
              "765                       115    9        0  \n",
              "766                       195   26        1  \n",
              "767                       169    2        0  \n",
              "\n",
              "[768 rows x 9 columns]"
            ],
            "text/html": [
              "\n",
              "\n",
              "  <div id=\"df-f2a27781-455a-4ea1-b4e1-9a7f5e378c54\">\n",
              "    <div class=\"colab-df-container\">\n",
              "      <div>\n",
              "<style scoped>\n",
              "    .dataframe tbody tr th:only-of-type {\n",
              "        vertical-align: middle;\n",
              "    }\n",
              "\n",
              "    .dataframe tbody tr th {\n",
              "        vertical-align: top;\n",
              "    }\n",
              "\n",
              "    .dataframe thead th {\n",
              "        text-align: right;\n",
              "    }\n",
              "</style>\n",
              "<table border=\"1\" class=\"dataframe\">\n",
              "  <thead>\n",
              "    <tr style=\"text-align: right;\">\n",
              "      <th></th>\n",
              "      <th>Pregnancies</th>\n",
              "      <th>Glucose</th>\n",
              "      <th>BloodPressure</th>\n",
              "      <th>SkinThickness</th>\n",
              "      <th>Insulin</th>\n",
              "      <th>BMI</th>\n",
              "      <th>DiabetesPedigreeFunction</th>\n",
              "      <th>Age</th>\n",
              "      <th>Outcome</th>\n",
              "    </tr>\n",
              "  </thead>\n",
              "  <tbody>\n",
              "    <tr>\n",
              "      <th>0</th>\n",
              "      <td>6</td>\n",
              "      <td>86</td>\n",
              "      <td>22</td>\n",
              "      <td>28</td>\n",
              "      <td>0</td>\n",
              "      <td>123</td>\n",
              "      <td>350</td>\n",
              "      <td>29</td>\n",
              "      <td>1</td>\n",
              "    </tr>\n",
              "    <tr>\n",
              "      <th>1</th>\n",
              "      <td>1</td>\n",
              "      <td>23</td>\n",
              "      <td>19</td>\n",
              "      <td>22</td>\n",
              "      <td>0</td>\n",
              "      <td>62</td>\n",
              "      <td>196</td>\n",
              "      <td>10</td>\n",
              "      <td>0</td>\n",
              "    </tr>\n",
              "    <tr>\n",
              "      <th>2</th>\n",
              "      <td>8</td>\n",
              "      <td>121</td>\n",
              "      <td>17</td>\n",
              "      <td>0</td>\n",
              "      <td>0</td>\n",
              "      <td>30</td>\n",
              "      <td>368</td>\n",
              "      <td>11</td>\n",
              "      <td>1</td>\n",
              "    </tr>\n",
              "    <tr>\n",
              "      <th>3</th>\n",
              "      <td>1</td>\n",
              "      <td>27</td>\n",
              "      <td>19</td>\n",
              "      <td>16</td>\n",
              "      <td>62</td>\n",
              "      <td>77</td>\n",
              "      <td>53</td>\n",
              "      <td>0</td>\n",
              "      <td>0</td>\n",
              "    </tr>\n",
              "    <tr>\n",
              "      <th>4</th>\n",
              "      <td>0</td>\n",
              "      <td>75</td>\n",
              "      <td>4</td>\n",
              "      <td>28</td>\n",
              "      <td>102</td>\n",
              "      <td>209</td>\n",
              "      <td>514</td>\n",
              "      <td>12</td>\n",
              "      <td>1</td>\n",
              "    </tr>\n",
              "    <tr>\n",
              "      <th>...</th>\n",
              "      <td>...</td>\n",
              "      <td>...</td>\n",
              "      <td>...</td>\n",
              "      <td>...</td>\n",
              "      <td>...</td>\n",
              "      <td>...</td>\n",
              "      <td>...</td>\n",
              "      <td>...</td>\n",
              "      <td>...</td>\n",
              "    </tr>\n",
              "    <tr>\n",
              "      <th>763</th>\n",
              "      <td>10</td>\n",
              "      <td>39</td>\n",
              "      <td>25</td>\n",
              "      <td>41</td>\n",
              "      <td>108</td>\n",
              "      <td>118</td>\n",
              "      <td>55</td>\n",
              "      <td>42</td>\n",
              "      <td>0</td>\n",
              "    </tr>\n",
              "    <tr>\n",
              "      <th>764</th>\n",
              "      <td>2</td>\n",
              "      <td>60</td>\n",
              "      <td>21</td>\n",
              "      <td>20</td>\n",
              "      <td>0</td>\n",
              "      <td>155</td>\n",
              "      <td>187</td>\n",
              "      <td>6</td>\n",
              "      <td>0</td>\n",
              "    </tr>\n",
              "    <tr>\n",
              "      <th>765</th>\n",
              "      <td>5</td>\n",
              "      <td>59</td>\n",
              "      <td>22</td>\n",
              "      <td>16</td>\n",
              "      <td>71</td>\n",
              "      <td>58</td>\n",
              "      <td>115</td>\n",
              "      <td>9</td>\n",
              "      <td>0</td>\n",
              "    </tr>\n",
              "    <tr>\n",
              "      <th>766</th>\n",
              "      <td>1</td>\n",
              "      <td>64</td>\n",
              "      <td>14</td>\n",
              "      <td>0</td>\n",
              "      <td>0</td>\n",
              "      <td>95</td>\n",
              "      <td>195</td>\n",
              "      <td>26</td>\n",
              "      <td>1</td>\n",
              "    </tr>\n",
              "    <tr>\n",
              "      <th>767</th>\n",
              "      <td>1</td>\n",
              "      <td>31</td>\n",
              "      <td>21</td>\n",
              "      <td>24</td>\n",
              "      <td>0</td>\n",
              "      <td>98</td>\n",
              "      <td>169</td>\n",
              "      <td>2</td>\n",
              "      <td>0</td>\n",
              "    </tr>\n",
              "  </tbody>\n",
              "</table>\n",
              "<p>768 rows × 9 columns</p>\n",
              "</div>\n",
              "      <button class=\"colab-df-convert\" onclick=\"convertToInteractive('df-f2a27781-455a-4ea1-b4e1-9a7f5e378c54')\"\n",
              "              title=\"Convert this dataframe to an interactive table.\"\n",
              "              style=\"display:none;\">\n",
              "\n",
              "  <svg xmlns=\"http://www.w3.org/2000/svg\" height=\"24px\"viewBox=\"0 0 24 24\"\n",
              "       width=\"24px\">\n",
              "    <path d=\"M0 0h24v24H0V0z\" fill=\"none\"/>\n",
              "    <path d=\"M18.56 5.44l.94 2.06.94-2.06 2.06-.94-2.06-.94-.94-2.06-.94 2.06-2.06.94zm-11 1L8.5 8.5l.94-2.06 2.06-.94-2.06-.94L8.5 2.5l-.94 2.06-2.06.94zm10 10l.94 2.06.94-2.06 2.06-.94-2.06-.94-.94-2.06-.94 2.06-2.06.94z\"/><path d=\"M17.41 7.96l-1.37-1.37c-.4-.4-.92-.59-1.43-.59-.52 0-1.04.2-1.43.59L10.3 9.45l-7.72 7.72c-.78.78-.78 2.05 0 2.83L4 21.41c.39.39.9.59 1.41.59.51 0 1.02-.2 1.41-.59l7.78-7.78 2.81-2.81c.8-.78.8-2.07 0-2.86zM5.41 20L4 18.59l7.72-7.72 1.47 1.35L5.41 20z\"/>\n",
              "  </svg>\n",
              "      </button>\n",
              "\n",
              "\n",
              "\n",
              "    <div id=\"df-cbb844cb-d026-4499-8cc4-c1c3f4f725eb\">\n",
              "      <button class=\"colab-df-quickchart\" onclick=\"quickchart('df-cbb844cb-d026-4499-8cc4-c1c3f4f725eb')\"\n",
              "              title=\"Suggest charts.\"\n",
              "              style=\"display:none;\">\n",
              "\n",
              "<svg xmlns=\"http://www.w3.org/2000/svg\" height=\"24px\"viewBox=\"0 0 24 24\"\n",
              "     width=\"24px\">\n",
              "    <g>\n",
              "        <path d=\"M19 3H5c-1.1 0-2 .9-2 2v14c0 1.1.9 2 2 2h14c1.1 0 2-.9 2-2V5c0-1.1-.9-2-2-2zM9 17H7v-7h2v7zm4 0h-2V7h2v10zm4 0h-2v-4h2v4z\"/>\n",
              "    </g>\n",
              "</svg>\n",
              "      </button>\n",
              "    </div>\n",
              "\n",
              "<style>\n",
              "  .colab-df-quickchart {\n",
              "    background-color: #E8F0FE;\n",
              "    border: none;\n",
              "    border-radius: 50%;\n",
              "    cursor: pointer;\n",
              "    display: none;\n",
              "    fill: #1967D2;\n",
              "    height: 32px;\n",
              "    padding: 0 0 0 0;\n",
              "    width: 32px;\n",
              "  }\n",
              "\n",
              "  .colab-df-quickchart:hover {\n",
              "    background-color: #E2EBFA;\n",
              "    box-shadow: 0px 1px 2px rgba(60, 64, 67, 0.3), 0px 1px 3px 1px rgba(60, 64, 67, 0.15);\n",
              "    fill: #174EA6;\n",
              "  }\n",
              "\n",
              "  [theme=dark] .colab-df-quickchart {\n",
              "    background-color: #3B4455;\n",
              "    fill: #D2E3FC;\n",
              "  }\n",
              "\n",
              "  [theme=dark] .colab-df-quickchart:hover {\n",
              "    background-color: #434B5C;\n",
              "    box-shadow: 0px 1px 3px 1px rgba(0, 0, 0, 0.15);\n",
              "    filter: drop-shadow(0px 1px 2px rgba(0, 0, 0, 0.3));\n",
              "    fill: #FFFFFF;\n",
              "  }\n",
              "</style>\n",
              "\n",
              "    <script>\n",
              "      async function quickchart(key) {\n",
              "        const containerElement = document.querySelector('#' + key);\n",
              "        const charts = await google.colab.kernel.invokeFunction(\n",
              "            'suggestCharts', [key], {});\n",
              "      }\n",
              "    </script>\n",
              "\n",
              "      <script>\n",
              "\n",
              "function displayQuickchartButton(domScope) {\n",
              "  let quickchartButtonEl =\n",
              "    domScope.querySelector('#df-cbb844cb-d026-4499-8cc4-c1c3f4f725eb button.colab-df-quickchart');\n",
              "  quickchartButtonEl.style.display =\n",
              "    google.colab.kernel.accessAllowed ? 'block' : 'none';\n",
              "}\n",
              "\n",
              "        displayQuickchartButton(document);\n",
              "      </script>\n",
              "      <style>\n",
              "    .colab-df-container {\n",
              "      display:flex;\n",
              "      flex-wrap:wrap;\n",
              "      gap: 12px;\n",
              "    }\n",
              "\n",
              "    .colab-df-convert {\n",
              "      background-color: #E8F0FE;\n",
              "      border: none;\n",
              "      border-radius: 50%;\n",
              "      cursor: pointer;\n",
              "      display: none;\n",
              "      fill: #1967D2;\n",
              "      height: 32px;\n",
              "      padding: 0 0 0 0;\n",
              "      width: 32px;\n",
              "    }\n",
              "\n",
              "    .colab-df-convert:hover {\n",
              "      background-color: #E2EBFA;\n",
              "      box-shadow: 0px 1px 2px rgba(60, 64, 67, 0.3), 0px 1px 3px 1px rgba(60, 64, 67, 0.15);\n",
              "      fill: #174EA6;\n",
              "    }\n",
              "\n",
              "    [theme=dark] .colab-df-convert {\n",
              "      background-color: #3B4455;\n",
              "      fill: #D2E3FC;\n",
              "    }\n",
              "\n",
              "    [theme=dark] .colab-df-convert:hover {\n",
              "      background-color: #434B5C;\n",
              "      box-shadow: 0px 1px 3px 1px rgba(0, 0, 0, 0.15);\n",
              "      filter: drop-shadow(0px 1px 2px rgba(0, 0, 0, 0.3));\n",
              "      fill: #FFFFFF;\n",
              "    }\n",
              "  </style>\n",
              "\n",
              "      <script>\n",
              "        const buttonEl =\n",
              "          document.querySelector('#df-f2a27781-455a-4ea1-b4e1-9a7f5e378c54 button.colab-df-convert');\n",
              "        buttonEl.style.display =\n",
              "          google.colab.kernel.accessAllowed ? 'block' : 'none';\n",
              "\n",
              "        async function convertToInteractive(key) {\n",
              "          const element = document.querySelector('#df-f2a27781-455a-4ea1-b4e1-9a7f5e378c54');\n",
              "          const dataTable =\n",
              "            await google.colab.kernel.invokeFunction('convertToInteractive',\n",
              "                                                     [key], {});\n",
              "          if (!dataTable) return;\n",
              "\n",
              "          const docLinkHtml = 'Like what you see? Visit the ' +\n",
              "            '<a target=\"_blank\" href=https://colab.research.google.com/notebooks/data_table.ipynb>data table notebook</a>'\n",
              "            + ' to learn more about interactive tables.';\n",
              "          element.innerHTML = '';\n",
              "          dataTable['output_type'] = 'display_data';\n",
              "          await google.colab.output.renderOutput(dataTable, element);\n",
              "          const docLink = document.createElement('div');\n",
              "          docLink.innerHTML = docLinkHtml;\n",
              "          element.appendChild(docLink);\n",
              "        }\n",
              "      </script>\n",
              "    </div>\n",
              "  </div>\n"
            ]
          },
          "metadata": {},
          "execution_count": 340
        }
      ]
    },
    {
      "cell_type": "code",
      "source": [
        "X_train = x_data.drop('Outcome', axis = 1).values\n",
        "X_train"
      ],
      "metadata": {
        "colab": {
          "base_uri": "https://localhost:8080/"
        },
        "id": "F8vz_T7pSGIH",
        "outputId": "d29c71df-f9b0-4071-c861-46a733e11b18"
      },
      "execution_count": null,
      "outputs": [
        {
          "output_type": "execute_result",
          "data": {
            "text/plain": [
              "array([[  6,  86,  22, ..., 123, 350,  29],\n",
              "       [  1,  23,  19, ...,  62, 196,  10],\n",
              "       [  8, 121,  17, ...,  30, 368,  11],\n",
              "       ...,\n",
              "       [  5,  59,  22, ...,  58, 115,   9],\n",
              "       [  1,  64,  14, ...,  95, 195,  26],\n",
              "       [  1,  31,  21, ...,  98, 169,   2]])"
            ]
          },
          "metadata": {},
          "execution_count": 341
        }
      ]
    },
    {
      "cell_type": "code",
      "source": [
        "y_train = x_data['Outcome'].values\n",
        "y_train"
      ],
      "metadata": {
        "colab": {
          "base_uri": "https://localhost:8080/"
        },
        "id": "o6CDvnyMSInu",
        "outputId": "07451597-f5d3-4e85-dee7-01c0f67fcdf9"
      },
      "execution_count": null,
      "outputs": [
        {
          "output_type": "execute_result",
          "data": {
            "text/plain": [
              "array([1, 0, 1, 0, 1, 0, 1, 0, 1, 1, 0, 1, 0, 1, 1, 1, 1, 1, 0, 1, 0, 0,\n",
              "       1, 1, 1, 1, 1, 0, 0, 0, 0, 1, 0, 0, 0, 0, 0, 1, 1, 1, 0, 0, 0, 1,\n",
              "       0, 1, 0, 0, 1, 0, 0, 0, 0, 1, 0, 0, 1, 0, 0, 0, 0, 1, 0, 0, 1, 0,\n",
              "       1, 0, 0, 0, 1, 0, 1, 0, 0, 0, 0, 0, 1, 0, 0, 0, 0, 0, 1, 0, 0, 0,\n",
              "       1, 0, 0, 0, 0, 1, 0, 0, 0, 0, 0, 1, 1, 0, 0, 0, 0, 0, 0, 0, 0, 1,\n",
              "       1, 1, 0, 0, 1, 1, 1, 0, 0, 0, 1, 0, 0, 0, 1, 1, 0, 0, 1, 1, 1, 1,\n",
              "       1, 0, 0, 0, 0, 0, 0, 0, 0, 0, 0, 1, 0, 0, 0, 0, 0, 0, 0, 0, 1, 0,\n",
              "       1, 1, 0, 0, 0, 1, 0, 0, 0, 0, 1, 1, 0, 0, 0, 0, 1, 1, 0, 0, 0, 1,\n",
              "       0, 1, 0, 1, 0, 0, 0, 0, 0, 1, 1, 1, 1, 1, 0, 0, 1, 1, 0, 1, 0, 1,\n",
              "       1, 1, 0, 0, 0, 0, 0, 0, 1, 1, 0, 1, 0, 0, 0, 1, 1, 1, 1, 0, 1, 1,\n",
              "       1, 1, 0, 0, 0, 0, 0, 1, 0, 0, 1, 1, 0, 0, 0, 1, 1, 1, 1, 0, 0, 0,\n",
              "       1, 1, 0, 1, 0, 0, 0, 0, 0, 0, 0, 0, 1, 1, 0, 0, 0, 1, 0, 1, 0, 0,\n",
              "       1, 0, 1, 0, 0, 1, 1, 0, 0, 0, 0, 0, 1, 0, 0, 0, 1, 0, 0, 1, 1, 0,\n",
              "       0, 1, 0, 0, 0, 1, 1, 1, 0, 0, 1, 0, 1, 0, 1, 1, 0, 1, 0, 0, 1, 0,\n",
              "       1, 1, 0, 0, 1, 0, 1, 0, 0, 1, 0, 1, 0, 1, 1, 1, 0, 0, 1, 0, 1, 0,\n",
              "       0, 0, 1, 0, 0, 0, 0, 1, 1, 1, 0, 0, 0, 0, 0, 0, 0, 0, 0, 1, 0, 0,\n",
              "       0, 0, 0, 1, 1, 1, 0, 1, 1, 0, 0, 1, 0, 0, 1, 0, 0, 1, 1, 0, 0, 0,\n",
              "       0, 1, 0, 0, 1, 0, 0, 0, 0, 0, 0, 0, 1, 1, 1, 0, 0, 1, 0, 0, 1, 0,\n",
              "       0, 1, 0, 1, 1, 0, 1, 0, 1, 0, 1, 0, 1, 1, 0, 0, 0, 0, 1, 1, 0, 1,\n",
              "       0, 1, 0, 0, 0, 0, 1, 1, 0, 1, 0, 1, 0, 0, 0, 0, 0, 1, 0, 0, 0, 0,\n",
              "       1, 0, 0, 1, 1, 1, 0, 0, 1, 0, 0, 1, 0, 0, 0, 1, 0, 0, 1, 0, 0, 0,\n",
              "       0, 0, 0, 0, 0, 0, 1, 0, 0, 0, 0, 0, 0, 0, 1, 0, 0, 0, 1, 0, 0, 0,\n",
              "       1, 1, 0, 0, 0, 0, 0, 0, 0, 1, 0, 0, 0, 0, 1, 0, 0, 0, 1, 0, 0, 0,\n",
              "       1, 0, 0, 0, 1, 0, 0, 0, 0, 1, 1, 0, 0, 0, 0, 0, 0, 1, 0, 0, 0, 0,\n",
              "       0, 0, 0, 0, 0, 0, 0, 1, 0, 0, 0, 1, 1, 1, 1, 0, 0, 1, 1, 0, 0, 0,\n",
              "       0, 0, 0, 0, 0, 0, 0, 0, 0, 0, 1, 1, 0, 0, 0, 0, 0, 0, 0, 1, 0, 0,\n",
              "       0, 0, 0, 0, 0, 1, 0, 1, 1, 0, 0, 0, 1, 0, 1, 0, 1, 0, 1, 0, 1, 0,\n",
              "       0, 1, 0, 0, 1, 0, 0, 0, 0, 1, 1, 0, 1, 0, 0, 0, 0, 1, 1, 0, 1, 0,\n",
              "       0, 0, 1, 1, 0, 0, 0, 0, 0, 0, 0, 0, 0, 0, 1, 0, 0, 0, 0, 1, 0, 0,\n",
              "       1, 0, 0, 0, 1, 0, 0, 0, 1, 1, 1, 0, 0, 0, 0, 0, 0, 1, 0, 0, 0, 1,\n",
              "       0, 1, 1, 1, 1, 0, 1, 1, 0, 0, 0, 0, 0, 0, 0, 1, 1, 0, 1, 0, 0, 1,\n",
              "       0, 1, 0, 0, 0, 0, 0, 1, 0, 1, 0, 1, 0, 1, 1, 0, 0, 0, 0, 1, 1, 0,\n",
              "       0, 0, 1, 0, 1, 1, 0, 0, 1, 0, 0, 1, 1, 0, 0, 1, 0, 0, 1, 0, 0, 0,\n",
              "       0, 0, 0, 0, 1, 1, 1, 0, 0, 0, 0, 0, 0, 1, 1, 0, 0, 1, 0, 0, 1, 0,\n",
              "       1, 1, 1, 0, 0, 1, 1, 1, 0, 1, 0, 1, 0, 1, 0, 0, 0, 0, 1, 0])"
            ]
          },
          "metadata": {},
          "execution_count": 342
        }
      ]
    },
    {
      "cell_type": "code",
      "source": [
        "#Import Gaussian Naive Bayes model\n",
        "from sklearn.naive_bayes import GaussianNB\n",
        "\n",
        "#Create a Gaussian Classifier\n",
        "model = GaussianNB()\n",
        "\n",
        "# Train the model using the training sets\n",
        "model.fit(X_train[:10],y_train[:10])\n",
        "\n",
        "#Predict Output\n",
        "predicted= model.predict(X_train[10:])\n",
        "print(\"Predicted Value:\", predicted)"
      ],
      "metadata": {
        "colab": {
          "base_uri": "https://localhost:8080/"
        },
        "id": "lvux_EnLSLoR",
        "outputId": "69084c07-0ae3-416e-e01c-d62ed3eb4732"
      },
      "execution_count": null,
      "outputs": [
        {
          "output_type": "stream",
          "name": "stdout",
          "text": [
            "Predicted Value: [0 1 1 1 1 0 1 0 1 1 1 1 1 0 1 1 1 1 1 1 1 1 0 0 1 1 1 1 1 1 1 1 1 1 1 1 1\n",
            " 1 1 0 1 0 0 1 1 0 1 1 1 1 0 1 1 1 1 0 1 1 0 1 1 1 1 1 0 0 1 0 1 0 0 0 1 0\n",
            " 1 1 1 0 1 0 0 1 1 1 1 1 0 0 0 1 1 0 0 0 1 1 0 1 0 0 1 1 0 0 1 1 0 1 0 0 1\n",
            " 0 1 1 0 1 1 0 1 1 1 1 1 1 1 1 1 1 1 1 1 1 0 1 1 1 1 1 1 0 1 1 1 1 1 1 1 1\n",
            " 0 1 1 1 1 0 1 1 1 1 0 1 0 1 1 1 0 1 1 1 1 1 0 1 0 0 1 1 1 1 1 1 0 1 1 1 1\n",
            " 1 0 1 1 1 1 1 1 0 1 0 1 1 0 1 0 1 1 1 1 1 1 1 1 1 1 1 0 1 1 0 0 1 1 1 1 1\n",
            " 1 0 0 1 1 1 1 1 0 1 1 1 1 1 1 1 1 0 1 0 0 0 1 1 1 0 1 1 1 1 1 1 0 1 1 1 0\n",
            " 0 1 0 1 1 1 1 0 0 1 1 1 1 1 1 1 1 1 1 0 1 1 1 1 1 1 1 1 1 1 1 1 1 1 1 1 1\n",
            " 1 1 1 1 1 1 1 1 1 0 0 1 1 1 1 0 0 1 0 1 1 1 1 0 1 0 1 1 0 1 1 1 1 1 1 1 1\n",
            " 0 1 1 1 0 0 1 0 0 1 0 1 1 1 1 1 1 1 1 1 1 1 1 0 0 0 1 1 1 1 0 1 1 0 1 1 1\n",
            " 1 0 1 1 0 0 1 1 1 1 1 1 1 1 1 1 1 0 0 1 0 1 1 0 1 1 1 0 1 1 1 1 1 0 1 1 1\n",
            " 1 1 0 1 1 1 0 1 1 0 1 1 1 0 1 0 0 1 1 1 1 0 1 1 0 0 1 0 1 1 1 1 0 0 1 1 1\n",
            " 1 1 1 0 1 1 1 0 1 0 1 1 0 1 0 1 1 0 0 1 0 1 1 1 1 1 1 0 0 1 1 1 1 1 0 1 1\n",
            " 1 0 1 0 1 0 1 1 1 0 0 1 1 1 0 1 1 1 1 1 1 1 0 0 1 1 1 0 1 0 1 0 1 0 0 0 0\n",
            " 1 1 1 1 1 0 1 0 1 1 1 1 1 1 1 0 0 1 1 1 1 1 0 1 1 0 1 1 0 1 1 0 1 1 1 0 1\n",
            " 1 1 1 1 1 0 0 0 0 1 1 1 1 0 1 1 0 1 1 1 0 1 0 1 0 1 1 1 1 1 1 1 0 1 0 0 0\n",
            " 0 1 1 1 1 0 1 0 0 1 1 1 1 0 0 0 1 0 1 1 1 1 0 1 0 0 1 0 1 0 0 1 0 1 1 1 1\n",
            " 0 1 0 1 1 1 1 1 1 1 0 0 1 1 0 0 1 0 1 1 1 1 1 1 1 1 1 1 0 1 1 1 0 1 1 1 1\n",
            " 1 0 0 1 0 1 1 1 1 1 0 0 1 1 1 1 1 1 0 1 1 0 1 1 1 1 1 1 0 0 0 1 1 1 1 1 1\n",
            " 1 0 1 1 1 1 1 0 1 1 1 1 1 1 1 1 0 1 0 1 1 1 0 1 1 1 1 1 0 0 1 1 1 1 1 1 1\n",
            " 1 1 0 1 1 1 1 1 0 1 1 1 0 1 0 0 1 0]\n"
          ]
        }
      ]
    },
    {
      "cell_type": "code",
      "source": [
        "df_drug = pd.read_csv('diabetes_data.csv')\n",
        "df_drug.head()"
      ],
      "metadata": {
        "colab": {
          "base_uri": "https://localhost:8080/",
          "height": 206
        },
        "id": "kUAei8WPSM4Q",
        "outputId": "f8c02363-2bfe-4ef0-ad4b-ad1612383273"
      },
      "execution_count": null,
      "outputs": [
        {
          "output_type": "execute_result",
          "data": {
            "text/plain": [
              "   Pregnancies  Glucose  BloodPressure  SkinThickness  Insulin   BMI  \\\n",
              "0            6      148             72             35        0  33.6   \n",
              "1            1       85             66             29        0  26.6   \n",
              "2            8      183             64              0        0  23.3   \n",
              "3            1       89             66             23       94  28.1   \n",
              "4            0      137             40             35      168  43.1   \n",
              "\n",
              "   DiabetesPedigreeFunction  Age  Outcome  \n",
              "0                     0.627   50        1  \n",
              "1                     0.351   31        0  \n",
              "2                     0.672   32        1  \n",
              "3                     0.167   21        0  \n",
              "4                     2.288   33        1  "
            ],
            "text/html": [
              "\n",
              "\n",
              "  <div id=\"df-79bf8ece-1035-4b25-8b49-255268d077a8\">\n",
              "    <div class=\"colab-df-container\">\n",
              "      <div>\n",
              "<style scoped>\n",
              "    .dataframe tbody tr th:only-of-type {\n",
              "        vertical-align: middle;\n",
              "    }\n",
              "\n",
              "    .dataframe tbody tr th {\n",
              "        vertical-align: top;\n",
              "    }\n",
              "\n",
              "    .dataframe thead th {\n",
              "        text-align: right;\n",
              "    }\n",
              "</style>\n",
              "<table border=\"1\" class=\"dataframe\">\n",
              "  <thead>\n",
              "    <tr style=\"text-align: right;\">\n",
              "      <th></th>\n",
              "      <th>Pregnancies</th>\n",
              "      <th>Glucose</th>\n",
              "      <th>BloodPressure</th>\n",
              "      <th>SkinThickness</th>\n",
              "      <th>Insulin</th>\n",
              "      <th>BMI</th>\n",
              "      <th>DiabetesPedigreeFunction</th>\n",
              "      <th>Age</th>\n",
              "      <th>Outcome</th>\n",
              "    </tr>\n",
              "  </thead>\n",
              "  <tbody>\n",
              "    <tr>\n",
              "      <th>0</th>\n",
              "      <td>6</td>\n",
              "      <td>148</td>\n",
              "      <td>72</td>\n",
              "      <td>35</td>\n",
              "      <td>0</td>\n",
              "      <td>33.6</td>\n",
              "      <td>0.627</td>\n",
              "      <td>50</td>\n",
              "      <td>1</td>\n",
              "    </tr>\n",
              "    <tr>\n",
              "      <th>1</th>\n",
              "      <td>1</td>\n",
              "      <td>85</td>\n",
              "      <td>66</td>\n",
              "      <td>29</td>\n",
              "      <td>0</td>\n",
              "      <td>26.6</td>\n",
              "      <td>0.351</td>\n",
              "      <td>31</td>\n",
              "      <td>0</td>\n",
              "    </tr>\n",
              "    <tr>\n",
              "      <th>2</th>\n",
              "      <td>8</td>\n",
              "      <td>183</td>\n",
              "      <td>64</td>\n",
              "      <td>0</td>\n",
              "      <td>0</td>\n",
              "      <td>23.3</td>\n",
              "      <td>0.672</td>\n",
              "      <td>32</td>\n",
              "      <td>1</td>\n",
              "    </tr>\n",
              "    <tr>\n",
              "      <th>3</th>\n",
              "      <td>1</td>\n",
              "      <td>89</td>\n",
              "      <td>66</td>\n",
              "      <td>23</td>\n",
              "      <td>94</td>\n",
              "      <td>28.1</td>\n",
              "      <td>0.167</td>\n",
              "      <td>21</td>\n",
              "      <td>0</td>\n",
              "    </tr>\n",
              "    <tr>\n",
              "      <th>4</th>\n",
              "      <td>0</td>\n",
              "      <td>137</td>\n",
              "      <td>40</td>\n",
              "      <td>35</td>\n",
              "      <td>168</td>\n",
              "      <td>43.1</td>\n",
              "      <td>2.288</td>\n",
              "      <td>33</td>\n",
              "      <td>1</td>\n",
              "    </tr>\n",
              "  </tbody>\n",
              "</table>\n",
              "</div>\n",
              "      <button class=\"colab-df-convert\" onclick=\"convertToInteractive('df-79bf8ece-1035-4b25-8b49-255268d077a8')\"\n",
              "              title=\"Convert this dataframe to an interactive table.\"\n",
              "              style=\"display:none;\">\n",
              "\n",
              "  <svg xmlns=\"http://www.w3.org/2000/svg\" height=\"24px\"viewBox=\"0 0 24 24\"\n",
              "       width=\"24px\">\n",
              "    <path d=\"M0 0h24v24H0V0z\" fill=\"none\"/>\n",
              "    <path d=\"M18.56 5.44l.94 2.06.94-2.06 2.06-.94-2.06-.94-.94-2.06-.94 2.06-2.06.94zm-11 1L8.5 8.5l.94-2.06 2.06-.94-2.06-.94L8.5 2.5l-.94 2.06-2.06.94zm10 10l.94 2.06.94-2.06 2.06-.94-2.06-.94-.94-2.06-.94 2.06-2.06.94z\"/><path d=\"M17.41 7.96l-1.37-1.37c-.4-.4-.92-.59-1.43-.59-.52 0-1.04.2-1.43.59L10.3 9.45l-7.72 7.72c-.78.78-.78 2.05 0 2.83L4 21.41c.39.39.9.59 1.41.59.51 0 1.02-.2 1.41-.59l7.78-7.78 2.81-2.81c.8-.78.8-2.07 0-2.86zM5.41 20L4 18.59l7.72-7.72 1.47 1.35L5.41 20z\"/>\n",
              "  </svg>\n",
              "      </button>\n",
              "\n",
              "\n",
              "\n",
              "    <div id=\"df-28a0cefb-e911-452a-9337-87bb584d32c9\">\n",
              "      <button class=\"colab-df-quickchart\" onclick=\"quickchart('df-28a0cefb-e911-452a-9337-87bb584d32c9')\"\n",
              "              title=\"Suggest charts.\"\n",
              "              style=\"display:none;\">\n",
              "\n",
              "<svg xmlns=\"http://www.w3.org/2000/svg\" height=\"24px\"viewBox=\"0 0 24 24\"\n",
              "     width=\"24px\">\n",
              "    <g>\n",
              "        <path d=\"M19 3H5c-1.1 0-2 .9-2 2v14c0 1.1.9 2 2 2h14c1.1 0 2-.9 2-2V5c0-1.1-.9-2-2-2zM9 17H7v-7h2v7zm4 0h-2V7h2v10zm4 0h-2v-4h2v4z\"/>\n",
              "    </g>\n",
              "</svg>\n",
              "      </button>\n",
              "    </div>\n",
              "\n",
              "<style>\n",
              "  .colab-df-quickchart {\n",
              "    background-color: #E8F0FE;\n",
              "    border: none;\n",
              "    border-radius: 50%;\n",
              "    cursor: pointer;\n",
              "    display: none;\n",
              "    fill: #1967D2;\n",
              "    height: 32px;\n",
              "    padding: 0 0 0 0;\n",
              "    width: 32px;\n",
              "  }\n",
              "\n",
              "  .colab-df-quickchart:hover {\n",
              "    background-color: #E2EBFA;\n",
              "    box-shadow: 0px 1px 2px rgba(60, 64, 67, 0.3), 0px 1px 3px 1px rgba(60, 64, 67, 0.15);\n",
              "    fill: #174EA6;\n",
              "  }\n",
              "\n",
              "  [theme=dark] .colab-df-quickchart {\n",
              "    background-color: #3B4455;\n",
              "    fill: #D2E3FC;\n",
              "  }\n",
              "\n",
              "  [theme=dark] .colab-df-quickchart:hover {\n",
              "    background-color: #434B5C;\n",
              "    box-shadow: 0px 1px 3px 1px rgba(0, 0, 0, 0.15);\n",
              "    filter: drop-shadow(0px 1px 2px rgba(0, 0, 0, 0.3));\n",
              "    fill: #FFFFFF;\n",
              "  }\n",
              "</style>\n",
              "\n",
              "    <script>\n",
              "      async function quickchart(key) {\n",
              "        const containerElement = document.querySelector('#' + key);\n",
              "        const charts = await google.colab.kernel.invokeFunction(\n",
              "            'suggestCharts', [key], {});\n",
              "      }\n",
              "    </script>\n",
              "\n",
              "      <script>\n",
              "\n",
              "function displayQuickchartButton(domScope) {\n",
              "  let quickchartButtonEl =\n",
              "    domScope.querySelector('#df-28a0cefb-e911-452a-9337-87bb584d32c9 button.colab-df-quickchart');\n",
              "  quickchartButtonEl.style.display =\n",
              "    google.colab.kernel.accessAllowed ? 'block' : 'none';\n",
              "}\n",
              "\n",
              "        displayQuickchartButton(document);\n",
              "      </script>\n",
              "      <style>\n",
              "    .colab-df-container {\n",
              "      display:flex;\n",
              "      flex-wrap:wrap;\n",
              "      gap: 12px;\n",
              "    }\n",
              "\n",
              "    .colab-df-convert {\n",
              "      background-color: #E8F0FE;\n",
              "      border: none;\n",
              "      border-radius: 50%;\n",
              "      cursor: pointer;\n",
              "      display: none;\n",
              "      fill: #1967D2;\n",
              "      height: 32px;\n",
              "      padding: 0 0 0 0;\n",
              "      width: 32px;\n",
              "    }\n",
              "\n",
              "    .colab-df-convert:hover {\n",
              "      background-color: #E2EBFA;\n",
              "      box-shadow: 0px 1px 2px rgba(60, 64, 67, 0.3), 0px 1px 3px 1px rgba(60, 64, 67, 0.15);\n",
              "      fill: #174EA6;\n",
              "    }\n",
              "\n",
              "    [theme=dark] .colab-df-convert {\n",
              "      background-color: #3B4455;\n",
              "      fill: #D2E3FC;\n",
              "    }\n",
              "\n",
              "    [theme=dark] .colab-df-convert:hover {\n",
              "      background-color: #434B5C;\n",
              "      box-shadow: 0px 1px 3px 1px rgba(0, 0, 0, 0.15);\n",
              "      filter: drop-shadow(0px 1px 2px rgba(0, 0, 0, 0.3));\n",
              "      fill: #FFFFFF;\n",
              "    }\n",
              "  </style>\n",
              "\n",
              "      <script>\n",
              "        const buttonEl =\n",
              "          document.querySelector('#df-79bf8ece-1035-4b25-8b49-255268d077a8 button.colab-df-convert');\n",
              "        buttonEl.style.display =\n",
              "          google.colab.kernel.accessAllowed ? 'block' : 'none';\n",
              "\n",
              "        async function convertToInteractive(key) {\n",
              "          const element = document.querySelector('#df-79bf8ece-1035-4b25-8b49-255268d077a8');\n",
              "          const dataTable =\n",
              "            await google.colab.kernel.invokeFunction('convertToInteractive',\n",
              "                                                     [key], {});\n",
              "          if (!dataTable) return;\n",
              "\n",
              "          const docLinkHtml = 'Like what you see? Visit the ' +\n",
              "            '<a target=\"_blank\" href=https://colab.research.google.com/notebooks/data_table.ipynb>data table notebook</a>'\n",
              "            + ' to learn more about interactive tables.';\n",
              "          element.innerHTML = '';\n",
              "          dataTable['output_type'] = 'display_data';\n",
              "          await google.colab.output.renderOutput(dataTable, element);\n",
              "          const docLink = document.createElement('div');\n",
              "          docLink.innerHTML = docLinkHtml;\n",
              "          element.appendChild(docLink);\n",
              "        }\n",
              "      </script>\n",
              "    </div>\n",
              "  </div>\n"
            ]
          },
          "metadata": {},
          "execution_count": 344
        }
      ]
    },
    {
      "cell_type": "code",
      "source": [
        "encode_drug = mul_col_label_encoder.fit_transform(df_drug)\n",
        "encode_drug.head()"
      ],
      "metadata": {
        "colab": {
          "base_uri": "https://localhost:8080/",
          "height": 242
        },
        "id": "Cz0anwa8SQ3F",
        "outputId": "537e9d00-498a-45a3-8223-2ec504322c26"
      },
      "execution_count": null,
      "outputs": [
        {
          "output_type": "stream",
          "name": "stderr",
          "text": [
            "<ipython-input-339-d7d0e0700a40>:19: FutureWarning: iteritems is deprecated and will be removed in a future version. Use .items instead.\n",
            "  for colname,col in output.iteritems():\n"
          ]
        },
        {
          "output_type": "execute_result",
          "data": {
            "text/plain": [
              "   Pregnancies  Glucose  BloodPressure  SkinThickness  Insulin  BMI  \\\n",
              "0            6       86             22             28        0  123   \n",
              "1            1       23             19             22        0   62   \n",
              "2            8      121             17              0        0   30   \n",
              "3            1       27             19             16       62   77   \n",
              "4            0       75              4             28      102  209   \n",
              "\n",
              "   DiabetesPedigreeFunction  Age  Outcome  \n",
              "0                       350   29        1  \n",
              "1                       196   10        0  \n",
              "2                       368   11        1  \n",
              "3                        53    0        0  \n",
              "4                       514   12        1  "
            ],
            "text/html": [
              "\n",
              "\n",
              "  <div id=\"df-7c600809-2642-44b6-b18b-f65bb7f51efc\">\n",
              "    <div class=\"colab-df-container\">\n",
              "      <div>\n",
              "<style scoped>\n",
              "    .dataframe tbody tr th:only-of-type {\n",
              "        vertical-align: middle;\n",
              "    }\n",
              "\n",
              "    .dataframe tbody tr th {\n",
              "        vertical-align: top;\n",
              "    }\n",
              "\n",
              "    .dataframe thead th {\n",
              "        text-align: right;\n",
              "    }\n",
              "</style>\n",
              "<table border=\"1\" class=\"dataframe\">\n",
              "  <thead>\n",
              "    <tr style=\"text-align: right;\">\n",
              "      <th></th>\n",
              "      <th>Pregnancies</th>\n",
              "      <th>Glucose</th>\n",
              "      <th>BloodPressure</th>\n",
              "      <th>SkinThickness</th>\n",
              "      <th>Insulin</th>\n",
              "      <th>BMI</th>\n",
              "      <th>DiabetesPedigreeFunction</th>\n",
              "      <th>Age</th>\n",
              "      <th>Outcome</th>\n",
              "    </tr>\n",
              "  </thead>\n",
              "  <tbody>\n",
              "    <tr>\n",
              "      <th>0</th>\n",
              "      <td>6</td>\n",
              "      <td>86</td>\n",
              "      <td>22</td>\n",
              "      <td>28</td>\n",
              "      <td>0</td>\n",
              "      <td>123</td>\n",
              "      <td>350</td>\n",
              "      <td>29</td>\n",
              "      <td>1</td>\n",
              "    </tr>\n",
              "    <tr>\n",
              "      <th>1</th>\n",
              "      <td>1</td>\n",
              "      <td>23</td>\n",
              "      <td>19</td>\n",
              "      <td>22</td>\n",
              "      <td>0</td>\n",
              "      <td>62</td>\n",
              "      <td>196</td>\n",
              "      <td>10</td>\n",
              "      <td>0</td>\n",
              "    </tr>\n",
              "    <tr>\n",
              "      <th>2</th>\n",
              "      <td>8</td>\n",
              "      <td>121</td>\n",
              "      <td>17</td>\n",
              "      <td>0</td>\n",
              "      <td>0</td>\n",
              "      <td>30</td>\n",
              "      <td>368</td>\n",
              "      <td>11</td>\n",
              "      <td>1</td>\n",
              "    </tr>\n",
              "    <tr>\n",
              "      <th>3</th>\n",
              "      <td>1</td>\n",
              "      <td>27</td>\n",
              "      <td>19</td>\n",
              "      <td>16</td>\n",
              "      <td>62</td>\n",
              "      <td>77</td>\n",
              "      <td>53</td>\n",
              "      <td>0</td>\n",
              "      <td>0</td>\n",
              "    </tr>\n",
              "    <tr>\n",
              "      <th>4</th>\n",
              "      <td>0</td>\n",
              "      <td>75</td>\n",
              "      <td>4</td>\n",
              "      <td>28</td>\n",
              "      <td>102</td>\n",
              "      <td>209</td>\n",
              "      <td>514</td>\n",
              "      <td>12</td>\n",
              "      <td>1</td>\n",
              "    </tr>\n",
              "  </tbody>\n",
              "</table>\n",
              "</div>\n",
              "      <button class=\"colab-df-convert\" onclick=\"convertToInteractive('df-7c600809-2642-44b6-b18b-f65bb7f51efc')\"\n",
              "              title=\"Convert this dataframe to an interactive table.\"\n",
              "              style=\"display:none;\">\n",
              "\n",
              "  <svg xmlns=\"http://www.w3.org/2000/svg\" height=\"24px\"viewBox=\"0 0 24 24\"\n",
              "       width=\"24px\">\n",
              "    <path d=\"M0 0h24v24H0V0z\" fill=\"none\"/>\n",
              "    <path d=\"M18.56 5.44l.94 2.06.94-2.06 2.06-.94-2.06-.94-.94-2.06-.94 2.06-2.06.94zm-11 1L8.5 8.5l.94-2.06 2.06-.94-2.06-.94L8.5 2.5l-.94 2.06-2.06.94zm10 10l.94 2.06.94-2.06 2.06-.94-2.06-.94-.94-2.06-.94 2.06-2.06.94z\"/><path d=\"M17.41 7.96l-1.37-1.37c-.4-.4-.92-.59-1.43-.59-.52 0-1.04.2-1.43.59L10.3 9.45l-7.72 7.72c-.78.78-.78 2.05 0 2.83L4 21.41c.39.39.9.59 1.41.59.51 0 1.02-.2 1.41-.59l7.78-7.78 2.81-2.81c.8-.78.8-2.07 0-2.86zM5.41 20L4 18.59l7.72-7.72 1.47 1.35L5.41 20z\"/>\n",
              "  </svg>\n",
              "      </button>\n",
              "\n",
              "\n",
              "\n",
              "    <div id=\"df-3bc531cf-e7f7-43ac-88ba-d867449878f8\">\n",
              "      <button class=\"colab-df-quickchart\" onclick=\"quickchart('df-3bc531cf-e7f7-43ac-88ba-d867449878f8')\"\n",
              "              title=\"Suggest charts.\"\n",
              "              style=\"display:none;\">\n",
              "\n",
              "<svg xmlns=\"http://www.w3.org/2000/svg\" height=\"24px\"viewBox=\"0 0 24 24\"\n",
              "     width=\"24px\">\n",
              "    <g>\n",
              "        <path d=\"M19 3H5c-1.1 0-2 .9-2 2v14c0 1.1.9 2 2 2h14c1.1 0 2-.9 2-2V5c0-1.1-.9-2-2-2zM9 17H7v-7h2v7zm4 0h-2V7h2v10zm4 0h-2v-4h2v4z\"/>\n",
              "    </g>\n",
              "</svg>\n",
              "      </button>\n",
              "    </div>\n",
              "\n",
              "<style>\n",
              "  .colab-df-quickchart {\n",
              "    background-color: #E8F0FE;\n",
              "    border: none;\n",
              "    border-radius: 50%;\n",
              "    cursor: pointer;\n",
              "    display: none;\n",
              "    fill: #1967D2;\n",
              "    height: 32px;\n",
              "    padding: 0 0 0 0;\n",
              "    width: 32px;\n",
              "  }\n",
              "\n",
              "  .colab-df-quickchart:hover {\n",
              "    background-color: #E2EBFA;\n",
              "    box-shadow: 0px 1px 2px rgba(60, 64, 67, 0.3), 0px 1px 3px 1px rgba(60, 64, 67, 0.15);\n",
              "    fill: #174EA6;\n",
              "  }\n",
              "\n",
              "  [theme=dark] .colab-df-quickchart {\n",
              "    background-color: #3B4455;\n",
              "    fill: #D2E3FC;\n",
              "  }\n",
              "\n",
              "  [theme=dark] .colab-df-quickchart:hover {\n",
              "    background-color: #434B5C;\n",
              "    box-shadow: 0px 1px 3px 1px rgba(0, 0, 0, 0.15);\n",
              "    filter: drop-shadow(0px 1px 2px rgba(0, 0, 0, 0.3));\n",
              "    fill: #FFFFFF;\n",
              "  }\n",
              "</style>\n",
              "\n",
              "    <script>\n",
              "      async function quickchart(key) {\n",
              "        const containerElement = document.querySelector('#' + key);\n",
              "        const charts = await google.colab.kernel.invokeFunction(\n",
              "            'suggestCharts', [key], {});\n",
              "      }\n",
              "    </script>\n",
              "\n",
              "      <script>\n",
              "\n",
              "function displayQuickchartButton(domScope) {\n",
              "  let quickchartButtonEl =\n",
              "    domScope.querySelector('#df-3bc531cf-e7f7-43ac-88ba-d867449878f8 button.colab-df-quickchart');\n",
              "  quickchartButtonEl.style.display =\n",
              "    google.colab.kernel.accessAllowed ? 'block' : 'none';\n",
              "}\n",
              "\n",
              "        displayQuickchartButton(document);\n",
              "      </script>\n",
              "      <style>\n",
              "    .colab-df-container {\n",
              "      display:flex;\n",
              "      flex-wrap:wrap;\n",
              "      gap: 12px;\n",
              "    }\n",
              "\n",
              "    .colab-df-convert {\n",
              "      background-color: #E8F0FE;\n",
              "      border: none;\n",
              "      border-radius: 50%;\n",
              "      cursor: pointer;\n",
              "      display: none;\n",
              "      fill: #1967D2;\n",
              "      height: 32px;\n",
              "      padding: 0 0 0 0;\n",
              "      width: 32px;\n",
              "    }\n",
              "\n",
              "    .colab-df-convert:hover {\n",
              "      background-color: #E2EBFA;\n",
              "      box-shadow: 0px 1px 2px rgba(60, 64, 67, 0.3), 0px 1px 3px 1px rgba(60, 64, 67, 0.15);\n",
              "      fill: #174EA6;\n",
              "    }\n",
              "\n",
              "    [theme=dark] .colab-df-convert {\n",
              "      background-color: #3B4455;\n",
              "      fill: #D2E3FC;\n",
              "    }\n",
              "\n",
              "    [theme=dark] .colab-df-convert:hover {\n",
              "      background-color: #434B5C;\n",
              "      box-shadow: 0px 1px 3px 1px rgba(0, 0, 0, 0.15);\n",
              "      filter: drop-shadow(0px 1px 2px rgba(0, 0, 0, 0.3));\n",
              "      fill: #FFFFFF;\n",
              "    }\n",
              "  </style>\n",
              "\n",
              "      <script>\n",
              "        const buttonEl =\n",
              "          document.querySelector('#df-7c600809-2642-44b6-b18b-f65bb7f51efc button.colab-df-convert');\n",
              "        buttonEl.style.display =\n",
              "          google.colab.kernel.accessAllowed ? 'block' : 'none';\n",
              "\n",
              "        async function convertToInteractive(key) {\n",
              "          const element = document.querySelector('#df-7c600809-2642-44b6-b18b-f65bb7f51efc');\n",
              "          const dataTable =\n",
              "            await google.colab.kernel.invokeFunction('convertToInteractive',\n",
              "                                                     [key], {});\n",
              "          if (!dataTable) return;\n",
              "\n",
              "          const docLinkHtml = 'Like what you see? Visit the ' +\n",
              "            '<a target=\"_blank\" href=https://colab.research.google.com/notebooks/data_table.ipynb>data table notebook</a>'\n",
              "            + ' to learn more about interactive tables.';\n",
              "          element.innerHTML = '';\n",
              "          dataTable['output_type'] = 'display_data';\n",
              "          await google.colab.output.renderOutput(dataTable, element);\n",
              "          const docLink = document.createElement('div');\n",
              "          docLink.innerHTML = docLinkHtml;\n",
              "          element.appendChild(docLink);\n",
              "        }\n",
              "      </script>\n",
              "    </div>\n",
              "  </div>\n"
            ]
          },
          "metadata": {},
          "execution_count": 345
        }
      ]
    },
    {
      "cell_type": "code",
      "source": [
        "x_train = encode_drug.drop('Outcome', axis = 1).values\n",
        "y_train = encode_drug['Outcome']"
      ],
      "metadata": {
        "id": "4jlFXJjLSSQx"
      },
      "execution_count": null,
      "outputs": []
    },
    {
      "cell_type": "code",
      "source": [
        "# Import train_test_split function\n",
        "from sklearn.model_selection import train_test_split\n",
        "\n",
        "# Split dataset into training set and test set\n",
        "X_train, X_test, y_train, y_test = train_test_split(x_train, y_train, test_size=0.2,random_state=109) # 70% training and 30% test"
      ],
      "metadata": {
        "id": "nJDtn696SWpM"
      },
      "execution_count": null,
      "outputs": []
    },
    {
      "cell_type": "code",
      "source": [
        "#Import Gaussian Naive Bayes model\n",
        "from sklearn.naive_bayes import GaussianNB\n",
        "\n",
        "#Create a Gaussian Classifier\n",
        "model = GaussianNB()\n",
        "\n",
        "# Train the model using the training sets\n",
        "model.fit(X_train,y_train)\n",
        "\n",
        "#Predict Output\n",
        "predicted= model.predict(X_test)\n",
        "print(\"Predicted Value:\", predicted)"
      ],
      "metadata": {
        "colab": {
          "base_uri": "https://localhost:8080/"
        },
        "id": "cU3ep-VBSZdw",
        "outputId": "d58d19fb-4cfb-49c6-b5d9-b65ca8b0b3ae"
      },
      "execution_count": null,
      "outputs": [
        {
          "output_type": "stream",
          "name": "stdout",
          "text": [
            "Predicted Value: [0 1 1 0 0 0 0 0 1 1 0 0 1 0 1 0 0 0 0 0 0 0 0 1 1 1 1 0 1 0 1 0 0 0 0 0 1\n",
            " 0 0 0 0 0 0 0 0 1 0 1 1 1 0 1 0 1 1 1 1 0 0 1 0 1 0 1 0 0 0 0 0 1 0 0 0 1\n",
            " 1 1 0 0 0 1 0 0 1 0 1 1 1 0 0 1 1 0 0 1 0 0 0 0 0 1 0 0 1 0 1 1 0 0 0 0 0\n",
            " 0 1 1 0 0 0 1 1 1 0 0 0 0 0 0 0 0 0 0 0 0 0 0 0 1 0 0 1 1 0 0 0 1 0 1 1 0\n",
            " 0 1 1 0 1 0]\n"
          ]
        }
      ]
    },
    {
      "cell_type": "code",
      "source": [
        "#Import Gaussian Naive Bayes model\n",
        "from sklearn.naive_bayes import GaussianNB\n",
        "\n",
        "#Create a Gaussian Classifier\n",
        "model = GaussianNB()\n",
        "\n",
        "# Train the model using the training sets\n",
        "model.fit(X_train,y_train)\n",
        "\n",
        "#Predict Output\n",
        "predicted= model.predict(X_test)\n",
        "print(\"Predicted Value:\", predicted)"
      ],
      "metadata": {
        "id": "Hmr8uU30SbCA",
        "outputId": "d35a8380-b011-4047-a539-f39f83f026ea",
        "colab": {
          "base_uri": "https://localhost:8080/"
        }
      },
      "execution_count": null,
      "outputs": [
        {
          "output_type": "stream",
          "name": "stdout",
          "text": [
            "Predicted Value: [0 1 1 0 0 0 0 0 1 1 0 0 1 0 1 0 0 0 0 0 0 0 0 1 1 1 1 0 1 0 1 0 0 0 0 0 1\n",
            " 0 0 0 0 0 0 0 0 1 0 1 1 1 0 1 0 1 1 1 1 0 0 1 0 1 0 1 0 0 0 0 0 1 0 0 0 1\n",
            " 1 1 0 0 0 1 0 0 1 0 1 1 1 0 0 1 1 0 0 1 0 0 0 0 0 1 0 0 1 0 1 1 0 0 0 0 0\n",
            " 0 1 1 0 0 0 1 1 1 0 0 0 0 0 0 0 0 0 0 0 0 0 0 0 1 0 0 1 1 0 0 0 1 0 1 1 0\n",
            " 0 1 1 0 1 0]\n"
          ]
        }
      ]
    },
    {
      "cell_type": "code",
      "source": [
        "#Import scikit-learn metrics module for accuracy calculation\n",
        "from sklearn import metrics\n",
        "\n",
        "# Model Accuracy, how often is the classifier correct?\n",
        "print(\"Accuracy:\",metrics.accuracy_score(y_test, predicted))"
      ],
      "metadata": {
        "id": "unBwcf29Scvv",
        "outputId": "e9f9ba3d-a714-4384-e84e-772ec62ef721",
        "colab": {
          "base_uri": "https://localhost:8080/"
        }
      },
      "execution_count": null,
      "outputs": [
        {
          "output_type": "stream",
          "name": "stdout",
          "text": [
            "Accuracy: 0.7532467532467533\n"
          ]
        }
      ]
    }
  ],
  "metadata": {
    "colab": {
      "provenance": [],
      "gpuType": "T4"
    },
    "kernelspec": {
      "display_name": "Python 3",
      "name": "python3"
    },
    "language_info": {
      "codemirror_mode": {
        "name": "ipython",
        "version": 3
      },
      "file_extension": ".py",
      "mimetype": "text/x-python",
      "name": "python",
      "nbconvert_exporter": "python",
      "pygments_lexer": "ipython3",
      "version": "3.10.11"
    },
    "vscode": {
      "interpreter": {
        "hash": "d2d74ce3e99bc2d991502eaa9ff6878b69f13ebfe616751bd67e96721470575f"
      }
    }
  },
  "nbformat": 4,
  "nbformat_minor": 0
}